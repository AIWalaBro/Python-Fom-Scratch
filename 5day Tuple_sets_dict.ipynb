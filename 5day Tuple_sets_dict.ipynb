{
 "cells": [
  {
   "cell_type": "markdown",
   "id": "52951ef1-6f07-433d-851b-2f40c8a0934f",
   "metadata": {},
   "source": [
    "# Tuples\n",
    "\n",
    "A tuple in Python is similar to a list. The difference between the two is that we cannot change the elements of a tuple once it is assigned whereas we can change the elements of a list.\n",
    "\n",
    "In short, a tuple is an immutable list. A tuple can not be changed in any way once it is created.\n",
    "\n",
    "Characterstics\n",
    "\n",
    "- Ordered\n",
    "- Unchangeble\n",
    "- Allows duplicate"
   ]
  },
  {
   "cell_type": "markdown",
   "id": "a0c19db5-bf00-481e-8c7f-33231586fa18",
   "metadata": {},
   "source": [
    "### Plan of attack\n",
    "\n",
    "- Creating a Tuple\n",
    "- Accessing items \n",
    "- Editing items\n",
    "- Adding items\n",
    "- Deleting items\n",
    "- Operations on Tuples\n",
    "- Tuple Functions"
   ]
  },
  {
   "cell_type": "code",
   "execution_count": 19,
   "id": "9f7a7b90-5a68-4d03-aca7-8dfad72df57d",
   "metadata": {},
   "outputs": [
    {
     "name": "stdout",
     "output_type": "stream",
     "text": [
      "<class 'tuple'>\n",
      "<class 'int'>\n",
      "<class 'tuple'>\n"
     ]
    }
   ],
   "source": [
    "# how to create the sinlge item tuple\n",
    "t1 = ()\n",
    "t2 = (1)\n",
    "print(type(t1))\n",
    "print(type(t2))\n",
    "# can you imagine why this showing like that.\n",
    "# rember evry time when you creating single item tuple you have to give the (,)\n",
    "t3 = (8,)\n",
    "print(type(t3))"
   ]
  },
  {
   "cell_type": "code",
   "execution_count": 8,
   "id": "06d8d5f3-c45a-4026-bbb6-bb1da6f92869",
   "metadata": {},
   "outputs": [
    {
     "name": "stdout",
     "output_type": "stream",
     "text": [
      "(1, 2, 3, 4, 5)\n",
      "(1, 2, 3, 'hello', (5+6j))\n",
      "(1, 2, 3, 4, (6, 7))\n",
      "(1, 2, 3)\n"
     ]
    }
   ],
   "source": [
    "# homo geneous tuple\n",
    "t4 =(1,2,3,4,5)\n",
    "print(t4)\n",
    "# hetero genous tuple\n",
    "t5 = (1,2,3,'hello',5+6j)\n",
    "print(t5)\n",
    "\n",
    "# nested tuple\n",
    "t6 = (1,2,3,4,(6,7))\n",
    "print(t6)\n",
    "      \n",
    "# using type converstion\n",
    "t7 = tuple((1,2,3))\n",
    "print(t7)\n",
    "\n"
   ]
  },
  {
   "cell_type": "markdown",
   "id": "7f7b71b3-b143-44f7-9fbd-99281112ed5f",
   "metadata": {},
   "source": [
    "### Accessing Items\n",
    "\n",
    "- Indexing\n",
    "- Slicing"
   ]
  },
  {
   "cell_type": "code",
   "execution_count": 9,
   "id": "f3cd2a00-75b4-4e7a-9594-9a8e4c40621a",
   "metadata": {},
   "outputs": [
    {
     "name": "stdout",
     "output_type": "stream",
     "text": [
      "(8,)\n",
      "8\n",
      "8\n"
     ]
    }
   ],
   "source": [
    "print(t3)\n",
    "print(t3[0])\n",
    "print(t3[-1])"
   ]
  },
  {
   "cell_type": "code",
   "execution_count": 13,
   "id": "3ca84f13-f96f-4625-a792-00857bf58594",
   "metadata": {},
   "outputs": [
    {
     "name": "stdout",
     "output_type": "stream",
     "text": [
      "(1, 2, 3, 4, (6, 7))\n",
      "6\n"
     ]
    }
   ],
   "source": [
    "print(t6)\n",
    "print(t6[-1][0])"
   ]
  },
  {
   "cell_type": "markdown",
   "id": "e3bcde93-a17e-45fb-956a-a311bf377c4d",
   "metadata": {},
   "source": [
    "# Editing in the tuple"
   ]
  },
  {
   "cell_type": "code",
   "execution_count": 14,
   "id": "7a74b3b2-b91f-4a77-bd74-9972578bba6c",
   "metadata": {},
   "outputs": [
    {
     "name": "stdout",
     "output_type": "stream",
     "text": [
      "(8,)\n"
     ]
    },
    {
     "ename": "TypeError",
     "evalue": "'tuple' object does not support item assignment",
     "output_type": "error",
     "traceback": [
      "\u001b[0;31m---------------------------------------------------------------------------\u001b[0m",
      "\u001b[0;31mTypeError\u001b[0m                                 Traceback (most recent call last)",
      "Cell \u001b[0;32mIn [14], line 2\u001b[0m\n\u001b[1;32m      1\u001b[0m \u001b[38;5;28mprint\u001b[39m(t3)\n\u001b[0;32m----> 2\u001b[0m \u001b[43mt3\u001b[49m\u001b[43m[\u001b[49m\u001b[38;5;241;43m0\u001b[39;49m\u001b[43m]\u001b[49m \u001b[38;5;241m=\u001b[39m \u001b[38;5;241m100\u001b[39m\n",
      "\u001b[0;31mTypeError\u001b[0m: 'tuple' object does not support item assignment"
     ]
    }
   ],
   "source": [
    "print(t3)\n",
    "t3[0] = 100\n",
    "# immutable just like strings"
   ]
  },
  {
   "cell_type": "markdown",
   "id": "87dfdfed-7cef-4da4-b48e-187b037a9850",
   "metadata": {},
   "source": [
    "# Adding elements in the tuple"
   ]
  },
  {
   "cell_type": "code",
   "execution_count": 16,
   "id": "1c674701-abb8-465c-a0c8-c407682d34fc",
   "metadata": {},
   "outputs": [
    {
     "name": "stdout",
     "output_type": "stream",
     "text": [
      "(1, 2, 3, 4, 5)\n"
     ]
    }
   ],
   "source": [
    "print(t4)\n",
    "# adding are not allowed in the tuple because of tuple are mutable data type\n",
    "# in the list you get an lot of function add, insert but here there are no sucha kind of adding functio9n you will get.\n"
   ]
  },
  {
   "cell_type": "markdown",
   "id": "7a047342-93c0-42ae-ab41-6f40c49a5163",
   "metadata": {},
   "source": [
    "# Deleting the element in the tuple\n"
   ]
  },
  {
   "cell_type": "code",
   "execution_count": 20,
   "id": "65a37642-8ab3-467b-81c2-47035b83bf73",
   "metadata": {},
   "outputs": [
    {
     "name": "stdout",
     "output_type": "stream",
     "text": [
      "(8,)\n"
     ]
    },
    {
     "ename": "NameError",
     "evalue": "name 't3' is not defined",
     "output_type": "error",
     "traceback": [
      "\u001b[0;31m---------------------------------------------------------------------------\u001b[0m",
      "\u001b[0;31mNameError\u001b[0m                                 Traceback (most recent call last)",
      "Cell \u001b[0;32mIn [20], line 3\u001b[0m\n\u001b[1;32m      1\u001b[0m \u001b[38;5;28mprint\u001b[39m(t3)\n\u001b[1;32m      2\u001b[0m \u001b[38;5;28;01mdel\u001b[39;00m t3\n\u001b[0;32m----> 3\u001b[0m \u001b[38;5;28mprint\u001b[39m(\u001b[43mt3\u001b[49m)\n",
      "\u001b[0;31mNameError\u001b[0m: name 't3' is not defined"
     ]
    }
   ],
   "source": [
    "print(t3)\n",
    "del t3\n",
    "print(t3)\n",
    "# deletion in the tuple is like that you ca delete whole tuple but you think i will delete as an indexing wise that is not possible into this\n",
    "# lets seee by followign example"
   ]
  },
  {
   "cell_type": "code",
   "execution_count": 22,
   "id": "54fa00ec-6358-48c3-88c8-f351bc792b08",
   "metadata": {},
   "outputs": [
    {
     "ename": "TypeError",
     "evalue": "'tuple' object doesn't support item deletion",
     "output_type": "error",
     "traceback": [
      "\u001b[0;31m---------------------------------------------------------------------------\u001b[0m",
      "\u001b[0;31mTypeError\u001b[0m                                 Traceback (most recent call last)",
      "Cell \u001b[0;32mIn [22], line 1\u001b[0m\n\u001b[0;32m----> 1\u001b[0m \u001b[38;5;28;01mdel\u001b[39;00m t6[\u001b[38;5;241m-\u001b[39m\u001b[38;5;241m1\u001b[39m]\n",
      "\u001b[0;31mTypeError\u001b[0m: 'tuple' object doesn't support item deletion"
     ]
    }
   ],
   "source": [
    "del t6[-1]\n",
    "# see indexing wise deletion not possible into the tuple that why it rhow an error"
   ]
  },
  {
   "cell_type": "markdown",
   "id": "a1fb845e-dbf8-41a8-823b-5eab2efdacba",
   "metadata": {},
   "source": [
    "# Operations on tuple\n",
    "- merging\n",
    "- membership\n",
    "- iteration"
   ]
  },
  {
   "cell_type": "code",
   "execution_count": 23,
   "id": "2bb3489f-2c03-497d-872f-e1cefb896eeb",
   "metadata": {},
   "outputs": [
    {
     "name": "stdout",
     "output_type": "stream",
     "text": [
      "(1, 2, 3, 4, 5, 6, 7, 8)\n",
      "(1, 2, 3, 4, 1, 2, 3, 4, 1, 2, 3, 4)\n",
      "1\n",
      "2\n",
      "3\n",
      "4\n"
     ]
    }
   ],
   "source": [
    "# + and *\n",
    "t1 = (1,2,3,4)\n",
    "t2 = (5,6,7,8)\n",
    "\n",
    "print(t1 + t2)\n",
    "\n",
    "print(t1*3)\n",
    "# membership\n",
    "1 in t1\n",
    "# iteration\n",
    "for i in t1:\n",
    "    print(i)"
   ]
  },
  {
   "cell_type": "markdown",
   "id": "7fae12d4-2efd-46da-988d-c03e22676c93",
   "metadata": {},
   "source": [
    "# Tuple Functions"
   ]
  },
  {
   "cell_type": "code",
   "execution_count": 25,
   "id": "df714d4f-2eaf-4a43-b966-bc9a8be5e632",
   "metadata": {},
   "outputs": [
    {
     "name": "stdout",
     "output_type": "stream",
     "text": [
      "4\n",
      "20\n",
      "1\n",
      "4\n",
      "[4, 3, 2, 1]\n"
     ]
    }
   ],
   "source": [
    "# len/sum/min/max/sorted\n",
    "t = (1,2,3,4)\n",
    "t1 = (1,2,3,4)\n",
    "print(len(t))\n",
    "\n",
    "print(sum(t1+t))\n",
    "\n",
    "print(min(t))\n",
    "\n",
    "print(max(t))\n",
    "\n",
    "print(sorted(t,reverse=True))\n",
    "# by default is gives in the ascending order but when you do reverse = True it gives you the descending order."
   ]
  },
  {
   "cell_type": "markdown",
   "id": "cb91e4ed-0563-4c23-aa93-d3ddd56726dd",
   "metadata": {},
   "source": [
    "# count Function"
   ]
  },
  {
   "cell_type": "code",
   "execution_count": 28,
   "id": "26aa2dbe-b4f0-4bed-87cd-cb255f8293f5",
   "metadata": {},
   "outputs": [
    {
     "name": "stdout",
     "output_type": "stream",
     "text": [
      "1\n",
      "0\n"
     ]
    }
   ],
   "source": [
    "\n",
    "\n",
    "t = (1,2,3,4,5)\n",
    "\n",
    "print(t.count(5))\n",
    "print(t.count(50))"
   ]
  },
  {
   "cell_type": "markdown",
   "id": "d17ffc3b-12bc-451a-b781-65ae321340cd",
   "metadata": {},
   "source": [
    "# Index function"
   ]
  },
  {
   "cell_type": "code",
   "execution_count": 30,
   "id": "0b342f14-fb01-490e-af42-3b578de12319",
   "metadata": {},
   "outputs": [
    {
     "name": "stdout",
     "output_type": "stream",
     "text": [
      "4\n"
     ]
    },
    {
     "ename": "ValueError",
     "evalue": "tuple.index(x): x not in tuple",
     "output_type": "error",
     "traceback": [
      "\u001b[0;31m---------------------------------------------------------------------------\u001b[0m",
      "\u001b[0;31mValueError\u001b[0m                                Traceback (most recent call last)",
      "Cell \u001b[0;32mIn [30], line 2\u001b[0m\n\u001b[1;32m      1\u001b[0m \u001b[38;5;28mprint\u001b[39m(t\u001b[38;5;241m.\u001b[39mindex(\u001b[38;5;241m5\u001b[39m))\n\u001b[0;32m----> 2\u001b[0m \u001b[38;5;28mprint\u001b[39m(\u001b[43mt\u001b[49m\u001b[38;5;241;43m.\u001b[39;49m\u001b[43mindex\u001b[49m\u001b[43m(\u001b[49m\u001b[38;5;241;43m50\u001b[39;49m\u001b[43m)\u001b[49m)\n",
      "\u001b[0;31mValueError\u001b[0m: tuple.index(x): x not in tuple"
     ]
    }
   ],
   "source": [
    "print(t.index(5))\n",
    "print(t.index(50))\n",
    "# but if going to access the index value that are not present into the tuple then it thorwsan error"
   ]
  },
  {
   "cell_type": "markdown",
   "id": "287f4fa7-c1f6-47f4-8485-109dbc666474",
   "metadata": {},
   "source": [
    "### Difference between Lists and Tuples\n",
    "\n",
    "- Syntax\n",
    "- Mutability\n",
    "- Speed\n",
    "- Memory\n",
    "- Built in functionality\n",
    "- Error prone\n",
    "- Usability\n"
   ]
  },
  {
   "cell_type": "code",
   "execution_count": null,
   "id": "04f93285-62fa-458f-b30b-5ba24fbb6a12",
   "metadata": {},
   "outputs": [],
   "source": [
    "# Speed of execution\n",
    "import time \n",
    "\n",
    "L = list(range(100000000))\n",
    "T = tuple(range(100000000))\n",
    "\n",
    "start = time.time()\n",
    "for i in L:\n",
    "  i*5\n",
    "print('List time',time.time()-start)\n",
    "\n",
    "start = time.time()\n",
    "for i in T:\n",
    "  i*5\n",
    "print('Tuple time',time.time()-start)\n",
    "\n",
    "# this program made it for to see the time diffrence between the list and tuple. \n",
    "List time 9.853569507598877\n",
    "Tuple time 8.347511053085327"
   ]
  },
  {
   "cell_type": "code",
   "execution_count": 1,
   "id": "d85cb2af-baae-44a6-bd0c-d3126839c708",
   "metadata": {},
   "outputs": [
    {
     "name": "stdout",
     "output_type": "stream",
     "text": [
      "List size 8056\n",
      "Tuple size 8040\n"
     ]
    }
   ],
   "source": [
    "# memory taking in tuple is less memory consumption compared to the list.\n",
    "import sys\n",
    "\n",
    "L = list(range(1000))\n",
    "T = tuple(range(1000))\n",
    "\n",
    "print('List size',sys.getsizeof(L))\n",
    "print('Tuple size',sys.getsizeof(T))\n"
   ]
  },
  {
   "cell_type": "code",
   "execution_count": 4,
   "id": "5dae28a0-083f-4ecd-9b9c-70a95ad5ee4e",
   "metadata": {},
   "outputs": [
    {
     "name": "stdout",
     "output_type": "stream",
     "text": [
      "[12, 3, 4, 5]\n",
      "[12, 3, 4, 5]\n"
     ]
    }
   ],
   "source": [
    "# what exactly mean by Error prone\n",
    "# explanation:- list having more chnaces to mistake or we can se mistake while doing the coding or debugging \n",
    "# let understand by the example.\n",
    "\n",
    "a =[12,3,4]\n",
    "b=a\n",
    "a.append(5)\n",
    "print(a)\n",
    "print(b)\n",
    "\n",
    "# see we just do the changes in the a but we also get the changes into the variable b so it most chances of error \n",
    "# while coding if your concept is not clear"
   ]
  },
  {
   "cell_type": "code",
   "execution_count": 5,
   "id": "11b2dbb4-0803-49c7-9384-3e3780efdcfd",
   "metadata": {},
   "outputs": [
    {
     "name": "stdout",
     "output_type": "stream",
     "text": [
      "(1, 2, 3, 6)\n",
      "(1, 2, 3)\n"
     ]
    }
   ],
   "source": [
    "# lets see the examples of tuple of error prone\n",
    "c = (1,2,3)\n",
    "d = c\n",
    "c = c + (6,)\n",
    "print(c)\n",
    "print(d)\n",
    "\n",
    "# see we changed into the c and dont any changes into the d that why tuple is an less error as compared to the list."
   ]
  },
  {
   "cell_type": "markdown",
   "id": "139f1e08-7c5c-4452-b75b-6b1fd2964c51",
   "metadata": {},
   "source": [
    "### Why use tuple?\n",
    "- tuple we used where user only read not to give the acess of more chnages where as list used at that point user can do the customize changes.\n",
    "- tuple best example is atm machine where he cannnot much customize"
   ]
  },
  {
   "cell_type": "markdown",
   "id": "85bb54f3-4e08-425e-a93d-5ffd99eb8edf",
   "metadata": {},
   "source": [
    "# Special Syntax"
   ]
  },
  {
   "cell_type": "code",
   "execution_count": 6,
   "id": "180aa3d6-90c7-461c-ad70-0a766c87e0ad",
   "metadata": {},
   "outputs": [
    {
     "name": "stdout",
     "output_type": "stream",
     "text": [
      "1 2 3\n"
     ]
    }
   ],
   "source": [
    "# tuple unpacking\n",
    "a,b,c = (1,2,3)\n",
    "print(a,b,c)"
   ]
  },
  {
   "cell_type": "code",
   "execution_count": 7,
   "id": "1a1feff7-2088-43f7-a241-06970e4d6528",
   "metadata": {},
   "outputs": [
    {
     "ename": "ValueError",
     "evalue": "too many values to unpack (expected 2)",
     "output_type": "error",
     "traceback": [
      "\u001b[0;31m---------------------------------------------------------------------------\u001b[0m",
      "\u001b[0;31mValueError\u001b[0m                                Traceback (most recent call last)",
      "Cell \u001b[0;32mIn [7], line 1\u001b[0m\n\u001b[0;32m----> 1\u001b[0m a,b \u001b[38;5;241m=\u001b[39m (\u001b[38;5;241m1\u001b[39m,\u001b[38;5;241m2\u001b[39m,\u001b[38;5;241m3\u001b[39m)\n\u001b[1;32m      2\u001b[0m \u001b[38;5;28mprint\u001b[39m(a,b)\n",
      "\u001b[0;31mValueError\u001b[0m: too many values to unpack (expected 2)"
     ]
    }
   ],
   "source": [
    "a,b = (1,2,3)\n",
    "print(a,b)\n",
    "# you got an error because of you not declare the same amount of variable taht you allocate the values is tobe"
   ]
  },
  {
   "cell_type": "code",
   "execution_count": 8,
   "id": "a783e427-53cc-4904-9674-4d3d7bb88586",
   "metadata": {},
   "outputs": [
    {
     "name": "stdout",
     "output_type": "stream",
     "text": [
      "2 1\n"
     ]
    }
   ],
   "source": [
    "# swapping the values \n",
    "a = 1\n",
    "b = 2\n",
    "a,b = b,a\n",
    "\n",
    "print(a,b)\n"
   ]
  },
  {
   "cell_type": "code",
   "execution_count": 11,
   "id": "b15cf79f-b666-45e8-a759-63f65f8e7dc3",
   "metadata": {},
   "outputs": [
    {
     "name": "stdout",
     "output_type": "stream",
     "text": [
      "1 2\n",
      "[3, 4, 5, 6]\n"
     ]
    }
   ],
   "source": [
    "# when you allocate the values or you need the values to assign in only 2 variable so you can do liie that\n",
    "a,b,*other= (1,2,3,4,5,6)\n",
    "print(a,b)\n",
    "print(other)"
   ]
  },
  {
   "cell_type": "code",
   "execution_count": 12,
   "id": "6d45edd3-98f7-412e-8ed1-cfb604ebd562",
   "metadata": {},
   "outputs": [
    {
     "data": {
      "text/plain": [
       "<zip at 0x7fa87e688e80>"
      ]
     },
     "execution_count": 12,
     "metadata": {},
     "output_type": "execute_result"
    }
   ],
   "source": [
    "# Zipping the values\n",
    "a =(1,2,3,4)\n",
    "b = (5,6,7,8)\n",
    "zip(a,b)\n"
   ]
  },
  {
   "cell_type": "code",
   "execution_count": 14,
   "id": "e460c465-2c4c-42df-9080-2b5be7e5b851",
   "metadata": {},
   "outputs": [
    {
     "name": "stdout",
     "output_type": "stream",
     "text": [
      "[(1, 5), (2, 6), (3, 7), (4, 8)]\n",
      "((1, 5), (2, 6), (3, 7), (4, 8))\n"
     ]
    }
   ],
   "source": [
    "# so it gives the zip object\n",
    "# and if you wann se  the zip object then converted into the list then you can seee the list of tuples\n",
    "print(list(zip(a,b)))\n",
    "# 2-D tuple\n",
    "print(tuple(zip(a,b)))\n"
   ]
  },
  {
   "cell_type": "markdown",
   "id": "628bc67e-84fb-4c02-af50-6c66436d38ec",
   "metadata": {},
   "source": [
    "# Sets\n",
    "\n",
    "A set is an unordered collection of items. Every set element is unique (no duplicates) and must be immutable (cannot be changed).\n",
    "\n",
    "However, a set itself is mutable. We can add or remove items from it.\n",
    "\n",
    "Sets can also be used to perform mathematical set operations like union, intersection, symmetric difference, etc.\n",
    "\n",
    "Characterstics:\n",
    "- Unordered\n",
    "- Mutable\n",
    "- No Duplicates\n",
    "- Can't contain mutable data types"
   ]
  },
  {
   "cell_type": "markdown",
   "id": "3b2cc215-be61-44f2-8e2a-a6f93707c313",
   "metadata": {},
   "source": [
    "# Creating empty sets"
   ]
  },
  {
   "cell_type": "code",
   "execution_count": 15,
   "id": "89ef0313-2efd-4ec4-a018-5d330245cc14",
   "metadata": {},
   "outputs": [
    {
     "data": {
      "text/plain": [
       "dict"
      ]
     },
     "execution_count": 15,
     "metadata": {},
     "output_type": "execute_result"
    }
   ],
   "source": [
    "a = {}\n",
    "type(a)\n",
    "# so see when you creating the empty set dont gives like that if you write like that it will become an dictionary\n",
    "# so what is the solution behind it?"
   ]
  },
  {
   "cell_type": "code",
   "execution_count": 16,
   "id": "1d39db7a-8ab4-4ba1-9803-2f3abc938b06",
   "metadata": {},
   "outputs": [
    {
     "ename": "SyntaxError",
     "evalue": "invalid syntax (995713337.py, line 1)",
     "output_type": "error",
     "traceback": [
      "\u001b[0;36m  Cell \u001b[0;32mIn [16], line 1\u001b[0;36m\u001b[0m\n\u001b[0;31m    a =set{}\u001b[0m\n\u001b[0m          ^\u001b[0m\n\u001b[0;31mSyntaxError\u001b[0m\u001b[0;31m:\u001b[0m invalid syntax\n"
     ]
    }
   ],
   "source": [
    "a = set{}\n",
    "type(a)\n",
    "# see how i did the silly mistake"
   ]
  },
  {
   "cell_type": "code",
   "execution_count": 17,
   "id": "b7f23c13-7949-463e-bb17-8fd487e9ef8d",
   "metadata": {},
   "outputs": [
    {
     "data": {
      "text/plain": [
       "set"
      ]
     },
     "execution_count": 17,
     "metadata": {},
     "output_type": "execute_result"
    }
   ],
   "source": [
    "a = set()\n",
    "type(a)\n",
    "# yes that the correct way of writing the empty set ..that is type conversion"
   ]
  },
  {
   "cell_type": "code",
   "execution_count": 18,
   "id": "77b86a5f-8905-4e03-807d-4a2011a0c720",
   "metadata": {},
   "outputs": [
    {
     "name": "stdout",
     "output_type": "stream",
     "text": [
      "{1, 2, 3}\n"
     ]
    }
   ],
   "source": [
    "# 1D and 2D\n",
    "s1 = {1,2,3}\n",
    "print(s1)\n"
   ]
  },
  {
   "cell_type": "code",
   "execution_count": 19,
   "id": "19281810-eff6-4e15-9bd8-04bf1d85572e",
   "metadata": {},
   "outputs": [
    {
     "ename": "TypeError",
     "evalue": "unhashable type: 'set'",
     "output_type": "error",
     "traceback": [
      "\u001b[0;31m---------------------------------------------------------------------------\u001b[0m",
      "\u001b[0;31mTypeError\u001b[0m                                 Traceback (most recent call last)",
      "Cell \u001b[0;32mIn [19], line 1\u001b[0m\n\u001b[0;32m----> 1\u001b[0m s2 \u001b[38;5;241m=\u001b[39m {\u001b[38;5;241m1\u001b[39m,\u001b[38;5;241m2\u001b[39m,\u001b[38;5;241m3\u001b[39m,{\u001b[38;5;241m4\u001b[39m,\u001b[38;5;241m5\u001b[39m}}\n\u001b[1;32m      2\u001b[0m \u001b[38;5;28mprint\u001b[39m(s2)\n",
      "\u001b[0;31mTypeError\u001b[0m: unhashable type: 'set'"
     ]
    }
   ],
   "source": [
    "# Can't contain mutable data types \n",
    "s2 = {1,2,3,{4,5}}\n",
    "print(s2)\n",
    "# see why it thorws an error beacuse set not allows the sei inside a set you cannot acess like that  "
   ]
  },
  {
   "cell_type": "code",
   "execution_count": 22,
   "id": "b06d49de-ae24-45ae-920d-845f5a893f7b",
   "metadata": {},
   "outputs": [
    {
     "name": "stdout",
     "output_type": "stream",
     "text": [
      "{1, 4.5, 'hello'}\n"
     ]
    }
   ],
   "source": [
    "# homogenous set\n",
    "s3 = {1,'hello',4.5,True}\n",
    "print(s3)\n",
    "# tell me why set not True?\n",
    "# beacuse python consider the True as an 1 and 1 already present inside the set ,\n",
    "# although set has an property of it not contains duplicates"
   ]
  },
  {
   "cell_type": "code",
   "execution_count": 23,
   "id": "5f1e6471-5a55-4567-b674-b259153a027e",
   "metadata": {},
   "outputs": [
    {
     "name": "stdout",
     "output_type": "stream",
     "text": [
      "{1, 2, 3, 'hello', 5, (1, 2, 3)}\n"
     ]
    }
   ],
   "source": [
    "# heterogenous sets\n",
    "s4 = {1,2,5,3,'hello',(1,2,3)}\n",
    "print(s4)\n",
    "\n",
    "# are you noticed something you wrote in the 1,2,5,3 then 'hello' but while printing the it change his order why this is happend?\n",
    "# explaination:  beacuse set does not followed the order and internally hashing algorithm is running, they decide that which item \n",
    "# in which position have to print\n"
   ]
  },
  {
   "cell_type": "code",
   "execution_count": 24,
   "id": "956306dd-c754-49ec-9219-1aee3bb4ae67",
   "metadata": {},
   "outputs": [
    {
     "name": "stdout",
     "output_type": "stream",
     "text": [
      "{1, 2, 4}\n"
     ]
    }
   ],
   "source": [
    "# by Type conversion\n",
    "a = set([1,2,4])\n",
    "print(a)"
   ]
  },
  {
   "cell_type": "code",
   "execution_count": 25,
   "id": "4c84d50d-85a6-4cc4-ba57-a0ea164ccf36",
   "metadata": {},
   "outputs": [
    {
     "ename": "TypeError",
     "evalue": "unhashable type: 'list'",
     "output_type": "error",
     "traceback": [
      "\u001b[0;31m---------------------------------------------------------------------------\u001b[0m",
      "\u001b[0;31mTypeError\u001b[0m                                 Traceback (most recent call last)",
      "Cell \u001b[0;32mIn [25], line 2\u001b[0m\n\u001b[1;32m      1\u001b[0m \u001b[38;5;66;03m# set can't have mutable items\u001b[39;00m\n\u001b[0;32m----> 2\u001b[0m s6 \u001b[38;5;241m=\u001b[39m {\u001b[38;5;241m1\u001b[39m,\u001b[38;5;241m2\u001b[39m,[\u001b[38;5;241m3\u001b[39m,\u001b[38;5;241m4\u001b[39m]}\n\u001b[1;32m      3\u001b[0m \u001b[38;5;28mprint\u001b[39m(s6)\n",
      "\u001b[0;31mTypeError\u001b[0m: unhashable type: 'list'"
     ]
    }
   ],
   "source": [
    "# set can't have mutable items\n",
    "s6 = {1,2,[3,4]}\n",
    "print(s6)"
   ]
  },
  {
   "cell_type": "markdown",
   "id": "df447fe0-5822-4ed2-8864-50ff786b482c",
   "metadata": {},
   "source": [
    "# Interresting point"
   ]
  },
  {
   "cell_type": "code",
   "execution_count": 26,
   "id": "093ad7d5-4f6f-469b-95e5-1f0c5129337d",
   "metadata": {},
   "outputs": [
    {
     "name": "stdout",
     "output_type": "stream",
     "text": [
      "True\n"
     ]
    }
   ],
   "source": [
    "\n",
    "s1 = {1,2,3}\n",
    "s2 = {3,2,1}\n",
    "\n",
    "print(s1 == s2)\n",
    "# tell me the output?"
   ]
  },
  {
   "cell_type": "markdown",
   "id": "caa02de1-91d3-4766-bd32-279c2fdf7bb3",
   "metadata": {},
   "source": [
    "### Accessing Items"
   ]
  },
  {
   "cell_type": "code",
   "execution_count": 28,
   "id": "3646637c-72ea-4c05-a6b3-7edc7ce9e326",
   "metadata": {},
   "outputs": [
    {
     "ename": "TypeError",
     "evalue": "'set' object is not subscriptable",
     "output_type": "error",
     "traceback": [
      "\u001b[0;31m---------------------------------------------------------------------------\u001b[0m",
      "\u001b[0;31mTypeError\u001b[0m                                 Traceback (most recent call last)",
      "Cell \u001b[0;32mIn [28], line 2\u001b[0m\n\u001b[1;32m      1\u001b[0m s1 \u001b[38;5;241m=\u001b[39m {\u001b[38;5;241m1\u001b[39m,\u001b[38;5;241m2\u001b[39m,\u001b[38;5;241m3\u001b[39m,\u001b[38;5;241m4\u001b[39m}\n\u001b[0;32m----> 2\u001b[0m \u001b[43ms1\u001b[49m\u001b[43m[\u001b[49m\u001b[38;5;241;43m0\u001b[39;49m\u001b[43m:\u001b[49m\u001b[38;5;241;43m3\u001b[39;49m\u001b[43m]\u001b[49m\n",
      "\u001b[0;31mTypeError\u001b[0m: 'set' object is not subscriptable"
     ]
    }
   ],
   "source": [
    "s1 = {1,2,3,4}\n",
    "s1[0:3]\n",
    "\n",
    "# ehy this throwing an error \n",
    "# - beacuse of set are unrodered taht why you can not acess the list via slicng or indexing\n",
    "# - it simply means that ocnce the number entered into the set after that youcan not accesse it"
   ]
  },
  {
   "cell_type": "markdown",
   "id": "d9ed327d-515a-4d1c-bb53-eb098edfc185",
   "metadata": {},
   "source": [
    "### Editing Items"
   ]
  },
  {
   "cell_type": "code",
   "execution_count": 29,
   "id": "270492cd-ae38-40cb-8d65-7ea5de9dc030",
   "metadata": {},
   "outputs": [
    {
     "ename": "TypeError",
     "evalue": "'set' object does not support item assignment",
     "output_type": "error",
     "traceback": [
      "\u001b[0;31m---------------------------------------------------------------------------\u001b[0m",
      "\u001b[0;31mTypeError\u001b[0m                                 Traceback (most recent call last)",
      "Cell \u001b[0;32mIn [29], line 2\u001b[0m\n\u001b[1;32m      1\u001b[0m s1 \u001b[38;5;241m=\u001b[39m {\u001b[38;5;241m1\u001b[39m,\u001b[38;5;241m2\u001b[39m,\u001b[38;5;241m3\u001b[39m,\u001b[38;5;241m4\u001b[39m}\n\u001b[0;32m----> 2\u001b[0m \u001b[43ms1\u001b[49m\u001b[43m[\u001b[49m\u001b[38;5;241;43m0\u001b[39;49m\u001b[43m]\u001b[49m \u001b[38;5;241m=\u001b[39m \u001b[38;5;241m100\u001b[39m\n",
      "\u001b[0;31mTypeError\u001b[0m: 'set' object does not support item assignment"
     ]
    }
   ],
   "source": [
    "s1 = {1,2,3,4}\n",
    "s1[0] = 100\n",
    "# this error occurr beacuse of yuo cannnot do the indexing thats why you cannot access neither you edit the items"
   ]
  },
  {
   "cell_type": "markdown",
   "id": "de274b2f-c9e7-4dfc-9069-05479ac0cea5",
   "metadata": {},
   "source": [
    "#### but good part is taht youcan do adding and dletion into the set."
   ]
  },
  {
   "cell_type": "markdown",
   "id": "5119af3e-04a6-42e9-a82b-ee3d92bdb064",
   "metadata": {},
   "source": [
    "### Adding Items"
   ]
  },
  {
   "cell_type": "code",
   "execution_count": 32,
   "id": "7f6af50f-fa49-4b86-b23d-2fdd2fb2d074",
   "metadata": {},
   "outputs": [
    {
     "name": "stdout",
     "output_type": "stream",
     "text": [
      "{1, 2, 3, 4, 5}\n"
     ]
    }
   ],
   "source": [
    "S = {1,2,3,4}\n",
    "S.add(5)\n",
    "print(S)\n",
    "# you can add sinlge value with the help of add function"
   ]
  },
  {
   "cell_type": "code",
   "execution_count": 34,
   "id": "48c7815b-5d32-45eb-a2be-7cf63b347998",
   "metadata": {},
   "outputs": [
    {
     "name": "stdout",
     "output_type": "stream",
     "text": [
      "{1, 2, 3, 4, 5, 6, 7}\n"
     ]
    }
   ],
   "source": [
    "\n",
    "S.update([5,6,7])\n",
    "print(S)\n",
    "# you can add the multiple values with the help of update function same like as append and extend function in list."
   ]
  },
  {
   "cell_type": "markdown",
   "id": "67869acb-0af3-4c5d-8234-c8a2c0dbf3d5",
   "metadata": {},
   "source": [
    "### Deleting Items\n",
    "- del\n",
    "- discard\n",
    "- remove\n",
    "- pop\n",
    "- clear"
   ]
  },
  {
   "cell_type": "code",
   "execution_count": 38,
   "id": "6d85a98a-8f20-4fbd-b826-c8c56328e440",
   "metadata": {},
   "outputs": [
    {
     "name": "stdout",
     "output_type": "stream",
     "text": [
      "{1, 2, 3, 4, 5}\n"
     ]
    },
    {
     "ename": "TypeError",
     "evalue": "'set' object doesn't support item deletion",
     "output_type": "error",
     "traceback": [
      "\u001b[0;31m---------------------------------------------------------------------------\u001b[0m",
      "\u001b[0;31mTypeError\u001b[0m                                 Traceback (most recent call last)",
      "Cell \u001b[0;32mIn [38], line 4\u001b[0m\n\u001b[1;32m      2\u001b[0m s \u001b[38;5;241m=\u001b[39m {\u001b[38;5;241m1\u001b[39m,\u001b[38;5;241m2\u001b[39m,\u001b[38;5;241m3\u001b[39m,\u001b[38;5;241m4\u001b[39m,\u001b[38;5;241m5\u001b[39m}\n\u001b[1;32m      3\u001b[0m \u001b[38;5;28mprint\u001b[39m(s)\n\u001b[0;32m----> 4\u001b[0m \u001b[38;5;28;01mdel\u001b[39;00m s[\u001b[38;5;241m0\u001b[39m]\n\u001b[1;32m      5\u001b[0m \u001b[38;5;28mprint\u001b[39m(s)\n",
      "\u001b[0;31mTypeError\u001b[0m: 'set' object doesn't support item deletion"
     ]
    }
   ],
   "source": [
    "# del\n",
    "s = {1,2,3,4,5}\n",
    "print(s)\n",
    "del s[0]\n",
    "print(s)\n",
    "# you cannot  delete the items in set as an index wise if you wann delete then delete whole set  "
   ]
  },
  {
   "cell_type": "code",
   "execution_count": 39,
   "id": "00e5a9e2-a06d-4e06-9dda-95339b7eaf4f",
   "metadata": {},
   "outputs": [
    {
     "name": "stdout",
     "output_type": "stream",
     "text": [
      "{4, 3, 12}\n"
     ]
    }
   ],
   "source": [
    "# discard\n",
    "s = {12,3,4,4,5}\n",
    "s.discard(5)\n",
    "print(s)"
   ]
  },
  {
   "cell_type": "code",
   "execution_count": 41,
   "id": "83ef43ad-fca2-49c4-b331-2c77eb57406c",
   "metadata": {},
   "outputs": [
    {
     "name": "stdout",
     "output_type": "stream",
     "text": [
      "{3, 4, 5, 8, 12}\n"
     ]
    }
   ],
   "source": [
    "# but if you wann do the that item does not exits in the set then that time  it does not show any changes\n",
    "s = {12,3,4,8,5}\n",
    "s.discard(50)\n",
    "print(s)"
   ]
  },
  {
   "cell_type": "code",
   "execution_count": 43,
   "id": "fc5a87d0-ff80-4725-8d99-aa136edcbdde",
   "metadata": {},
   "outputs": [
    {
     "name": "stdout",
     "output_type": "stream",
     "text": [
      "{1, 2, 3, 4, 5}\n"
     ]
    }
   ],
   "source": [
    "# remove also work same like as discard\n",
    "c = {1,2,3,4,5,69}\n",
    "c.remove(69)\n",
    "print(c)"
   ]
  },
  {
   "cell_type": "code",
   "execution_count": 44,
   "id": "9d5ba931-ad0e-464b-9ebc-ba2b151c594d",
   "metadata": {},
   "outputs": [
    {
     "ename": "KeyError",
     "evalue": "70",
     "output_type": "error",
     "traceback": [
      "\u001b[0;31m---------------------------------------------------------------------------\u001b[0m",
      "\u001b[0;31mKeyError\u001b[0m                                  Traceback (most recent call last)",
      "Cell \u001b[0;32mIn [44], line 3\u001b[0m\n\u001b[1;32m      1\u001b[0m \u001b[38;5;66;03m# but in the remove non existing value then it thorws error\u001b[39;00m\n\u001b[1;32m      2\u001b[0m c \u001b[38;5;241m=\u001b[39m {\u001b[38;5;241m1\u001b[39m,\u001b[38;5;241m2\u001b[39m,\u001b[38;5;241m3\u001b[39m,\u001b[38;5;241m4\u001b[39m,\u001b[38;5;241m5\u001b[39m,\u001b[38;5;241m69\u001b[39m}\n\u001b[0;32m----> 3\u001b[0m \u001b[43mc\u001b[49m\u001b[38;5;241;43m.\u001b[39;49m\u001b[43mremove\u001b[49m\u001b[43m(\u001b[49m\u001b[38;5;241;43m70\u001b[39;49m\u001b[43m)\u001b[49m\n\u001b[1;32m      4\u001b[0m \u001b[38;5;28mprint\u001b[39m(c)\n",
      "\u001b[0;31mKeyError\u001b[0m: 70"
     ]
    }
   ],
   "source": [
    "# but in the remove non existing value then it thorws error\n",
    "c = {1,2,3,4,5,69}\n",
    "c.remove(70)\n",
    "print(c)"
   ]
  },
  {
   "cell_type": "code",
   "execution_count": 45,
   "id": "7e3c896c-580d-4d7e-a258-87cd24d30563",
   "metadata": {},
   "outputs": [
    {
     "name": "stdout",
     "output_type": "stream",
     "text": [
      "{2, 3, 4, 5, 69}\n"
     ]
    }
   ],
   "source": [
    "# Pop : pop deleted at randomly manner .\n",
    "c = {1,2,3,4,5,69}\n",
    "c.pop()\n",
    "print(c)\n",
    "# see pop function delete the 1 item"
   ]
  },
  {
   "cell_type": "code",
   "execution_count": 46,
   "id": "b4b41abe-6637-47e0-aa0b-49dae9780df3",
   "metadata": {},
   "outputs": [
    {
     "name": "stdout",
     "output_type": "stream",
     "text": [
      "set()\n"
     ]
    }
   ],
   "source": [
    "# clear : it claer all the set i.e empty set\n",
    "c = {1,2,3,4,5,69}\n",
    "c.clear()\n",
    "print(c)"
   ]
  },
  {
   "cell_type": "markdown",
   "id": "d160dc68-8282-42b4-b3b0-63362ecdfdf9",
   "metadata": {},
   "source": [
    "### Set Operation\n",
    "- Union(|)\n",
    "- Intersection(&)\n",
    "- Difference(-)\n",
    "- Symmetric Difference(^)\n",
    "- Membership Test\n",
    "- Iteration"
   ]
  },
  {
   "cell_type": "code",
   "execution_count": 48,
   "id": "a6b080c1-9ef1-49b5-b1f5-c31b31f64276",
   "metadata": {},
   "outputs": [
    {
     "name": "stdout",
     "output_type": "stream",
     "text": [
      "{1, 2, 3, 4, 5, 6}\n"
     ]
    }
   ],
   "source": [
    "# union : it add both side item with no repatation of numbers\n",
    "s1 = {1,2,3,4,5,6}\n",
    "s2 = {6,5,4,3,2,1}\n",
    "print(s1|s2)"
   ]
  },
  {
   "cell_type": "code",
   "execution_count": 49,
   "id": "ac2635c3-a17e-4e55-98fd-76e0ecc7512f",
   "metadata": {},
   "outputs": [
    {
     "data": {
      "text/plain": [
       "{1, 2, 3, 4, 5, 6}"
      ]
     },
     "execution_count": 49,
     "metadata": {},
     "output_type": "execute_result"
    }
   ],
   "source": [
    "# intersection(&): common item will print from both set\n",
    "s1&s2"
   ]
  },
  {
   "cell_type": "code",
   "execution_count": 52,
   "id": "20ce11d7-7ef7-415d-8f83-598f2de6e22c",
   "metadata": {},
   "outputs": [
    {
     "name": "stdout",
     "output_type": "stream",
     "text": [
      "{11}\n",
      "{13}\n"
     ]
    }
   ],
   "source": [
    "# difference(-) : not common item will print\n",
    "s1 = {1,2,3,4,5,6,11}\n",
    "s2 = {6,5,4,3,2,1,13}\n",
    "print(s1 - s2) 3 #s1 items tat are not resent inot the s2\n",
    "print(s2-s1)  #s2 items that are not present into the s1 \n"
   ]
  },
  {
   "cell_type": "code",
   "execution_count": 53,
   "id": "4b921e9a-ec20-4ba5-b7ae-f4b3bad78396",
   "metadata": {},
   "outputs": [
    {
     "data": {
      "text/plain": [
       "{11, 13}"
      ]
     },
     "execution_count": 53,
     "metadata": {},
     "output_type": "execute_result"
    }
   ],
   "source": [
    "# symmetric difference : except common it print all the values\n",
    "s1 ^ s2\n"
   ]
  },
  {
   "cell_type": "code",
   "execution_count": 55,
   "id": "69420271-7488-4ff8-8837-fb8333b45b9c",
   "metadata": {},
   "outputs": [
    {
     "name": "stdout",
     "output_type": "stream",
     "text": [
      "False\n",
      "True\n"
     ]
    }
   ],
   "source": [
    "# membership operator: in , not in\n",
    "print(s1 in s2)\n",
    "print(s1 not in s2)"
   ]
  },
  {
   "cell_type": "code",
   "execution_count": 59,
   "id": "2560b588-f26b-46b3-a293-1551ef0683f1",
   "metadata": {},
   "outputs": [
    {
     "name": "stdout",
     "output_type": "stream",
     "text": [
      "1\n",
      "2\n",
      "3\n",
      "4\n",
      "5\n",
      "6\n",
      "11\n"
     ]
    }
   ],
   "source": [
    "# iteration\n",
    "for i in s1:\n",
    "    print(i)"
   ]
  },
  {
   "cell_type": "markdown",
   "id": "a1a44cc4-c249-4bae-ae78-c120a78ec3ce",
   "metadata": {},
   "source": [
    "# Set Functions\n",
    "- len/sum/min/max/sorted\n"
   ]
  },
  {
   "cell_type": "code",
   "execution_count": 60,
   "id": "513792fa-06fb-4dc7-acde-63f572f8ac2b",
   "metadata": {},
   "outputs": [
    {
     "data": {
      "text/plain": [
       "[7, 5, 4, 3, 2, 1]"
      ]
     },
     "execution_count": 60,
     "metadata": {},
     "output_type": "execute_result"
    }
   ],
   "source": [
    "s = {3,1,4,5,2,7}\n",
    "len(s)\n",
    "sum(s)\n",
    "min(s)\n",
    "max(s)\n",
    "sorted(s,reverse=True)"
   ]
  },
  {
   "cell_type": "markdown",
   "id": "90da8e2c-a78a-43b3-ab9b-d00e7fc9c3d5",
   "metadata": {},
   "source": [
    "### union/update functions"
   ]
  },
  {
   "cell_type": "code",
   "execution_count": 64,
   "id": "b157e097-9cba-45bf-8303-3a8267c8a0cd",
   "metadata": {},
   "outputs": [
    {
     "name": "stdout",
     "output_type": "stream",
     "text": [
      "{1, 2, 3, 4, 5, 6, 7, 8}\n",
      "{4, 5, 6, 7, 8}\n"
     ]
    }
   ],
   "source": [
    "# union/update\n",
    "s1 = {1,2,3,4,5}\n",
    "s2 = {4,5,6,7,8}\n",
    "\n",
    "# s1 | s2\n",
    "s1.union(s2) # taking commmon values form both sets\n",
    "\n",
    "s1.update(s2) # but in update you update the s2 set values in s1\n",
    "print(s1)\n",
    "print(s2)"
   ]
  },
  {
   "cell_type": "markdown",
   "id": "4133169f-002a-4794-af03-eb3efc2f1672",
   "metadata": {},
   "source": [
    "### intersection/ intersection_update"
   ]
  },
  {
   "cell_type": "code",
   "execution_count": 65,
   "id": "185ce594-f9de-47d0-9c29-549f4f3e9e05",
   "metadata": {},
   "outputs": [
    {
     "name": "stdout",
     "output_type": "stream",
     "text": [
      "{4, 5}\n",
      "{4, 5, 6, 7, 8}\n"
     ]
    }
   ],
   "source": [
    "# intersection/intersection_update\n",
    "s1 = {1,2,3,4,5}\n",
    "s2 = {4,5,6,7,8}\n",
    "\n",
    "s1.intersection(s2)\n",
    "\n",
    "s1.intersection_update(s2)\n",
    "print(s1)\n",
    "print(s2)"
   ]
  },
  {
   "cell_type": "markdown",
   "id": "94c615b2-fa99-4b6e-8ef6-2fc8fd5406f3",
   "metadata": {},
   "source": [
    "#### difference/difference_update"
   ]
  },
  {
   "cell_type": "code",
   "execution_count": 66,
   "id": "983da84d-c897-412b-9db6-a2ea1bb21cdf",
   "metadata": {},
   "outputs": [
    {
     "name": "stdout",
     "output_type": "stream",
     "text": [
      "{1, 2, 3}\n",
      "{4, 5, 6, 7, 8}\n"
     ]
    }
   ],
   "source": [
    "# difference/difference_update\n",
    "s1 = {1,2,3,4,5}\n",
    "s2 = {4,5,6,7,8}\n",
    "\n",
    "s1.difference(s2)\n",
    "\n",
    "s1.difference_update(s2)\n",
    "print(s1)\n",
    "print(s2)"
   ]
  },
  {
   "cell_type": "markdown",
   "id": "07eaf3c0-2a6a-49b2-ad0b-fad31ea339ee",
   "metadata": {},
   "source": [
    "#### symmetric_difference/symmetric_difference_update"
   ]
  },
  {
   "cell_type": "code",
   "execution_count": 67,
   "id": "3746cc83-fe49-4a3b-a009-e080758a1edd",
   "metadata": {},
   "outputs": [
    {
     "name": "stdout",
     "output_type": "stream",
     "text": [
      "{1, 2, 3, 6, 7, 8}\n",
      "{4, 5, 6, 7, 8}\n"
     ]
    }
   ],
   "source": [
    "# symmetric_difference/symmetric_difference_update\n",
    "s1 = {1,2,3,4,5}\n",
    "s2 = {4,5,6,7,8}\n",
    "\n",
    "s1.symmetric_difference(s2)\n",
    "\n",
    "s1.symmetric_difference_update(s2)\n",
    "print(s1)\n",
    "print(s2)"
   ]
  },
  {
   "cell_type": "code",
   "execution_count": 68,
   "id": "a74f80e6-8b31-4d52-8fd6-9d983fcda1d5",
   "metadata": {},
   "outputs": [
    {
     "data": {
      "text/plain": [
       "True"
      ]
     },
     "execution_count": 68,
     "metadata": {},
     "output_type": "execute_result"
    }
   ],
   "source": [
    "# isdisjoint/issubset/issuperset\n",
    "s1 = {1,2,3,4}\n",
    "s2 = {7,8,5,6}\n",
    "\n",
    "s1.isdisjoint(s2)"
   ]
  },
  {
   "cell_type": "code",
   "execution_count": 69,
   "id": "427fae6d-f4da-4343-99bd-9ef9c1d279ea",
   "metadata": {},
   "outputs": [
    {
     "data": {
      "text/plain": [
       "False"
      ]
     },
     "execution_count": 69,
     "metadata": {},
     "output_type": "execute_result"
    }
   ],
   "source": [
    "s1 = {1,2,3,4}\n",
    "s2 = {7,8,5,6}\n",
    "\n",
    "s1.issubset(s2)"
   ]
  },
  {
   "cell_type": "code",
   "execution_count": 70,
   "id": "bad41c6f-1fe2-4281-883d-ff356c7b8b34",
   "metadata": {},
   "outputs": [
    {
     "data": {
      "text/plain": [
       "False"
      ]
     },
     "execution_count": 70,
     "metadata": {},
     "output_type": "execute_result"
    }
   ],
   "source": [
    "s1 = {1,2,3,4}\n",
    "s2 = {7,8,5,6}\n",
    "\n",
    "s1.issuperset(s2)\n"
   ]
  },
  {
   "cell_type": "code",
   "execution_count": 71,
   "id": "cbd7e9e4-c2d5-4414-b419-c503c8c4cd10",
   "metadata": {},
   "outputs": [
    {
     "name": "stdout",
     "output_type": "stream",
     "text": [
      "{1, 2, 3}\n",
      "{1, 2, 3}\n"
     ]
    }
   ],
   "source": [
    "# copy\n",
    "s1 = {1,2,3}\n",
    "s2 = s1.copy()\n",
    "\n",
    "print(s1)\n",
    "print(s2)\n",
    "# address will different of both the set"
   ]
  },
  {
   "cell_type": "markdown",
   "id": "a2f01c9f-a9d1-49ff-9903-774bb3a4ad33",
   "metadata": {},
   "source": [
    "# Frozen set"
   ]
  },
  {
   "cell_type": "code",
   "execution_count": 1,
   "id": "08a9e9c0-ad1a-4808-a9d6-5575b6c78bbd",
   "metadata": {},
   "outputs": [
    {
     "data": {
      "text/plain": [
       "frozenset({1, 2, 3, 4, 5})"
      ]
     },
     "execution_count": 1,
     "metadata": {},
     "output_type": "execute_result"
    }
   ],
   "source": [
    "# froneset once created you cannot add tyhe value or remove the values# beacuse \n",
    "# it is an Immutable\n",
    "\n",
    "s1 = frozenset([1,2,3,4,5])\n",
    "s1\n"
   ]
  },
  {
   "cell_type": "code",
   "execution_count": null,
   "id": "8cbc8f38-8782-4f40-84d5-e47e7155609f",
   "metadata": {},
   "outputs": [],
   "source": [
    "# all the operations above on the set same will works on the frozen set\n",
    "# Frozen set is just an immutable version of a Python set object"
   ]
  },
  {
   "cell_type": "code",
   "execution_count": 2,
   "id": "cbd29f24-eb66-4986-b708-cd63742722f0",
   "metadata": {},
   "outputs": [
    {
     "data": {
      "text/plain": [
       "frozenset({1, 2, 3, 4, 5})"
      ]
     },
     "execution_count": 2,
     "metadata": {},
     "output_type": "execute_result"
    }
   ],
   "source": [
    "# create frozenset\n",
    "fs1 = frozenset([1,2,3])\n",
    "fs2 = frozenset([3,4,5])\n",
    "\n",
    "fs1 | fs2\n",
    "# why in this are working are not changing anyhting we are not perfoming add, remove or pop fuctions\n"
   ]
  },
  {
   "cell_type": "code",
   "execution_count": null,
   "id": "913c986b-b43c-4e75-aecf-756146e471b1",
   "metadata": {},
   "outputs": [],
   "source": [
    "# # what works and what does not\n",
    "# works -> all read functions\n",
    "# does't work -> write operations"
   ]
  },
  {
   "cell_type": "code",
   "execution_count": 3,
   "id": "d1f260a2-581e-4b2b-a9a3-a8f723ce0ca7",
   "metadata": {},
   "outputs": [
    {
     "data": {
      "text/plain": [
       "frozenset({1, 2, frozenset({3, 4})})"
      ]
     },
     "execution_count": 3,
     "metadata": {},
     "output_type": "execute_result"
    }
   ],
   "source": [
    "# When to use\n",
    "# 2D sets\n",
    "fs = frozenset([1,2,frozenset([3,4])])\n",
    "fs"
   ]
  },
  {
   "cell_type": "markdown",
   "id": "a1957377-818d-433f-a45b-3e92de7de9fc",
   "metadata": {},
   "source": [
    "### Set Comprehension"
   ]
  },
  {
   "cell_type": "code",
   "execution_count": 4,
   "id": "62719d7f-110d-4880-a2eb-2c704124ef32",
   "metadata": {},
   "outputs": [
    {
     "data": {
      "text/plain": [
       "{36, 49, 64, 81, 100}"
      ]
     },
     "execution_count": 4,
     "metadata": {},
     "output_type": "execute_result"
    }
   ],
   "source": [
    "# examples\n",
    "\n",
    "{i**2 for i in range(1,11) if i>5}"
   ]
  },
  {
   "cell_type": "markdown",
   "id": "7556f043-9419-4d70-b9fe-ea3506a55f7e",
   "metadata": {},
   "source": [
    "# Dictionary\n",
    "\n",
    "Dictionary in Python is a collection of keys values, used to store data values like a map, which, unlike other data types which hold only a single value as an element.\n",
    "\n",
    "In some languages it is known as map or assosiative arrays.\n",
    "\n",
    "dict = { 'name' : 'nitish' , 'age' : 33 , 'gender' : 'male' }\n",
    "\n",
    "Characterstics:\n",
    "\n",
    "- Mutable\n",
    "- Indexing has no meaning\n",
    "- keys can't be duplicated\n",
    "- keys can't be mutable items"
   ]
  },
  {
   "cell_type": "markdown",
   "id": "069151cc-1ce2-4664-83d6-4d0666f5a995",
   "metadata": {},
   "source": [
    "### Create Dictionary"
   ]
  },
  {
   "cell_type": "code",
   "execution_count": 8,
   "id": "4d8959b1-0da8-44e5-89ac-2ff84c91eee0",
   "metadata": {},
   "outputs": [
    {
     "name": "stdout",
     "output_type": "stream",
     "text": [
      "<class 'dict'>\n",
      "{'name': 'bhushan', 'city': 'nagpur'}\n"
     ]
    }
   ],
   "source": [
    "# empty dictionary\n",
    "d = {}\n",
    "print(type(d))\n",
    "# 1-d dictionary\n",
    "\n",
    "d1 = {'name':'bhushan', 'city' : 'nagpur'}\n",
    "print(d1)\n"
   ]
  },
  {
   "cell_type": "code",
   "execution_count": 9,
   "id": "dd6bc437-305f-45f5-bbd8-ef2370464b4a",
   "metadata": {},
   "outputs": [
    {
     "name": "stdout",
     "output_type": "stream",
     "text": [
      "{(1, 2, 3): 1, 'name': 'bhushan'}\n"
     ]
    }
   ],
   "source": [
    "# with mixed dictionary\n",
    "d2 = {(1,2,3): 1, \"name\":'bhushan'}\n",
    "print(d2)\n",
    "# why we taking the tuple beacuse tuple is an immutable data type.\n",
    "# mutable data type are not allowed into the tuple.\n"
   ]
  },
  {
   "cell_type": "code",
   "execution_count": 11,
   "id": "0eac246d-f9be-4704-8d9b-a56900f7a1be",
   "metadata": {},
   "outputs": [
    {
     "name": "stdout",
     "output_type": "stream",
     "text": [
      "{'name': 'aiwalabro', 'sem': '4thsem', 'sub': {'dsa': 42, 'english': 68, 'math': 56}}\n"
     ]
    }
   ],
   "source": [
    "# 2-d dictionary\n",
    "d3 = {\n",
    "    'name': 'aiwalabro',\n",
    "    'sem': '4thsem',\n",
    "    'sub':{\n",
    "        'dsa': 42,\n",
    "        'english': 68,\n",
    "        'math':56\n",
    "    }\n",
    "    \n",
    "}\n",
    "print(d3)\n",
    "# dict in dict\n"
   ]
  },
  {
   "cell_type": "code",
   "execution_count": 36,
   "id": "2c67a09f-a3b0-4dfe-855b-2d0b36a0df76",
   "metadata": {},
   "outputs": [
    {
     "data": {
      "text/plain": [
       "{'name': 'aiwalabro',\n",
       " 'sem': '4thsem',\n",
       " 'sub': {'dsa': 42, 'english': 68, 'math': 56, 'statistics': 89}}"
      ]
     },
     "execution_count": 36,
     "metadata": {},
     "output_type": "execute_result"
    }
   ],
   "source": [
    "#lets add new subject into the data scinece and marks into that subject\n",
    "d3['sub']['statistics'] =89\n",
    "d3"
   ]
  },
  {
   "cell_type": "code",
   "execution_count": 15,
   "id": "d1238ec9-510d-49e9-a8c5-2dc66dc00fad",
   "metadata": {},
   "outputs": [
    {
     "name": "stdout",
     "output_type": "stream",
     "text": [
      "{1: 1, 3: 2}\n",
      "{'name': 1, 'city': 'nagpur'}\n"
     ]
    }
   ],
   "source": [
    "# using sequence and dict function\n",
    "d4 = dict([(1,1),(3,2)])\n",
    "print(d4)\n",
    "d5 = dict([('name',1),('city','nagpur')])\n",
    "print(d5)"
   ]
  },
  {
   "cell_type": "code",
   "execution_count": 16,
   "id": "d5a75b3a-6f09-4fcb-88f8-d2915dc0d6fe",
   "metadata": {},
   "outputs": [
    {
     "name": "stdout",
     "output_type": "stream",
     "text": [
      "{'name': 'marry'}\n"
     ]
    }
   ],
   "source": [
    "# duplicate keys are not allowed int the dictionary\n",
    "d6 ={'name':'bhushan','name': 'marry'}\n",
    "print(d6)\n",
    "# last name value assign to the key "
   ]
  },
  {
   "cell_type": "code",
   "execution_count": 18,
   "id": "76993b71-1323-4782-867f-a14ff2699101",
   "metadata": {},
   "outputs": [
    {
     "ename": "TypeError",
     "evalue": "unhashable type: 'list'",
     "output_type": "error",
     "traceback": [
      "\u001b[0;31m---------------------------------------------------------------------------\u001b[0m",
      "\u001b[0;31mTypeError\u001b[0m                                 Traceback (most recent call last)",
      "Cell \u001b[0;32mIn [18], line 2\u001b[0m\n\u001b[1;32m      1\u001b[0m \u001b[38;5;66;03m# mutable item as a key\u001b[39;00m\n\u001b[0;32m----> 2\u001b[0m d7 \u001b[38;5;241m=\u001b[39m {[\u001b[38;5;241m1\u001b[39m,\u001b[38;5;241m2\u001b[39m,\u001b[38;5;241m3\u001b[39m]:\u001b[38;5;241m1\u001b[39m}\n\u001b[1;32m      3\u001b[0m \u001b[38;5;28mprint\u001b[39m(d7)\n\u001b[1;32m      4\u001b[0m \u001b[38;5;66;03m# see we got an error because list is the mutable data type\u001b[39;00m\n\u001b[1;32m      5\u001b[0m \u001b[38;5;66;03m# instead of this we can add the immutable data type\u001b[39;00m\n",
      "\u001b[0;31mTypeError\u001b[0m: unhashable type: 'list'"
     ]
    }
   ],
   "source": [
    "# mutable item as a key\n",
    "d7 = {[1,2,3]:1}\n",
    "print(d7)\n",
    "# see we got an error because list is the mutable data type\n"
   ]
  },
  {
   "cell_type": "code",
   "execution_count": 19,
   "id": "feddc5ed-f547-49ab-877e-300f6361c7f0",
   "metadata": {},
   "outputs": [
    {
     "name": "stdout",
     "output_type": "stream",
     "text": [
      "{(1, 2, 3): 1}\n"
     ]
    }
   ],
   "source": [
    "# instead of this we can add the immutable data type\n",
    "d7 = {(1,2,3):1}\n",
    "print(d7)"
   ]
  },
  {
   "cell_type": "markdown",
   "id": "d34efb42-bdf7-40a2-ae6a-cb91f8546396",
   "metadata": {},
   "source": [
    "## Accessing items"
   ]
  },
  {
   "cell_type": "code",
   "execution_count": 23,
   "id": "c009a2b1-5aa6-4768-83c9-029119968729",
   "metadata": {},
   "outputs": [
    {
     "name": "stdout",
     "output_type": "stream",
     "text": [
      "aiwlabrother\n"
     ]
    },
    {
     "data": {
      "text/plain": [
       "27"
      ]
     },
     "execution_count": 23,
     "metadata": {},
     "output_type": "execute_result"
    }
   ],
   "source": [
    "d8 =  {'name': 'aiwlabrother', \"age\":27}\n",
    "print(d8['name'])\n",
    "# get\n",
    "d8.get('age')"
   ]
  },
  {
   "cell_type": "code",
   "execution_count": 34,
   "id": "bbf95973-7748-4b86-98ab-97630b0e6a7b",
   "metadata": {},
   "outputs": [
    {
     "data": {
      "text/plain": [
       "42"
      ]
     },
     "execution_count": 34,
     "metadata": {},
     "output_type": "execute_result"
    }
   ],
   "source": [
    "# 2-d dictionary\n",
    "d9 = {\n",
    "    'name': 'aiwalabro',\n",
    "    'sem': '4thsem',\n",
    "    'sub':{\n",
    "        'dsa': 42,\n",
    "        'english': 68,\n",
    "        'math':56\n",
    "    }\n",
    "    \n",
    "}\n",
    "\n",
    "d9['sub']['dsa']\n",
    "\n"
   ]
  },
  {
   "cell_type": "markdown",
   "id": "05fcc9bf-6d5a-465a-9420-949d10e410ea",
   "metadata": {},
   "source": [
    "# Adding key value pair\n"
   ]
  },
  {
   "cell_type": "code",
   "execution_count": 24,
   "id": "337e597c-4651-431d-b204-2a76d7e0f8d0",
   "metadata": {},
   "outputs": [
    {
     "name": "stdout",
     "output_type": "stream",
     "text": [
      "{'name': 'aiwlabrother', 'age': 27, 'weight': 86}\n"
     ]
    }
   ],
   "source": [
    "d8['weight'] = 86\n",
    "print(d8)"
   ]
  },
  {
   "cell_type": "code",
   "execution_count": 27,
   "id": "f26a18b1-79f6-4cb8-9a09-15c2857110bc",
   "metadata": {},
   "outputs": [
    {
     "data": {
      "text/plain": [
       "{'name': 'aiwlabrother', 'age': 27, 'weight': 86, 'class': '4th'}"
      ]
     },
     "execution_count": 27,
     "metadata": {},
     "output_type": "execute_result"
    }
   ],
   "source": [
    "d8['class'] = '4th'\n",
    "d8"
   ]
  },
  {
   "cell_type": "markdown",
   "id": "8aeb2a2e-cb4b-4903-a7cd-6badf6870cf7",
   "metadata": {},
   "source": [
    "# Removing key value pair\n",
    "- pop: when you add perticular key then that item will remove form the dictionary\n",
    "- pop item: when you add the pop item then it will remove the last item of the dictionary\n",
    "- del: you remove the whole dictionary, although you can dleete the specific key value pair\n",
    "- clear : it will empty dictionary\n"
   ]
  },
  {
   "cell_type": "code",
   "execution_count": 28,
   "id": "8f9c8e56-e876-4d57-9f0b-2935e6faf511",
   "metadata": {},
   "outputs": [
    {
     "name": "stdout",
     "output_type": "stream",
     "text": [
      "{'name': 'nitish', 'age': 32, 'gender': 'male', 'weight': 72}\n"
     ]
    }
   ],
   "source": [
    "d = {'name': 'nitish', 'age': 32, 3: 3, 'gender': 'male', 'weight': 72}\n",
    "# pop\n",
    "d.pop(3)\n",
    "print(d)\n"
   ]
  },
  {
   "cell_type": "code",
   "execution_count": 29,
   "id": "a6e67028-458c-450f-affa-7a095ec63849",
   "metadata": {},
   "outputs": [
    {
     "name": "stdout",
     "output_type": "stream",
     "text": [
      "{'name': 'nitish', 'age': 32, 3: 3, 'gender': 'male'}\n"
     ]
    }
   ],
   "source": [
    "d = {'name': 'nitish', 'age': 32, 3: 3, 'gender': 'male', 'weight': 72}\n",
    "# popitem\n",
    "\n",
    "d.popitem()\n",
    "print(d)\n"
   ]
  },
  {
   "cell_type": "code",
   "execution_count": 30,
   "id": "7a50576f-c412-45e8-b6e7-0645d8b477be",
   "metadata": {},
   "outputs": [
    {
     "name": "stdout",
     "output_type": "stream",
     "text": [
      "{'age': 32, 3: 3, 'gender': 'male', 'weight': 72}\n"
     ]
    }
   ],
   "source": [
    "# del\n",
    "d = {'name': 'nitish', 'age': 32, 3: 3, 'gender': 'male', 'weight': 72}\n",
    "del d['name']\n",
    "print(d)\n"
   ]
  },
  {
   "cell_type": "code",
   "execution_count": 33,
   "id": "27536ed6-46c9-44b3-a990-5b0cc8da0213",
   "metadata": {},
   "outputs": [
    {
     "name": "stdout",
     "output_type": "stream",
     "text": [
      "{}\n"
     ]
    }
   ],
   "source": [
    "# clear\n",
    "\n",
    "d.clear()\n",
    "print(d)\n",
    "\n"
   ]
  },
  {
   "cell_type": "code",
   "execution_count": 38,
   "id": "c9a70758-9931-4c94-8fc9-0e746b742c77",
   "metadata": {},
   "outputs": [
    {
     "name": "stdout",
     "output_type": "stream",
     "text": [
      "{'name': 'aiwalabro', 'sem': '4thsem', 'sub': {'dsa': 42, 'english': 68, 'math': 56}}\n",
      "{'name': 'aiwalabro', 'sem': '4thsem', 'sub': {'dsa': 42, 'english': 68}}\n"
     ]
    }
   ],
   "source": [
    "# 2-d dictionary\n",
    "d3 = {\n",
    "    'name': 'aiwalabro',\n",
    "    'sem': '4thsem',\n",
    "    'sub':{\n",
    "        'dsa': 42,\n",
    "        'english': 68,\n",
    "        'math':56\n",
    "    }\n",
    "    \n",
    "}\n",
    "print(d3)\n",
    "\n",
    "# if you wann remove the subjects then\n",
    "del d3 ['sub']['math']\n",
    "print(d3)\n",
    "\n"
   ]
  },
  {
   "cell_type": "markdown",
   "id": "b2f5f446-d6d4-4811-9931-00f724e7fe93",
   "metadata": {},
   "source": [
    "# Editing the dictionary"
   ]
  },
  {
   "cell_type": "code",
   "execution_count": 43,
   "id": "0983b694-b3c6-4d08-a4a5-262f22fa302c",
   "metadata": {},
   "outputs": [
    {
     "name": "stdout",
     "output_type": "stream",
     "text": [
      "{'name': 'aiwalabro', 'sem': '4thsem', 'sub': {'dsa': 42, 'english': 68, 'math': 56}}\n",
      "{'name': 'aiwalabro', 'sem': '4thsem', 'sub': {'dsa': 42, 'english': 68, 'math': 80}}\n"
     ]
    }
   ],
   "source": [
    "\n",
    "# 2-d dictionary\n",
    "d3 = {\n",
    "    'name': 'aiwalabro',\n",
    "    'sem': '4thsem',\n",
    "    'sub':{\n",
    "        'dsa': 42,\n",
    "        'english': 68,\n",
    "        'math':56\n",
    "    }\n",
    "    \n",
    "}\n",
    "print(d3)\n",
    "# changes math marks\n",
    "d3['sub']['math'] = 80 \n",
    "print(d3)"
   ]
  },
  {
   "cell_type": "markdown",
   "id": "fae8188e-3ef8-44ec-92f5-56617f6ad693",
   "metadata": {},
   "source": [
    "## Dictionary Operations\n",
    "\n",
    "- Membership\n",
    "- Iteration"
   ]
  },
  {
   "cell_type": "code",
   "execution_count": 47,
   "id": "fcc26d96-63aa-4be0-aee4-fb75dad5e491",
   "metadata": {},
   "outputs": [
    {
     "data": {
      "text/plain": [
       "True"
      ]
     },
     "execution_count": 47,
     "metadata": {},
     "output_type": "execute_result"
    }
   ],
   "source": [
    "dict1 = {'name':'bhshan','city':'nagpur'}\n",
    "'name' in dict1\n",
    "# i"
   ]
  },
  {
   "cell_type": "code",
   "execution_count": 48,
   "id": "8537f052-675d-46b5-b0c2-4aa6989f961e",
   "metadata": {},
   "outputs": [
    {
     "data": {
      "text/plain": [
       "False"
      ]
     },
     "execution_count": 48,
     "metadata": {},
     "output_type": "execute_result"
    }
   ],
   "source": [
    "dict1 = {'name':'bhshan','city':'nagpur'}\n",
    "'bhshan' in dict1\n",
    "# it only searches in key not in the values of the dictionary.\n"
   ]
  },
  {
   "cell_type": "code",
   "execution_count": 51,
   "id": "1f083f1d-9e45-48df-b768-31b18c8695e2",
   "metadata": {},
   "outputs": [
    {
     "name": "stdout",
     "output_type": "stream",
     "text": [
      "name\n",
      "city\n",
      "age\n"
     ]
    }
   ],
   "source": [
    "# iteration\n",
    "dict2 = {'name':'bhshan','city':'nagpur','age':27}\n",
    "for i in dict2:\n",
    "    print(i)\n",
    "    # as you know it will iterate on the key if slightly thing about in deep "
   ]
  },
  {
   "cell_type": "code",
   "execution_count": 53,
   "id": "d6450571-957d-4a85-ad6c-d4ea9155bdb3",
   "metadata": {},
   "outputs": [
    {
     "name": "stdout",
     "output_type": "stream",
     "text": [
      "bhshan\n",
      "nagpur\n",
      "27\n"
     ]
    }
   ],
   "source": [
    "# iteration\n",
    "dict2 = {'name':'bhshan','city':'nagpur','age':27}\n",
    "for i in dict2:\n",
    "    print(dict2[i])\n",
    "    # it also give sthe key values bereecuse in thekey als=ways shows the values thats why it happend."
   ]
  },
  {
   "cell_type": "markdown",
   "id": "3ef70799-2416-4c55-888c-7493be3c93ad",
   "metadata": {},
   "source": [
    "### Dictionary Functions\n",
    "- len/sorted\n",
    "- items/keys/values\n",
    "- update"
   ]
  },
  {
   "cell_type": "code",
   "execution_count": 54,
   "id": "fc01fc33-dee7-40d2-8e11-c285082c986c",
   "metadata": {},
   "outputs": [
    {
     "name": "stdout",
     "output_type": "stream",
     "text": [
      "{'name': 'bhshan', 'city': 'nagpur', 'age': 27}\n"
     ]
    },
    {
     "data": {
      "text/plain": [
       "'name'"
      ]
     },
     "execution_count": 54,
     "metadata": {},
     "output_type": "execute_result"
    }
   ],
   "source": [
    "# len/sorted\n",
    "len(dict2)\n",
    "print(dict2)\n",
    "\n",
    "# by default it ascending order\n",
    "sorted(dict2,reverse=True)\n",
    "\n",
    "max(dict2)\n",
    "# on the basis on ascii value it shows the maximum"
   ]
  },
  {
   "cell_type": "code",
   "execution_count": 55,
   "id": "45335e2f-a015-4305-821a-0a7a92a64bdb",
   "metadata": {},
   "outputs": [
    {
     "data": {
      "text/plain": [
       "dict_items([('name', 'bhshan'), ('city', 'nagpur'), ('age', 27)])"
      ]
     },
     "execution_count": 55,
     "metadata": {},
     "output_type": "execute_result"
    }
   ],
   "source": [
    "# items/keys/values\n",
    "dict2.items()\n",
    "# it give the tuple in the form of list"
   ]
  },
  {
   "cell_type": "code",
   "execution_count": 57,
   "id": "92e3ced1-d63b-410b-beca-f03e1a0ac545",
   "metadata": {},
   "outputs": [
    {
     "data": {
      "text/plain": [
       "dict_keys(['name', 'city', 'age'])"
      ]
     },
     "execution_count": 57,
     "metadata": {},
     "output_type": "execute_result"
    }
   ],
   "source": [
    "dict2.keys()\n",
    "# it gives all the key of dictionary"
   ]
  },
  {
   "cell_type": "code",
   "execution_count": 58,
   "id": "0f8caa16-6352-4954-ac26-4118917fe052",
   "metadata": {},
   "outputs": [
    {
     "data": {
      "text/plain": [
       "dict_values(['bhshan', 'nagpur', 27])"
      ]
     },
     "execution_count": 58,
     "metadata": {},
     "output_type": "execute_result"
    }
   ],
   "source": [
    "dict2.values()\n",
    "# it gives all the values from the dictionary"
   ]
  },
  {
   "cell_type": "code",
   "execution_count": 61,
   "id": "fccd620a-7c72-4b42-adb9-eb75c4290cdd",
   "metadata": {},
   "outputs": [
    {
     "name": "stdout",
     "output_type": "stream",
     "text": [
      "{1: 2, 3: 7, 5: 6, 2: 9}\n"
     ]
    }
   ],
   "source": [
    "# update\n",
    "d1 = {1:2,3:4,5:6}\n",
    "d2 = {2:9,3:7}\n",
    "d1.update(d2)\n",
    "print(d1)\n",
    "# update function gives the permanently changes into the d1"
   ]
  },
  {
   "cell_type": "markdown",
   "id": "ffb826ac-4661-4de1-86ae-c178578b5bd6",
   "metadata": {},
   "source": [
    "## Dictionary Comprehension\n",
    "- syntax: {key: value for variable in iterable}"
   ]
  },
  {
   "cell_type": "code",
   "execution_count": 62,
   "id": "695cf320-3b25-4f4f-8407-bfe5a19134d7",
   "metadata": {},
   "outputs": [
    {
     "data": {
      "text/plain": [
       "{1: 1, 2: 4, 3: 9, 4: 16, 5: 25, 6: 36, 7: 49, 8: 64, 9: 81, 10: 100}"
      ]
     },
     "execution_count": 62,
     "metadata": {},
     "output_type": "execute_result"
    }
   ],
   "source": [
    "{i:i**2 for i in range(1,11)}"
   ]
  },
  {
   "cell_type": "code",
   "execution_count": 63,
   "id": "f7885b6d-71dd-4840-be0e-78800195759c",
   "metadata": {},
   "outputs": [
    {
     "data": {
      "text/plain": [
       "{'delhi': 50.0, 'mumbai': 100.0, 'bangalore': 150.0}"
      ]
     },
     "execution_count": 63,
     "metadata": {},
     "output_type": "execute_result"
    }
   ],
   "source": [
    "# using existing dict covert km distance into the miles per hour\n",
    "distances = {'delhi':1000,'mumbai':2000,'bangalore':3000}\n",
    "{key:value*0.05 for (key,value) in distances.items()}"
   ]
  },
  {
   "cell_type": "code",
   "execution_count": 69,
   "id": "caf9fd99-08ed-4d48-8256-16c445eaed1a",
   "metadata": {},
   "outputs": [
    {
     "data": {
      "text/plain": [
       "{'Sunday': 30.5,\n",
       " 'Monday': 32.6,\n",
       " 'Tuesday': 31.8,\n",
       " 'Wednesday': 33.4,\n",
       " 'Thursday': 29.8,\n",
       " 'Friday': 30.2,\n",
       " 'Saturday': 29.9}"
      ]
     },
     "execution_count": 69,
     "metadata": {},
     "output_type": "execute_result"
    }
   ],
   "source": [
    "# using zip\n",
    "days = [\"Sunday\", \"Monday\",\"Tuesday\",\"Wednesday\",\"Thursday\",\"Friday\",\"Saturday\"]\n",
    "temp_C = [30.5,32.6,31.8,33.4,29.8,30.2,29.9]\n",
    "\n",
    "{i:j for (i,j) in zip(days,temp_C)}"
   ]
  },
  {
   "cell_type": "code",
   "execution_count": 72,
   "id": "16ebf3b5-560a-42c0-b6ba-808c4f52cf51",
   "metadata": {},
   "outputs": [
    {
     "data": {
      "text/plain": [
       "{'phone': 10, 'charger': 32}"
      ]
     },
     "execution_count": 72,
     "metadata": {},
     "output_type": "execute_result"
    }
   ],
   "source": [
    "# using if condition\n",
    "products = {'phone':10,'laptop':0,'charger':32,'tablet':0}\n",
    "\n",
    "{key : value for (key,value) in products.items() if value > 0}\n"
   ]
  },
  {
   "cell_type": "code",
   "execution_count": 78,
   "id": "f795ea3a-4cfe-43b6-8204-c8fea591fa9e",
   "metadata": {},
   "outputs": [
    {
     "data": {
      "text/plain": [
       "{2: {1: 2, 2: 4, 3: 6, 4: 8, 5: 10, 6: 12, 7: 14, 8: 16, 9: 18, 10: 20},\n",
       " 3: {1: 3, 2: 6, 3: 9, 4: 12, 5: 15, 6: 18, 7: 21, 8: 24, 9: 27, 10: 30},\n",
       " 4: {1: 4, 2: 8, 3: 12, 4: 16, 5: 20, 6: 24, 7: 28, 8: 32, 9: 36, 10: 40}}"
      ]
     },
     "execution_count": 78,
     "metadata": {},
     "output_type": "execute_result"
    }
   ],
   "source": [
    "# Nested Comprehension\n",
    "# print tables of number from 2 to 4\n",
    "\n",
    "{key:{value:key*value for value in range(1,11)} for key in range(2,5)}\n",
    "# {i:{j:i*j for j in range(1,11)} for i in range(2,5)}"
   ]
  },
  {
   "cell_type": "code",
   "execution_count": null,
   "id": "a5e614aa-f721-4a50-b7d3-c2770d5ddde8",
   "metadata": {},
   "outputs": [],
   "source": []
  }
 ],
 "metadata": {
  "kernelspec": {
   "display_name": "Python 3 (ipykernel)",
   "language": "python",
   "name": "python3"
  },
  "language_info": {
   "codemirror_mode": {
    "name": "ipython",
    "version": 3
   },
   "file_extension": ".py",
   "mimetype": "text/x-python",
   "name": "python",
   "nbconvert_exporter": "python",
   "pygments_lexer": "ipython3",
   "version": "3.10.6"
  }
 },
 "nbformat": 4,
 "nbformat_minor": 5
}
