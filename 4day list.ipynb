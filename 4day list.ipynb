{
 "cells": [
  {
   "cell_type": "markdown",
   "id": "7778cbb7-df2a-46ff-a073-1fadef5251dc",
   "metadata": {},
   "source": [
    "## 1. Lists\n",
    "\n",
    "- What are Lists?\n",
    "- Lists Vs Arrays\n",
    "- Characterstics of a List\n",
    "- How to create a list\n",
    "- Access items from a List\n",
    "- Editing items in a List\n",
    "- Deleting items from a List\n",
    "- Operations on Lists\n",
    "- Functions on Lists\n",
    "\n"
   ]
  },
  {
   "cell_type": "markdown",
   "id": "936e1b22-2853-4b7e-851e-47dd68549f48",
   "metadata": {},
   "source": [
    "### What are Lists\n",
    "\n",
    "List is a data type where you can store multiple items under 1 name. More technically, lists act like dynamic arrays which means you can add more items on the fly."
   ]
  },
  {
   "cell_type": "markdown",
   "id": "d07b7de8-08ee-494f-bf81-bb423dc9896b",
   "metadata": {},
   "source": [
    "# ARRAY VS LIST\n",
    "- Fixed vs dynamic size: array is moe like as fixed in naturate where as list not in fixed in nature lets see the example in clanguage you have to defined int a[50] so in that if you use only 10 blocks then that 40 blocks will waste but in the list you not do like that you stored only that are required on instant basis.\n",
    "- Convience - Heterogenious: that mean you can stored any kind of dtat type int teh list their are no retsrictions into that.\n",
    "- Speed of execution: spped of execution of the array is fast as compared to the list\n",
    "- memory - memory consumption less in array as compare to list."
   ]
  },
  {
   "cell_type": "code",
   "execution_count": 1,
   "id": "7e249715-54b7-4301-bfa3-855312566e25",
   "metadata": {},
   "outputs": [
    {
     "name": "stdout",
     "output_type": "stream",
     "text": [
      "139928695204160\n",
      "139928742379760\n",
      "139928742379792\n",
      "139928742379824\n",
      "139928742379760\n",
      "139928742379792\n",
      "139928742379824\n"
     ]
    }
   ],
   "source": [
    "L = [1,2,3]\n",
    "\n",
    "print(id(L))\n",
    "print(id(L[0]))\n",
    "print(id(L[1]))\n",
    "print(id(L[2]))\n",
    "print(id(1))\n",
    "print(id(2))\n",
    "print(id(3))\n",
    "# that why list is dynamic array not in fixed size neacuse it not stored the exact values like pointers it storeed the addresse\n",
    "# of that value and from that you can access to tha value although youc an changed out the values from that address\n",
    "# that is why is said tobe dynamic type "
   ]
  },
  {
   "cell_type": "markdown",
   "id": "d64ec1f6-aac1-4173-8e3d-1f9f5a85b34e",
   "metadata": {},
   "source": [
    "## Characterstics of a List\n",
    "\n",
    "- Ordered\n",
    "- Changeble/Mutable\n",
    "- Hetrogeneous\n",
    "- Can have duplicates\n",
    "- are dynamic\n",
    "- can be nested\n",
    "- items can be accessed \n",
    "- can contain any kind of objects in python"
   ]
  },
  {
   "cell_type": "code",
   "execution_count": 3,
   "id": "0e6c23f6-cf9f-4b44-8254-d35f146d2d5a",
   "metadata": {},
   "outputs": [
    {
     "data": {
      "text/plain": [
       "False"
      ]
     },
     "execution_count": 3,
     "metadata": {},
     "output_type": "execute_result"
    }
   ],
   "source": [
    "# lest explore the characteristic of the List\n",
    "# order how we can justify the order characteristic\n",
    "l = [1,2,3]\n",
    "l1 = [3,2,1]\n",
    "l == l1\n",
    "# see thats mean it not same"
   ]
  },
  {
   "cell_type": "code",
   "execution_count": 4,
   "id": "802783b4-63b5-4250-8576-845dc1f79a56",
   "metadata": {},
   "outputs": [
    {
     "name": "stdout",
     "output_type": "stream",
     "text": [
      "[]\n",
      "[1, 2, 3, 4, 5]\n",
      "[1, 2, 3, [4, 5]]\n",
      "[[[1, 2], [3, 4]], [[5, 6], [7, 8]]]\n",
      "[1, True, 5.6, (5+6j), 'Hello']\n",
      "['h', 'e', 'l', 'l', 'o']\n"
     ]
    }
   ],
   "source": [
    "# Empty\n",
    "print([])\n",
    "# 1D -> Homogeneous list\n",
    "print([1,2,3,4,5])\n",
    "# 2D- heterogeneous list\n",
    "print([1,2,3,[4,5]])\n",
    "# 3D- homogenous list\n",
    "print([[[1,2],[3,4]],[[5,6],[7,8]]])\n",
    "# Hetrogenous\n",
    "print([1,True,5.6,5+6j,'Hello'])\n",
    "# Using Type conversion\n",
    "print(list('hello'))"
   ]
  },
  {
   "cell_type": "markdown",
   "id": "ee4cfe85-db15-4922-b683-aa1501395885",
   "metadata": {},
   "source": [
    "# List functions"
   ]
  },
  {
   "cell_type": "markdown",
   "id": "ce4bc315-74a1-42b8-866b-8141cde4aabe",
   "metadata": {},
   "source": [
    "## Adding Items to a List\n",
    "- .append: to add sinlge item in the last\n",
    "- .extend: to add multiple item in the last\n",
    "- .insert: to add  perticular location or in index position \n"
   ]
  },
  {
   "cell_type": "code",
   "execution_count": 1,
   "id": "104ce9cb-afa8-4ad4-99f1-3576fda2c0b9",
   "metadata": {},
   "outputs": [
    {
     "name": "stdout",
     "output_type": "stream",
     "text": [
      "[1, 2, 3, 4, 5, 6, 7]\n"
     ]
    }
   ],
   "source": [
    "a = [1,2,3,4,5,6]\n",
    "a.append(7)\n",
    "print(a)"
   ]
  },
  {
   "cell_type": "code",
   "execution_count": 2,
   "id": "a3989663-1d0a-4d8e-b41b-0a691ac90987",
   "metadata": {},
   "outputs": [
    {
     "name": "stdout",
     "output_type": "stream",
     "text": [
      "[1, 2, 3, 4, 5, 6, 7, 8, 9]\n"
     ]
    }
   ],
   "source": [
    "b = [1,2,3,4,5,6]\n",
    "b.extend([7,8,9])\n",
    "print(b)"
   ]
  },
  {
   "cell_type": "code",
   "execution_count": 3,
   "id": "ceaa6e13-c61d-431e-8adf-7bdc4099d103",
   "metadata": {},
   "outputs": [
    {
     "name": "stdout",
     "output_type": "stream",
     "text": [
      "[1, 2, 3, 4, 5, 6, 7, [8, 9, 10]]\n"
     ]
    }
   ],
   "source": [
    "# so you got an questions that from what is the exact diff between append and extend\n",
    "# lets see\n",
    "a = [1,2,3,4,5,6,7]\n",
    "a.append([8,9,10])\n",
    "print(a)\n",
    "# now you point is clear that append functiononly take only one item even tohugh you passed the list to him he consider as \n",
    "# as an single item where as"
   ]
  },
  {
   "cell_type": "code",
   "execution_count": 4,
   "id": "0265c39f-43bb-42ff-ae95-fb9bf9be8676",
   "metadata": {},
   "outputs": [
    {
     "name": "stdout",
     "output_type": "stream",
     "text": [
      "[1, 2, 3, 4, 5, 6, 7, 8, 9, 10]\n"
     ]
    }
   ],
   "source": [
    "a = [1,2,3,4,5,6,7]\n",
    "a.extend([8,9,10])\n",
    "print(a)\n",
    "# same thing is happend in extend very well so it extend function used for the multiple add multiple items in single shot"
   ]
  },
  {
   "cell_type": "code",
   "execution_count": 13,
   "id": "cbf47313-888a-4087-a69a-bb2523f1e96f",
   "metadata": {},
   "outputs": [
    {
     "name": "stdout",
     "output_type": "stream",
     "text": [
      "[1, 2, 3, 4, 5, 6, 'h', 'e', 'l', 'l', 'o']\n",
      "[1, 2, 3, 4, 5, 6, 'bye', 'tata']\n"
     ]
    }
   ],
   "source": [
    "# so what the corn of extend function lets see\n",
    "c= [1,2,3,4,5,6]\n",
    "c.extend('hello')\n",
    "print(c)\n",
    "# but in the hello it will separte the hello as an split the eacha nd evry character and consider as an single char item\n",
    "\n",
    "# where as if you passed on the list it will take as an single item\n",
    "p= [1,2,3,4,5,6]\n",
    "p.extend(['bye','tata']) \n",
    "print(p)"
   ]
  },
  {
   "cell_type": "markdown",
   "id": "727377ee-11a6-447a-8317-c32b8269e435",
   "metadata": {},
   "source": [
    "NOTE: \n",
    "- append used for to add sinlge item\n",
    "- extend use for add multiple item in a list"
   ]
  },
  {
   "cell_type": "markdown",
   "id": "8de77225-05e3-41e6-862a-b5c372daf4b7",
   "metadata": {},
   "source": [
    "#### insert"
   ]
  },
  {
   "cell_type": "code",
   "execution_count": 16,
   "id": "29a9ea4c-1946-4a88-a478-71a327d10851",
   "metadata": {},
   "outputs": [
    {
     "name": "stdout",
     "output_type": "stream",
     "text": [
      "[1, 100, 2, 3, 4, 5, 6]\n"
     ]
    }
   ],
   "source": [
    "c= [1,2,3,4,5,6]\n",
    "c.insert(1,100) #(index_position, value_you_haveto_inserted)\n",
    "print(c)"
   ]
  },
  {
   "cell_type": "markdown",
   "id": "8a940451-ff35-40d0-b531-1a6b6d7cd5cc",
   "metadata": {},
   "source": [
    "# Editing items in a List\n",
    "- with indexing\n",
    "- with slicing "
   ]
  },
  {
   "cell_type": "code",
   "execution_count": 19,
   "id": "de864f3e-90b3-4d88-b765-96707493df9b",
   "metadata": {},
   "outputs": [
    {
     "name": "stdout",
     "output_type": "stream",
     "text": [
      "[1, 2, 3, 4, 5, 6, 7, 8, 500]\n",
      "[1, 100, 200, 200, 400, 500, 600, 7, 8, 500]\n"
     ]
    }
   ],
   "source": [
    "j = [1,2,3,4,5,6,7,8,9]\n",
    "\n",
    "# editing with indexing\n",
    "j[-1] = 500\n",
    "print(j)\n",
    "\n",
    "# with slicing\n",
    "j[1:6] = [100,200,200,400,500,600]\n",
    "print(j)"
   ]
  },
  {
   "cell_type": "markdown",
   "id": "854901a3-c47c-43c1-9ccb-42d403640ed0",
   "metadata": {},
   "source": [
    "# Deleting items from a List"
   ]
  },
  {
   "cell_type": "code",
   "execution_count": 20,
   "id": "a4ca8ac1-a0d8-49ed-a9b3-d7142df7f224",
   "metadata": {},
   "outputs": [
    {
     "name": "stdout",
     "output_type": "stream",
     "text": [
      "[1, 4]\n"
     ]
    }
   ],
   "source": [
    "# del\n",
    "L = [1,2,3,4,5]\n",
    "\n",
    "# indexing\n",
    "del L[-1]\n",
    "\n",
    "# slicing\n",
    "del L[1:3]\n",
    "print(L)"
   ]
  },
  {
   "cell_type": "markdown",
   "id": "309a0e6d-f5f8-464e-ba23-ad727c233d16",
   "metadata": {},
   "source": [
    "#### remove:- when you want to delete by the value you dont know the exact position of that alue that time you used the remove function"
   ]
  },
  {
   "cell_type": "code",
   "execution_count": 21,
   "id": "537d5b03-33c4-4b6a-bdcb-e24702a65a66",
   "metadata": {},
   "outputs": [
    {
     "name": "stdout",
     "output_type": "stream",
     "text": [
      "[1, 2, 3, 4]\n"
     ]
    }
   ],
   "source": [
    "L = [1,2,3,4,5]\n",
    "L.remove(5)\n",
    "print(L)"
   ]
  },
  {
   "cell_type": "markdown",
   "id": "0c48b9be-cbf0-4520-b8e3-2913b2e975ea",
   "metadata": {},
   "source": [
    "#### pop: you can used this function in 2 ways \n",
    "- 1) deleting by index position\n",
    "- 2) deleting by last item if you not passed any kind of default behaviour is to delete the last item of the list"
   ]
  },
  {
   "cell_type": "code",
   "execution_count": 23,
   "id": "4abf88d0-0d5c-4de2-b3e2-33d2b2cc1b5d",
   "metadata": {},
   "outputs": [
    {
     "name": "stdout",
     "output_type": "stream",
     "text": [
      "[2, 3, 4, 5]\n"
     ]
    }
   ],
   "source": [
    "# by index position\n",
    "L = [1,2,3,4,5]\n",
    "L.pop(0)\n",
    "print(L)"
   ]
  },
  {
   "cell_type": "code",
   "execution_count": 24,
   "id": "376f1ab8-6846-4fdc-baca-7cb2d70d84d0",
   "metadata": {},
   "outputs": [
    {
     "name": "stdout",
     "output_type": "stream",
     "text": [
      "[1, 2, 3, 4]\n"
     ]
    }
   ],
   "source": [
    "# by last item\n",
    "L = [1,2,3,4,5]\n",
    "L.pop()\n",
    "print(L)"
   ]
  },
  {
   "cell_type": "markdown",
   "id": "57579b5e-81af-4cb9-ba43-bdd7317ca06e",
   "metadata": {},
   "source": [
    "#### Clear: it delete all the items in the list by using this function you can makes your list emtpty"
   ]
  },
  {
   "cell_type": "code",
   "execution_count": 25,
   "id": "8d85be86-d054-499d-bf8a-987be182634e",
   "metadata": {},
   "outputs": [
    {
     "name": "stdout",
     "output_type": "stream",
     "text": [
      "[]\n"
     ]
    }
   ],
   "source": [
    "# clear\n",
    "L = [1,2,3,4,5]\n",
    "\n",
    "L.clear()\n",
    "\n",
    "print(L)"
   ]
  },
  {
   "cell_type": "markdown",
   "id": "88f051e0-66de-4125-b2c1-d8db22a69662",
   "metadata": {},
   "source": [
    "## Operations on Lists\n",
    "\n",
    "- Arithmetic\n",
    "- Membership\n",
    "- Loop"
   ]
  },
  {
   "cell_type": "code",
   "execution_count": 2,
   "id": "67b42b31-7ac1-4d2a-b2a1-5cdbd20ee8dd",
   "metadata": {},
   "outputs": [
    {
     "name": "stdout",
     "output_type": "stream",
     "text": [
      "[1, 2, 3, 4, 5, 6, 7, 8, 9, 10]\n",
      "[1, 2, 3, 4, 5, 1, 2, 3, 4, 5, 1, 2, 3, 4, 5]\n"
     ]
    },
    {
     "ename": "TypeError",
     "evalue": "unsupported operand type(s) for /: 'list' and 'int'",
     "output_type": "error",
     "traceback": [
      "\u001b[0;31m---------------------------------------------------------------------------\u001b[0m",
      "\u001b[0;31mTypeError\u001b[0m                                 Traceback (most recent call last)",
      "Cell \u001b[0;32mIn [2], line 10\u001b[0m\n\u001b[1;32m      8\u001b[0m \u001b[38;5;28mprint\u001b[39m(l1\u001b[38;5;241m*\u001b[39m\u001b[38;5;241m3\u001b[39m)\n\u001b[1;32m      9\u001b[0m \u001b[38;5;66;03m# excluding devison Opearator\u001b[39;00m\n\u001b[0;32m---> 10\u001b[0m \u001b[38;5;28mprint\u001b[39m(\u001b[43ml1\u001b[49m\u001b[38;5;241;43m/\u001b[39;49m\u001b[38;5;241;43m4\u001b[39;49m)\n",
      "\u001b[0;31mTypeError\u001b[0m: unsupported operand type(s) for /: 'list' and 'int'"
     ]
    }
   ],
   "source": [
    "#arithematic operation\n",
    "\n",
    "l1 = [1,2,3,4,5]\n",
    "l2 = [6,7,8,9,10]\n",
    "\n",
    "# you can concatenate/ merge the 2 list\n",
    "print(l1+l2)\n",
    "print(l1*3)\n",
    "# excluding devison Opearator\n",
    "print(l1/4)"
   ]
  },
  {
   "cell_type": "markdown",
   "id": "00b5253b-d726-4b61-99ee-efa2a7c789ab",
   "metadata": {},
   "source": [
    "# Membership operator"
   ]
  },
  {
   "cell_type": "code",
   "execution_count": 4,
   "id": "4ba020bf-cb95-4e96-9ebb-b1b03292bc89",
   "metadata": {},
   "outputs": [
    {
     "name": "stdout",
     "output_type": "stream",
     "text": [
      "True\n",
      "False\n"
     ]
    }
   ],
   "source": [
    "print(5 in l1)\n",
    "print(5 not in l1)"
   ]
  },
  {
   "cell_type": "code",
   "execution_count": 5,
   "id": "522172dd-bb94-4da8-8dc4-25c9ebe2d085",
   "metadata": {},
   "outputs": [
    {
     "name": "stdout",
     "output_type": "stream",
     "text": [
      "False\n"
     ]
    }
   ],
   "source": [
    "l2 = [1,2,3,4,5,6,[6,7]]\n",
    "print(7 in l2)"
   ]
  },
  {
   "cell_type": "markdown",
   "id": "a5c9a6fe-aca8-4ae6-8414-32723ec2bd80",
   "metadata": {},
   "source": [
    "# Loops"
   ]
  },
  {
   "cell_type": "code",
   "execution_count": 7,
   "id": "cb320662-7472-4735-a797-811d5edfbd27",
   "metadata": {},
   "outputs": [
    {
     "name": "stdout",
     "output_type": "stream",
     "text": [
      "1\n",
      "2\n",
      "4\n",
      "5\n",
      "6\n"
     ]
    }
   ],
   "source": [
    "a = [1,2,4,5,6]\n",
    "for i in a:\n",
    "    print(i)"
   ]
  },
  {
   "cell_type": "code",
   "execution_count": 8,
   "id": "ef47b4ac-6ffa-4e2c-90d9-f5145b2d4c50",
   "metadata": {},
   "outputs": [
    {
     "name": "stdout",
     "output_type": "stream",
     "text": [
      "1\n",
      "2\n",
      "4\n",
      "5\n",
      "6\n",
      "[99, 88]\n"
     ]
    }
   ],
   "source": [
    "a = [1,2,4,5,6,[99,88]]\n",
    "for i in a:\n",
    "    print(i)"
   ]
  },
  {
   "cell_type": "code",
   "execution_count": 10,
   "id": "b4108270-dab2-46c0-b3bd-a168723a824a",
   "metadata": {},
   "outputs": [
    {
     "name": "stdout",
     "output_type": "stream",
     "text": [
      "[[1, 2], [3, 4]]\n",
      "[[5, 6], [7, 8]]\n"
     ]
    }
   ],
   "source": [
    "a = [[[1,2],[3,4]],[[5,6],[7,8]]]\n",
    "for i in a:\n",
    "    print(i)"
   ]
  },
  {
   "cell_type": "markdown",
   "id": "449075ed-a045-4ec6-888f-089bc76bc38f",
   "metadata": {},
   "source": [
    "# List functions"
   ]
  },
  {
   "cell_type": "code",
   "execution_count": 11,
   "id": "1cc5ae12-8a02-4a0b-9594-8e8a9dc554bc",
   "metadata": {},
   "outputs": [
    {
     "name": "stdout",
     "output_type": "stream",
     "text": [
      "5\n",
      "0\n",
      "7\n",
      "[7, 5, 2, 1, 0]\n"
     ]
    }
   ],
   "source": [
    "# len/min/max/sorted\n",
    "L = [2,1,5,7,0]\n",
    "\n",
    "print(len(L))\n",
    "# it only work on homogenous data type\n",
    "print(min(L))\n",
    "print(max(L))\n",
    "print(sorted(L,reverse=True))"
   ]
  },
  {
   "cell_type": "code",
   "execution_count": 12,
   "id": "56646a2b-63d7-4dbf-81a7-963b23f45802",
   "metadata": {},
   "outputs": [
    {
     "data": {
      "text/plain": [
       "1"
      ]
     },
     "execution_count": 12,
     "metadata": {},
     "output_type": "execute_result"
    }
   ],
   "source": [
    "# count \n",
    "L = [1,2,1,3,4,1,5]\n",
    "L.count(5)"
   ]
  },
  {
   "cell_type": "code",
   "execution_count": 13,
   "id": "c372f20b-f204-4d12-bb80-6089cc3ec1b8",
   "metadata": {},
   "outputs": [
    {
     "data": {
      "text/plain": [
       "0"
      ]
     },
     "execution_count": 13,
     "metadata": {},
     "output_type": "execute_result"
    }
   ],
   "source": [
    "# index\n",
    "L = [1,2,1,3,4,1,5] # if the vitem repated multiple time that time it gives the frist one\n",
    "L.index(1)"
   ]
  },
  {
   "cell_type": "code",
   "execution_count": 14,
   "id": "3f8059f6-7d1c-4277-9c5b-dba7ade71ea6",
   "metadata": {},
   "outputs": [
    {
     "name": "stdout",
     "output_type": "stream",
     "text": [
      "[0, 7, 5, 1, 2]\n"
     ]
    }
   ],
   "source": [
    "# reverse\n",
    "L = [2,1,5,7,0]\n",
    "# permanently reverses the list\n",
    "L.reverse()\n",
    "print(L)"
   ]
  },
  {
   "cell_type": "code",
   "execution_count": 15,
   "id": "ca25fa3c-f716-437d-87c2-7f3535cff3c1",
   "metadata": {},
   "outputs": [
    {
     "name": "stdout",
     "output_type": "stream",
     "text": [
      "[2, 1, 5, 7, 0]\n",
      "[0, 1, 2, 5, 7]\n",
      "[2, 1, 5, 7, 0]\n",
      "[0, 1, 2, 5, 7]\n"
     ]
    }
   ],
   "source": [
    "# sort (vs sorted)\n",
    "L = [2,1,5,7,0]\n",
    "print(L)\n",
    "print(sorted(L))\n",
    "print(L)\n",
    "L.sort()\n",
    "print(L)"
   ]
  },
  {
   "cell_type": "code",
   "execution_count": 16,
   "id": "da524943-c001-4c9a-9091-f5131b9d41f0",
   "metadata": {},
   "outputs": [
    {
     "name": "stdout",
     "output_type": "stream",
     "text": [
      "[2, 1, 5, 7, 0]\n",
      "140525188653824\n",
      "[2, 1, 5, 7, 0]\n",
      "140525190258816\n"
     ]
    }
   ],
   "source": [
    "# copy -> shallow\n",
    "L = [2,1,5,7,0]\n",
    "print(L)\n",
    "print(id(L))\n",
    "L1 = L.copy()\n",
    "print(L1)\n",
    "print(id(L1))"
   ]
  },
  {
   "cell_type": "code",
   "execution_count": 19,
   "id": "1e7582a6-2f57-4515-b500-154d72c5a6bc",
   "metadata": {},
   "outputs": [],
   "source": [
    "# List Comprehension\n",
    "# List Comprehension provides a concise way of creating lists.\n",
    "\n",
    "# newlist = [expression for item in iterable if condition == True]"
   ]
  },
  {
   "cell_type": "markdown",
   "id": "029fe0d1-b564-46ca-9fc9-e95b349c0400",
   "metadata": {},
   "source": [
    "Advantages of List Comprehension\n",
    "\n",
    "- More time-efficient and space-efficient than loops.\n",
    "- Require fewer lines of code.\n",
    "- Transforms iterative statement into a formula."
   ]
  },
  {
   "cell_type": "markdown",
   "id": "d2bd594e-393d-4f2a-9763-0582248c5410",
   "metadata": {},
   "source": [
    "# TASK 1) \n",
    "- add 1 to 10 numbers in the list by normal way and list comprerhensiom way"
   ]
  },
  {
   "cell_type": "code",
   "execution_count": 3,
   "id": "ac2fde76-ec6f-4d88-bf1b-e4c36a76aec9",
   "metadata": {},
   "outputs": [
    {
     "name": "stdout",
     "output_type": "stream",
     "text": [
      "[1, 2, 3, 4, 5, 6, 7, 8, 9, 10]\n"
     ]
    }
   ],
   "source": [
    "\n",
    "list1 = []\n",
    "for i in range(1,10+1):\n",
    "    list1.append(i)\n",
    "print(list1)"
   ]
  },
  {
   "cell_type": "code",
   "execution_count": 4,
   "id": "e01a979c-ee84-4baa-b0cb-93a184842e36",
   "metadata": {},
   "outputs": [
    {
     "data": {
      "text/plain": [
       "[1, 2, 3, 4, 5, 6, 7, 8, 9, 10]"
      ]
     },
     "execution_count": 4,
     "metadata": {},
     "output_type": "execute_result"
    }
   ],
   "source": [
    "# by list comprehension\n",
    "[i for i in range(1,10+1)]"
   ]
  },
  {
   "cell_type": "markdown",
   "id": "8aa6f65b-2499-4e38-90b4-534e131ec21a",
   "metadata": {},
   "source": [
    "# Task2)\n",
    "- scaler multiplication with vector "
   ]
  },
  {
   "cell_type": "code",
   "execution_count": 23,
   "id": "43f80047-ae2d-4364-96d0-ae82b34d02b5",
   "metadata": {},
   "outputs": [
    {
     "name": "stdout",
     "output_type": "stream",
     "text": [
      "[-3, -6, -9, -12, -15]\n"
     ]
    }
   ],
   "source": [
    "vect = [1,2,3,4,5]\n",
    "s = -3\n",
    "x =[]\n",
    "for i in vect:\n",
    "    x.append(i * s)\n",
    "print(x)"
   ]
  },
  {
   "cell_type": "code",
   "execution_count": 24,
   "id": "3859f324-6bef-4475-bdb7-b94e21c38a5d",
   "metadata": {},
   "outputs": [
    {
     "data": {
      "text/plain": [
       "[-3, -6, -9, -12, -15]"
      ]
     },
     "execution_count": 24,
     "metadata": {},
     "output_type": "execute_result"
    }
   ],
   "source": [
    "# list comprehension \n",
    "[i*s for i in vect]"
   ]
  },
  {
   "cell_type": "markdown",
   "id": "da626e37-303c-44d9-8543-ef8af8db6a37",
   "metadata": {},
   "source": [
    "# Task3\n",
    "- make a square of items in the list"
   ]
  },
  {
   "cell_type": "code",
   "execution_count": 1,
   "id": "6336544b-455a-4deb-8f2e-4a7e11471553",
   "metadata": {},
   "outputs": [
    {
     "data": {
      "text/plain": [
       "[1, 4, 9]"
      ]
     },
     "execution_count": 1,
     "metadata": {},
     "output_type": "execute_result"
    }
   ],
   "source": [
    "list2 = [1,2,3]\n",
    "[i**2 for i in list2]\n"
   ]
  },
  {
   "cell_type": "markdown",
   "id": "b7344c3c-5fad-4894-a128-de36386d5abf",
   "metadata": {},
   "source": [
    "# Task 4\n",
    "- get the values that are divisible by 5 from the arnge of 1,50"
   ]
  },
  {
   "cell_type": "code",
   "execution_count": 2,
   "id": "2dbf41f1-47f3-470a-8190-efb138aff089",
   "metadata": {},
   "outputs": [
    {
     "data": {
      "text/plain": [
       "[5, 10, 15, 20, 25, 30, 35, 40, 45]"
      ]
     },
     "execution_count": 2,
     "metadata": {},
     "output_type": "execute_result"
    }
   ],
   "source": [
    "[i for i in range(1,50) if i % 5==0]"
   ]
  },
  {
   "cell_type": "markdown",
   "id": "8a0ad86f-7e5b-4795-b8b2-9e9390254bcb",
   "metadata": {},
   "source": [
    "# Task5)\n",
    "-  print the languages that are start with \"p\" "
   ]
  },
  {
   "cell_type": "code",
   "execution_count": 12,
   "id": "8c02baac-fc5b-4aa4-97ad-c5a647f37045",
   "metadata": {},
   "outputs": [
    {
     "data": {
      "text/plain": [
       "['python', 'php']"
      ]
     },
     "execution_count": 12,
     "metadata": {},
     "output_type": "execute_result"
    }
   ],
   "source": [
    "lang = ['python','java','php','ruby','c++','c']\n",
    "[languages for languages in lang if  languages.startswith('p')]"
   ]
  },
  {
   "cell_type": "markdown",
   "id": "079352c5-3202-415c-9d70-e1e2af233426",
   "metadata": {},
   "source": [
    "# Nested if with list comprehension\n",
    "- check whether your fruits bthat you want is present in basket or not\n"
   ]
  },
  {
   "cell_type": "code",
   "execution_count": 14,
   "id": "8a5c305c-be24-4410-a09a-0c9447b90d49",
   "metadata": {},
   "outputs": [
    {
     "data": {
      "text/plain": [
       "['mango']"
      ]
     },
     "execution_count": 14,
     "metadata": {},
     "output_type": "execute_result"
    }
   ],
   "source": [
    "basket =  ['banana','gava','pineapple','mango','dragon fruit']\n",
    "my_fruit = ['mango','banana','dragon fruit','chilly','sweet potato']\n",
    "\n",
    "[fruit for fruit in my_fruit if fruit in basket if fruit.startswith('m')]\n"
   ]
  },
  {
   "cell_type": "code",
   "execution_count": 15,
   "id": "baaefd7a-380d-4931-a32e-4f0ff679b12f",
   "metadata": {},
   "outputs": [
    {
     "data": {
      "text/plain": [
       "[[1, 2, 3], [2, 4, 6], [3, 6, 9]]"
      ]
     },
     "execution_count": 15,
     "metadata": {},
     "output_type": "execute_result"
    }
   ],
   "source": [
    "# Print 3*3 matrix with list comprehension\n",
    "[[i*j for i in range(1,4)]for j in range(1,4)]"
   ]
  },
  {
   "cell_type": "markdown",
   "id": "6dacaff4-1f92-46f3-afc3-9c5536175ed2",
   "metadata": {},
   "source": [
    "# cartesian product: taking two list and multiply with 2 lists"
   ]
  },
  {
   "cell_type": "code",
   "execution_count": 18,
   "id": "32c280be-abd3-4897-903f-25d0a6051028",
   "metadata": {},
   "outputs": [
    {
     "name": "stdout",
     "output_type": "stream",
     "text": [
      "[7, 8, 9, 10, 11, 12, 14, 16, 18, 20, 22, 24, 21, 24, 27, 30, 33, 36, 28, 32, 36, 40, 44, 48, 35, 40, 45, 50, 55, 60, 42, 48, 54, 60, 66, 72, 49, 56, 63, 70, 77, 84]\n"
     ]
    }
   ],
   "source": [
    "\n",
    "l1 = [1,2,3,4,5,6,7]\n",
    "l2 = [7,8,9,10,11,12]\n",
    "print([i*j for i in l1 for j in l2])"
   ]
  },
  {
   "cell_type": "markdown",
   "id": "73861bf8-6925-45a0-99c4-c941bf6c557d",
   "metadata": {},
   "source": [
    "# 2 ways of traverse a list"
   ]
  },
  {
   "cell_type": "markdown",
   "id": "d361c701-c470-4d3d-bd74-c270cc510e1c",
   "metadata": {},
   "source": [
    "- item wise\n",
    "- index wise"
   ]
  },
  {
   "cell_type": "code",
   "execution_count": 1,
   "id": "1a6ffaaf-390a-49ab-a785-53b0d2b51f9c",
   "metadata": {},
   "outputs": [
    {
     "name": "stdout",
     "output_type": "stream",
     "text": [
      "1\n",
      "2\n",
      "3\n",
      "4\n",
      "5\n",
      "6\n"
     ]
    }
   ],
   "source": [
    "# item wise\n",
    "l1 = [1,2,3,4,5,6]\n",
    "for items in l1:\n",
    "    print(items)"
   ]
  },
  {
   "cell_type": "code",
   "execution_count": 3,
   "id": "ea21b527-24e4-4436-9168-ad480ad94aa5",
   "metadata": {},
   "outputs": [
    {
     "name": "stdout",
     "output_type": "stream",
     "text": [
      "0\n",
      "1\n",
      "2\n",
      "3\n"
     ]
    }
   ],
   "source": [
    "# index wise\n",
    "l2 = [1,2,34,56]\n",
    "for items in range(0,len(l2)):\n",
    "    print(items)\n",
    "    \n",
    "# it print the index position"
   ]
  },
  {
   "cell_type": "markdown",
   "id": "80e100e6-a0d8-403d-8eda-6394722b1b01",
   "metadata": {},
   "source": [
    "# Zip Function\n",
    "The zip() function returns a zip object, which is an iterator of tuples where the first item in each passed iterator is paired together, and then the second item in each passed iterator are paired together.\n",
    "\n",
    "If the passed iterators have different lengths, the iterator with the least items decides the length of the new iterator."
   ]
  },
  {
   "cell_type": "code",
   "execution_count": 8,
   "id": "aced8104-cdf3-451a-ba39-c95415256930",
   "metadata": {},
   "outputs": [
    {
     "data": {
      "text/plain": [
       "[2, 4, 37, 60]"
      ]
     },
     "execution_count": 8,
     "metadata": {},
     "output_type": "execute_result"
    }
   ],
   "source": [
    "l1 = [1,2,3,4,5,6]\n",
    "l2 = [1,2,34,56]\n",
    "\n",
    "list(zip(l1,l2))\n",
    "[i+j for i,j in zip(l1,l2)]"
   ]
  },
  {
   "cell_type": "code",
   "execution_count": 9,
   "id": "fdcf7316-d4e5-442e-ae71-1448a39890a6",
   "metadata": {},
   "outputs": [
    {
     "data": {
      "text/plain": [
       "[1,\n",
       " 2,\n",
       " type,\n",
       " <bound method Kernel.raw_input of <ipykernel.ipkernel.IPythonKernel object at 0x7ff86fb5a650>>,\n",
       " True]"
      ]
     },
     "execution_count": 9,
     "metadata": {},
     "output_type": "execute_result"
    }
   ],
   "source": [
    "# can contain any kind of objects in python\n",
    "l3 = [1,2,type,input,True]\n",
    "l3\n",
    "# in python evry thing is an object lets see into the future"
   ]
  },
  {
   "cell_type": "markdown",
   "id": "dc85b43b-6314-4b04-8e7f-1039356e85aa",
   "metadata": {},
   "source": [
    "## Disadvantages of Python Lists\n",
    "\n",
    "- Slow\n",
    "- Risky usage\n",
    "- eats up more memory"
   ]
  },
  {
   "cell_type": "code",
   "execution_count": 10,
   "id": "0378c2ef-be15-457c-8b49-88b8b2871e5e",
   "metadata": {},
   "outputs": [
    {
     "name": "stdout",
     "output_type": "stream",
     "text": [
      "[1, 2, 3]\n",
      "[1, 2, 3]\n",
      "[1, 2, 3, 4]\n",
      "[1, 2, 3, 4]\n"
     ]
    }
   ],
   "source": [
    "# lets explore the risky usage why we saying like that\n",
    "l5 = [1,2,3]\n",
    "l6=l5\n",
    "print(l5)\n",
    "print(l6)\n",
    "l5.append(4)\n",
    "print(l5)\n",
    "print(l6)\n",
    "# you can noticed here that we are not changing the l6 we just append the number in the l5 and it will change into the \n",
    "# l6 also..this is occur beacuse list is an mutable data type.\n",
    "# what you can do insted of this."
   ]
  },
  {
   "cell_type": "code",
   "execution_count": 11,
   "id": "ca36550d-de12-48bc-a1f5-2df58b14ecca",
   "metadata": {},
   "outputs": [
    {
     "name": "stdout",
     "output_type": "stream",
     "text": [
      "[1, 2, 3]\n",
      "[1, 2, 3]\n",
      "[1, 2, 3, 4]\n",
      "[1, 2, 3]\n"
     ]
    }
   ],
   "source": [
    "# lets explore the risky usage why we saying like that\n",
    "l5 = [1,2,3]\n",
    "l6=l5.copy()\n",
    "print(l5)\n",
    "print(l6)\n",
    "l5.append(4)\n",
    "print(l5)\n",
    "print(l6)\n",
    "# we used the copy function so this probloem not occur once again."
   ]
  },
  {
   "cell_type": "code",
   "execution_count": null,
   "id": "0a2c1a9e-ae40-4e48-a8bf-5b0ef9ed72dc",
   "metadata": {},
   "outputs": [],
   "source": []
  }
 ],
 "metadata": {
  "kernelspec": {
   "display_name": "Python 3 (ipykernel)",
   "language": "python",
   "name": "python3"
  },
  "language_info": {
   "codemirror_mode": {
    "name": "ipython",
    "version": 3
   },
   "file_extension": ".py",
   "mimetype": "text/x-python",
   "name": "python",
   "nbconvert_exporter": "python",
   "pygments_lexer": "ipython3",
   "version": "3.10.6"
  }
 },
 "nbformat": 4,
 "nbformat_minor": 5
}
