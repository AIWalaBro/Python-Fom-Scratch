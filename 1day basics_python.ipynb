{
 "cells": [
  {
   "cell_type": "markdown",
   "id": "9ca0786e-236b-4e22-9435-05f1531fcd6a",
   "metadata": {},
   "source": [
    "# Printing Hello World Program"
   ]
  },
  {
   "cell_type": "code",
   "execution_count": 3,
   "id": "7e49326d-61bd-4f0f-867d-79ce7c32d0fb",
   "metadata": {},
   "outputs": [
    {
     "name": "stdout",
     "output_type": "stream",
     "text": [
      "hello world,1,1.5,6\n"
     ]
    }
   ],
   "source": [
    "print(\"hello world,1,1.5,6\")"
   ]
  },
  {
   "cell_type": "code",
   "execution_count": 6,
   "id": "8330653a-552e-4282-9fba-cbae7b39da58",
   "metadata": {},
   "outputs": [
    {
     "name": "stdout",
     "output_type": "stream",
     "text": [
      "hello,hi/1/2/3/4\n"
     ]
    }
   ],
   "source": [
    "print(\"hello,hi\",1,2,3,4,sep = \"/\")"
   ]
  },
  {
   "cell_type": "code",
   "execution_count": 9,
   "id": "33a0e098-8d4e-43fe-a612-2138bd012888",
   "metadata": {},
   "outputs": [
    {
     "name": "stdout",
     "output_type": "stream",
     "text": [
      "hello world\n",
      "my world\n"
     ]
    }
   ],
   "source": [
    "print(\"hello world\")\n",
    "print(\"my world\")"
   ]
  },
  {
   "cell_type": "code",
   "execution_count": 17,
   "id": "da94bec2-8cf0-4372-8f62-337c27da6a84",
   "metadata": {},
   "outputs": [
    {
     "name": "stdout",
     "output_type": "stream",
     "text": [
      "hello world hi maria\n",
      "hi nancy\n"
     ]
    }
   ],
   "source": [
    "print(\"hello world\",end = \" \")\n",
    "print(\"hi maria\")\n",
    "print(\"hi nancy\")"
   ]
  },
  {
   "cell_type": "code",
   "execution_count": 18,
   "id": "d92c4f7a-c7e8-4cda-a05c-5a99a8811258",
   "metadata": {},
   "outputs": [
    {
     "name": "stdout",
     "output_type": "stream",
     "text": [
      "hello world hi maria hi nancy\n"
     ]
    }
   ],
   "source": [
    "print(\"hello world\",end = \" \")\n",
    "print(\"hi maria\", end = \" \")\n",
    "print(\"hi nancy\")"
   ]
  },
  {
   "cell_type": "markdown",
   "id": "23ab5408-243b-4be6-a4a5-306b2c287e4b",
   "metadata": {},
   "source": [
    "# 2)Data types"
   ]
  },
  {
   "cell_type": "code",
   "execution_count": 20,
   "id": "fed85ca2-5771-42f1-84e9-8b14c3c24378",
   "metadata": {},
   "outputs": [
    {
     "name": "stdout",
     "output_type": "stream",
     "text": [
      "8\n",
      "inf\n"
     ]
    }
   ],
   "source": [
    "# integer values\n",
    "print(8)\n",
    "# max number that can alllowee in python\n",
    "print(1e309)"
   ]
  },
  {
   "cell_type": "code",
   "execution_count": 23,
   "id": "52811a4a-e475-4c54-a511-90072e9a9ee8",
   "metadata": {},
   "outputs": [
    {
     "name": "stdout",
     "output_type": "stream",
     "text": [
      "4.6\n",
      "1e+308\n"
     ]
    }
   ],
   "source": [
    "# float values\n",
    "print(4.6)\n",
    "print(1e308)"
   ]
  },
  {
   "cell_type": "code",
   "execution_count": 25,
   "id": "3bf9c4c7-471b-4330-b359-3be1025cbcc6",
   "metadata": {},
   "outputs": [
    {
     "name": "stdout",
     "output_type": "stream",
     "text": [
      "True\n",
      "False\n"
     ]
    }
   ],
   "source": [
    "# boolean\n",
    "print(True)\n",
    "print(False)"
   ]
  },
  {
   "cell_type": "code",
   "execution_count": 26,
   "id": "4ee4ae3f-c298-44e6-820a-f1e8f4620a36",
   "metadata": {},
   "outputs": [
    {
     "name": "stdout",
     "output_type": "stream",
     "text": [
      "hello\n"
     ]
    }
   ],
   "source": [
    "# String\n",
    "print('hello')"
   ]
  },
  {
   "cell_type": "code",
   "execution_count": 27,
   "id": "58b494a1-3cae-462b-90a1-f7198ce29079",
   "metadata": {},
   "outputs": [
    {
     "name": "stdout",
     "output_type": "stream",
     "text": [
      "5+6j\n"
     ]
    }
   ],
   "source": [
    "# complex number\n",
    "print('5+6j')"
   ]
  },
  {
   "cell_type": "code",
   "execution_count": 28,
   "id": "e42e82cc-6e1b-46da-a8e2-0b9fb280ba10",
   "metadata": {},
   "outputs": [
    {
     "name": "stdout",
     "output_type": "stream",
     "text": [
      "[1, 3, 4, 5, 6]\n"
     ]
    }
   ],
   "source": [
    "# List array\n",
    "# and in the c kanguage it will be like\n",
    "print([1,3,4,5,6])"
   ]
  },
  {
   "cell_type": "code",
   "execution_count": 29,
   "id": "f68c3d14-a52c-49d3-9ea6-37a2e4cf6a7d",
   "metadata": {},
   "outputs": [
    {
     "name": "stdout",
     "output_type": "stream",
     "text": [
      "hi sana\n"
     ]
    }
   ],
   "source": [
    "# Tuple\n",
    "print(\"hi sana\")"
   ]
  },
  {
   "cell_type": "code",
   "execution_count": 31,
   "id": "5c00afde-db02-49df-a3bc-e896fd038a00",
   "metadata": {},
   "outputs": [
    {
     "name": "stdout",
     "output_type": "stream",
     "text": [
      "{1}\n"
     ]
    }
   ],
   "source": [
    "# Sets\n",
    "print({1})"
   ]
  },
  {
   "cell_type": "code",
   "execution_count": 33,
   "id": "b2d23d97-1347-4c1c-9b23-bb4b39af142a",
   "metadata": {},
   "outputs": [
    {
     "name": "stdout",
     "output_type": "stream",
     "text": [
      "{'name': 'maria', 'surname': 'bravo'}\n"
     ]
    }
   ],
   "source": [
    "# Dictionary\n",
    "print({\"name\":\"maria\", \"surname\":\"bravo\"})"
   ]
  },
  {
   "cell_type": "markdown",
   "id": "28d31965-fdd8-4fc5-89c9-a241e822d041",
   "metadata": {},
   "source": [
    "# 3 .Variable"
   ]
  },
  {
   "cell_type": "code",
   "execution_count": 34,
   "id": "f4b052de-0f20-422b-9855-4661d3e19d68",
   "metadata": {},
   "outputs": [
    {
     "name": "stdout",
     "output_type": "stream",
     "text": [
      "13\n"
     ]
    }
   ],
   "source": [
    "a =6 \n",
    "b = 7\n",
    "print(a+b)"
   ]
  },
  {
   "cell_type": "markdown",
   "id": "d86851fa-2572-4531-801e-a9347b5cfb35",
   "metadata": {},
   "source": [
    "## interview important"
   ]
  },
  {
   "cell_type": "markdown",
   "id": "e9539397-5674-4175-a529-1c56c0f33d3e",
   "metadata": {},
   "source": [
    "### Dynamic typing"
   ]
  },
  {
   "cell_type": "markdown",
   "id": "6c103fc5-02fc-4cdb-aca6-88a010132c32",
   "metadata": {},
   "source": [
    "in python, if more your python interpreter is intelligent that he detect the what kind of variable your declaring there is no need as like as c and c++ you declare the data type frist"
   ]
  },
  {
   "cell_type": "code",
   "execution_count": 37,
   "id": "677f3e0c-3c2b-4fd2-a3f3-a1ad91e727b7",
   "metadata": {},
   "outputs": [
    {
     "name": "stdout",
     "output_type": "stream",
     "text": [
      "maria sharapoa\n"
     ]
    }
   ],
   "source": [
    "# e.g\n",
    "name = \"maria sharapoa\"\n",
    "print(name)"
   ]
  },
  {
   "cell_type": "markdown",
   "id": "970bba48-c518-47c2-8ecb-7c4d506c4349",
   "metadata": {},
   "source": [
    "## Dynamic binding"
   ]
  },
  {
   "cell_type": "markdown",
   "id": "d89f2cc7-ee4f-4a5e-8ef5-8890695dd825",
   "metadata": {},
   "source": [
    "in python, there is no fix variable datatypeit hold any kind of data type thorugh out code. value you can modified as per you want but in C or C++ you follow the static binding where as onc you delcaare the data types then  you can change in the whole code. yes you can modified the variable but yyou cant the data type that alocate you taht variable"
   ]
  },
  {
   "cell_type": "code",
   "execution_count": 36,
   "id": "ecbbb1de-0641-4927-bb2d-134e53ccd534",
   "metadata": {},
   "outputs": [
    {
     "name": "stdout",
     "output_type": "stream",
     "text": [
      "5\n",
      "heena\n"
     ]
    }
   ],
   "source": [
    "#e.g in python\n",
    "a=5\n",
    "print(a)\n",
    "a=\"heena\"\n",
    "print(a)\n",
    "\n",
    "#e.g in c/c++\n",
    "\n",
    "int a = 5"
   ]
  },
  {
   "cell_type": "markdown",
   "id": "0be7bc52-27b3-413f-8258-50c674ecf182",
   "metadata": {},
   "source": [
    "### Fun part of python programming the variabe data type allocation"
   ]
  },
  {
   "cell_type": "code",
   "execution_count": 38,
   "id": "118404d4-4aa7-46b7-adf6-a6e0e6f6f543",
   "metadata": {},
   "outputs": [
    {
     "name": "stdout",
     "output_type": "stream",
     "text": [
      "1 2 3\n"
     ]
    }
   ],
   "source": [
    "a,b,c = 1,2,3\n",
    "print(a,b,c)"
   ]
  },
  {
   "cell_type": "code",
   "execution_count": 39,
   "id": "b04718ed-6793-4ef8-8cb6-88a2bce9c48f",
   "metadata": {},
   "outputs": [
    {
     "name": "stdout",
     "output_type": "stream",
     "text": [
      "5 5 5\n"
     ]
    }
   ],
   "source": [
    "# you can give same value to different different variable \n",
    "a=b=c = 5\n",
    "print(a,b,c)"
   ]
  },
  {
   "cell_type": "markdown",
   "id": "b05e960d-a3f0-4c91-a08a-346268761f00",
   "metadata": {},
   "source": [
    "# 4)comment"
   ]
  },
  {
   "cell_type": "code",
   "execution_count": 40,
   "id": "e90ebea7-2404-4603-a0ba-ef23f3ba03dd",
   "metadata": {},
   "outputs": [
    {
     "data": {
      "text/plain": [
       "'this is multiline comment\\nthhis second line'"
      ]
     },
     "execution_count": 40,
     "metadata": {},
     "output_type": "execute_result"
    }
   ],
   "source": [
    "# this is the comment single line comment\n",
    "'''this is multiline comment\n",
    "thhis second line'''"
   ]
  },
  {
   "cell_type": "markdown",
   "id": "cafdeed8-1a7b-42d5-a8ce-286865a87db2",
   "metadata": {},
   "source": [
    "# 5)Keywords and Identifiers\n"
   ]
  },
  {
   "cell_type": "code",
   "execution_count": 46,
   "id": "68241168-588d-4d77-a04a-1292edc97e58",
   "metadata": {},
   "outputs": [],
   "source": [
    "#Keywords\n",
    "# ther are 35 keywords\n",
    "# this is an reserve keywords youc cannot use this reserve keywords to delcare the variables\n",
    "from keyword import kwlist"
   ]
  },
  {
   "cell_type": "code",
   "execution_count": 48,
   "id": "748a5395-8781-4a36-a026-b84b2ef3965c",
   "metadata": {},
   "outputs": [
    {
     "data": {
      "text/plain": [
       "['False',\n",
       " 'None',\n",
       " 'True',\n",
       " 'and',\n",
       " 'as',\n",
       " 'assert',\n",
       " 'async',\n",
       " 'await',\n",
       " 'break',\n",
       " 'class',\n",
       " 'continue',\n",
       " 'def',\n",
       " 'del',\n",
       " 'elif',\n",
       " 'else',\n",
       " 'except',\n",
       " 'finally',\n",
       " 'for',\n",
       " 'from',\n",
       " 'global',\n",
       " 'if',\n",
       " 'import',\n",
       " 'in',\n",
       " 'is',\n",
       " 'lambda',\n",
       " 'nonlocal',\n",
       " 'not',\n",
       " 'or',\n",
       " 'pass',\n",
       " 'raise',\n",
       " 'return',\n",
       " 'try',\n",
       " 'while',\n",
       " 'with',\n",
       " 'yield']"
      ]
     },
     "execution_count": 48,
     "metadata": {},
     "output_type": "execute_result"
    }
   ],
   "source": [
    "kwlist"
   ]
  },
  {
   "cell_type": "code",
   "execution_count": 49,
   "id": "e2374fbf-6092-4f03-b073-da8776779a00",
   "metadata": {},
   "outputs": [
    {
     "data": {
      "text/plain": [
       "35"
      ]
     },
     "execution_count": 49,
     "metadata": {},
     "output_type": "execute_result"
    }
   ],
   "source": [
    "# cehck the length of keywords\n",
    "len(kwlist)"
   ]
  },
  {
   "cell_type": "markdown",
   "id": "0ce84244-fc73-4bd6-ab6c-84cbea57d0ca",
   "metadata": {},
   "source": [
    "# 6)Identifiers"
   ]
  },
  {
   "cell_type": "markdown",
   "id": "4c3e8baa-c07c-4cd7-8e54-6461d53fb2ce",
   "metadata": {},
   "source": [
    "### Identifiers is like whatever you name provde to any variable,class or object the identity of that perticular object that can say the Identifiers"
   ]
  },
  {
   "cell_type": "markdown",
   "id": "1d4540fb-5904-461f-8e37-8960862b5929",
   "metadata": {},
   "source": [
    "#### Rules of Identifeirs"
   ]
  },
  {
   "cell_type": "markdown",
   "id": "9b1ea569-db22-4824-a521-565c75023c66",
   "metadata": {},
   "source": [
    "* you can not start with digit\n",
    "* in special character youc an only use the _\n"
   ]
  },
  {
   "cell_type": "markdown",
   "id": "62d033a4-2edd-407f-98a6-4ad52484cf82",
   "metadata": {},
   "source": [
    "# 7)User Input"
   ]
  },
  {
   "cell_type": "markdown",
   "id": "4d498e41-9b2e-47cd-8e08-7ac1016c5e4e",
   "metadata": {},
   "source": [
    "##### thier sre 2 types of software\n",
    "* Stactic\n",
    "* Dynamic"
   ]
  },
  {
   "cell_type": "code",
   "execution_count": 51,
   "id": "95f33f0d-fd88-451d-9a0f-cff29b0efdc7",
   "metadata": {},
   "outputs": [
    {
     "name": "stdin",
     "output_type": "stream",
     "text": [
      "Enter email bro@gmail.com\n"
     ]
    },
    {
     "data": {
      "text/plain": [
       "'bro@gmail.com'"
      ]
     },
     "execution_count": 51,
     "metadata": {},
     "output_type": "execute_result"
    }
   ],
   "source": [
    "input(\"Enter email\")"
   ]
  },
  {
   "cell_type": "code",
   "execution_count": 52,
   "id": "5b65dd0a-1367-42cd-beef-9ecf49eb467b",
   "metadata": {},
   "outputs": [
    {
     "name": "stdin",
     "output_type": "stream",
     "text": [
      "enter your first num 56\n",
      "enter second num 67\n"
     ]
    },
    {
     "name": "stdout",
     "output_type": "stream",
     "text": [
      "5667\n"
     ]
    }
   ],
   "source": [
    "# take input from users and store them in a variable\n",
    "fnum = input(\"enter your first num\")\n",
    "snum = input(\"enter second num\")\n",
    "\n",
    "# add the 2 variables\n",
    "print(fnum+snum)\n",
    "\n"
   ]
  },
  {
   "cell_type": "markdown",
   "id": "2c22ba63-d7e4-4e5e-a979-bd8a8e9bc2a2",
   "metadata": {},
   "source": [
    "#### ther re one question for you tell me the reason behind the why hasbeen print(5667) instead of 56+67 = 123\n",
    "ans :- \"when input taken that time you have to declare the what kind of data type input you want if you not declare then that time is will be taken unviersal data type String that why it added the 5667\""
   ]
  },
  {
   "cell_type": "code",
   "execution_count": 53,
   "id": "ac2a7cc6-9cad-4486-b8a5-d9910f802d58",
   "metadata": {},
   "outputs": [
    {
     "name": "stdin",
     "output_type": "stream",
     "text": [
      "enter your first num 56\n",
      "enter second num 67\n"
     ]
    },
    {
     "name": "stdout",
     "output_type": "stream",
     "text": [
      "123\n"
     ]
    }
   ],
   "source": [
    "# Correct way\n",
    "fnum = int(input(\"enter your first num\"))\n",
    "snum = int(input(\"enter second num\"))\n",
    "\n",
    "# add the 2 variables\n",
    "print(fnum+snum)\n"
   ]
  },
  {
   "cell_type": "markdown",
   "id": "50031412-3fee-4e77-be1b-55703f7c5261",
   "metadata": {},
   "source": [
    "# 8)Type Convertion"
   ]
  },
  {
   "cell_type": "markdown",
   "id": "697b8fad-391b-40fc-9f95-371d22e6aa33",
   "metadata": {},
   "source": [
    "##### there are 2 types \n",
    "* Implicit \n",
    "* Explicit"
   ]
  },
  {
   "cell_type": "code",
   "execution_count": 57,
   "id": "ea33f741-457d-48e9-a800-94be6df25358",
   "metadata": {},
   "outputs": [
    {
     "name": "stdout",
     "output_type": "stream",
     "text": [
      "10.6\n",
      "<class 'int'> <class 'float'>\n"
     ]
    }
   ],
   "source": [
    "# Implicit e.g\n",
    "print(5+5.6)\n",
    "print(type(5),type(5.6))\n",
    "# see the type there has been 5 that has been int type and 5.6 is an float data type this has an diferent data types but they still add \n",
    "# by another programming law c & c++ is has been ocurred error but in python it ha san intelligance that enough to understand 5+5.6 will be 10.6\n",
    "# that implicit examples"
   ]
  },
  {
   "cell_type": "code",
   "execution_count": 58,
   "id": "c8f0d133-0a1c-4713-bbf6-62e2c413029c",
   "metadata": {},
   "outputs": [
    {
     "ename": "TypeError",
     "evalue": "unsupported operand type(s) for +: 'int' and 'str'",
     "output_type": "error",
     "traceback": [
      "\u001b[0;31m---------------------------------------------------------------------------\u001b[0m",
      "\u001b[0;31mTypeError\u001b[0m                                 Traceback (most recent call last)",
      "Cell \u001b[0;32mIn [58], line 1\u001b[0m\n\u001b[0;32m----> 1\u001b[0m \u001b[38;5;28mprint\u001b[39m(\u001b[38;5;241;43m4\u001b[39;49m\u001b[38;5;241;43m+\u001b[39;49m\u001b[38;5;124;43m\"\u001b[39;49m\u001b[38;5;124;43m4\u001b[39;49m\u001b[38;5;124;43m\"\u001b[39;49m)\n",
      "\u001b[0;31mTypeError\u001b[0m: unsupported operand type(s) for +: 'int' and 'str'"
     ]
    }
   ],
   "source": [
    "# Explicit examples\n",
    "print(4+\"4\")\n",
    "# why error has been ocurred beacuse of python dont know that in real life this is possible that you add int +string value. so when you request personally \n",
    "# cahnge the data type of the of given value that is an exlpicit example"
   ]
  },
  {
   "cell_type": "code",
   "execution_count": 60,
   "id": "611ac740-4b83-4c5d-8d80-9108ea036e48",
   "metadata": {},
   "outputs": [
    {
     "name": "stdout",
     "output_type": "stream",
     "text": [
      "4\n",
      "<class 'int'>\n"
     ]
    }
   ],
   "source": [
    "#Explicit examples\n",
    "print(int(\"4\"))\n",
    "print(type(int(4)))"
   ]
  },
  {
   "cell_type": "markdown",
   "id": "9827954a-f150-4897-a1c9-9a556b1c947a",
   "metadata": {},
   "source": [
    "# NOTES:- Python types conversion does not change original data it create new value of the object and work on that"
   ]
  },
  {
   "cell_type": "code",
   "execution_count": 65,
   "id": "e5bd7df6-6fce-4208-ba73-e78db22924a7",
   "metadata": {},
   "outputs": [
    {
     "name": "stdin",
     "output_type": "stream",
     "text": [
      "enter your first num 56\n",
      "enter second num 67\n"
     ]
    },
    {
     "name": "stdout",
     "output_type": "stream",
     "text": [
      "123\n",
      "<class 'str'>\n",
      "---------------------------\n"
     ]
    },
    {
     "name": "stdin",
     "output_type": "stream",
     "text": [
      "enter your first num 56\n",
      "enter second num 67\n"
     ]
    },
    {
     "name": "stdout",
     "output_type": "stream",
     "text": [
      "123\n"
     ]
    },
    {
     "data": {
      "text/plain": [
       "int"
      ]
     },
     "execution_count": 65,
     "metadata": {},
     "output_type": "execute_result"
    }
   ],
   "source": [
    "# E.g:\n",
    "\n",
    "fnum = input(\"enter your first num\")\n",
    "snum = input(\"enter second num\")\n",
    "\n",
    "# add the 2 variables\n",
    "result = int(fnum)+int(snum)\n",
    "print(result)\n",
    "\n",
    "# lets check the data type\n",
    "print(type(fnum))\n",
    "print(\"---------------------------\")\n",
    "# Correct way\n",
    "fnum = int(input(\"enter your first num\"))\n",
    "snum = int(input(\"enter second num\"))\n",
    "\n",
    "# add the 2 variables\n",
    "print(fnum+snum)\n",
    "type(fnum)\n"
   ]
  },
  {
   "cell_type": "markdown",
   "id": "57d92d3f-b627-4f8e-9144-aae08ce9274d",
   "metadata": {},
   "source": [
    "# 9) Literals"
   ]
  },
  {
   "cell_type": "markdown",
   "id": "1fb79c3d-869a-4bc8-b936-4122467b1d2a",
   "metadata": {},
   "source": [
    "##### Variables is an cointainer where you stored the value in that \n",
    "##### Literals means the values stored in the variable taht is called as literals"
   ]
  },
  {
   "cell_type": "code",
   "execution_count": 69,
   "id": "e487f6fc-d6a7-4f35-97ac-aa75fabb6e8d",
   "metadata": {},
   "outputs": [
    {
     "name": "stdout",
     "output_type": "stream",
     "text": [
      "10 100 200 300\n",
      "10.5 150.0 0.0015\n",
      "3.14j 3.14 0.0\n"
     ]
    }
   ],
   "source": [
    "a = 0b1010 #Binary Literals\n",
    "b = 100 #Decimal Literal \n",
    "c = 0o310 #Octal Literal\n",
    "d = 0x12c #Hexadecimal Literal\n",
    "\n",
    "#Float Literal\n",
    "float_1 = 10.5 \n",
    "float_2 = 1.5e2 # 1.5 * 10^2\n",
    "float_3 = 1.5e-3 # 1.5 * 10^-3\n",
    "\n",
    "#Complex Literal \n",
    "x = 3.14j\n",
    "\n",
    "print(a, b, c, d)\n",
    "print(float_1, float_2,float_3)\n",
    "print(x, x.imag, x.real)"
   ]
  },
  {
   "cell_type": "code",
   "execution_count": 70,
   "id": "e4340387-4512-4137-a46b-dae2bdf426fc",
   "metadata": {},
   "outputs": [
    {
     "name": "stdout",
     "output_type": "stream",
     "text": [
      "This is Python\n",
      "This is Python\n",
      "C\n",
      "This is a multiline string with more than one line code.\n",
      "😀😆🤣\n",
      "raw \\n string\n"
     ]
    }
   ],
   "source": [
    "string = 'This is Python'\n",
    "strings = \"This is Python\"\n",
    "char = \"C\"\n",
    "multiline_str = \"\"\"This is a multiline string with more than one line code.\"\"\"\n",
    "unicode = u\"\\U0001f600\\U0001F606\\U0001F923\"\n",
    "raw_str = r\"raw \\n string\"\n",
    "\n",
    "print(string)\n",
    "print(strings)\n",
    "print(char)\n",
    "print(multiline_str)\n",
    "print(unicode)\n",
    "print(raw_str)"
   ]
  },
  {
   "cell_type": "code",
   "execution_count": 71,
   "id": "59806582-db6f-44b7-abd0-58eadfaf9f35",
   "metadata": {},
   "outputs": [
    {
     "name": "stdout",
     "output_type": "stream",
     "text": [
      "a: 5\n",
      "b: 10\n"
     ]
    }
   ],
   "source": [
    "a = True + 4\n",
    "b = False + 10\n",
    "\n",
    "print(\"a:\", a)\n",
    "print(\"b:\", b)"
   ]
  },
  {
   "cell_type": "code",
   "execution_count": 72,
   "id": "7d365731-862b-4670-ac0d-fdcd6619c0fe",
   "metadata": {},
   "outputs": [
    {
     "name": "stdout",
     "output_type": "stream",
     "text": [
      "Program exe\n"
     ]
    }
   ],
   "source": [
    "k = None\n",
    "a = 5\n",
    "b = 6\n",
    "print('Program exe')"
   ]
  },
  {
   "cell_type": "code",
   "execution_count": null,
   "id": "660f0965-ea63-4bbf-a15f-e5197aa51372",
   "metadata": {},
   "outputs": [],
   "source": []
  }
 ],
 "metadata": {
  "kernelspec": {
   "display_name": "Python 3 (ipykernel)",
   "language": "python",
   "name": "python3"
  },
  "language_info": {
   "codemirror_mode": {
    "name": "ipython",
    "version": 3
   },
   "file_extension": ".py",
   "mimetype": "text/x-python",
   "name": "python",
   "nbconvert_exporter": "python",
   "pygments_lexer": "ipython3",
   "version": "3.10.6"
  }
 },
 "nbformat": 4,
 "nbformat_minor": 5
}
