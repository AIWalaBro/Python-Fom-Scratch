{
 "cells": [
  {
   "cell_type": "markdown",
   "id": "1f57d0d9-9828-491d-b469-dbcfa890dea2",
   "metadata": {},
   "source": [
    "Strings are sequence of Characters\n",
    "\n",
    "In Python specifically, strings are a sequence of Unicode Characters\n",
    "\n",
    "- Creating Strings\n",
    "- Accessing Strings\n",
    "- Adding Chars to Strings\n",
    "- Editing Strings\n",
    "- Deleting Strings\n",
    "- Operations on Strings\n",
    "- String Functions"
   ]
  },
  {
   "cell_type": "markdown",
   "id": "73742475-4eee-4b71-a20d-d45dfd2513b2",
   "metadata": {},
   "source": [
    "# Creating Stings"
   ]
  },
  {
   "cell_type": "code",
   "execution_count": 1,
   "id": "ffc0e8a6-efa7-49c7-8be1-1c7ba2e40128",
   "metadata": {},
   "outputs": [
    {
     "name": "stdout",
     "output_type": "stream",
     "text": [
      "hello\n"
     ]
    }
   ],
   "source": [
    "s = 'hello'\n",
    "s = \"hello\"\n",
    "# multiline strings\n",
    "s = '''hello'''\n",
    "s = \"\"\"hello\"\"\"\n",
    "s = str('hello')\n",
    "print(s)"
   ]
  },
  {
   "cell_type": "code",
   "execution_count": 2,
   "id": "8b2cf3bd-6f72-409b-8164-6e3a9381c746",
   "metadata": {},
   "outputs": [
    {
     "data": {
      "text/plain": [
       "\"it's raining outside\""
      ]
     },
     "execution_count": 2,
     "metadata": {},
     "output_type": "execute_result"
    }
   ],
   "source": [
    "\"it's raining outside\""
   ]
  },
  {
   "cell_type": "markdown",
   "id": "ac3259a4-a2f9-41f3-a148-b7e69f499a82",
   "metadata": {},
   "source": [
    "# accessing Substrings from a String"
   ]
  },
  {
   "cell_type": "code",
   "execution_count": 3,
   "id": "c0cead62-ee8d-4294-b3c4-075d50cf1ae4",
   "metadata": {},
   "outputs": [
    {
     "ename": "IndexError",
     "evalue": "string index out of range",
     "output_type": "error",
     "traceback": [
      "\u001b[0;31m---------------------------------------------------------------------------\u001b[0m",
      "\u001b[0;31mIndexError\u001b[0m                                Traceback (most recent call last)",
      "Cell \u001b[0;32mIn [3], line 3\u001b[0m\n\u001b[1;32m      1\u001b[0m \u001b[38;5;66;03m# Positive Indexing\u001b[39;00m\n\u001b[1;32m      2\u001b[0m s \u001b[38;5;241m=\u001b[39m \u001b[38;5;124m'\u001b[39m\u001b[38;5;124mhello world\u001b[39m\u001b[38;5;124m'\u001b[39m\n\u001b[0;32m----> 3\u001b[0m \u001b[38;5;28mprint\u001b[39m(\u001b[43ms\u001b[49m\u001b[43m[\u001b[49m\u001b[38;5;241;43m41\u001b[39;49m\u001b[43m]\u001b[49m)\n",
      "\u001b[0;31mIndexError\u001b[0m: string index out of range"
     ]
    }
   ],
   "source": [
    "# Positive Indexing\n",
    "s = 'hello world'\n",
    "print(s[41])"
   ]
  },
  {
   "cell_type": "code",
   "execution_count": 4,
   "id": "607578cc-57eb-42bb-bfac-2c919356e2f6",
   "metadata": {},
   "outputs": [
    {
     "name": "stdout",
     "output_type": "stream",
     "text": [
      "r\n"
     ]
    }
   ],
   "source": [
    "# Negative Indexing\n",
    "s = 'hello world'\n",
    "print(s[-3])"
   ]
  },
  {
   "cell_type": "code",
   "execution_count": 5,
   "id": "5d8e1977-b159-40c9-98a1-d8491762f990",
   "metadata": {},
   "outputs": [
    {
     "name": "stdout",
     "output_type": "stream",
     "text": [
      "wol\n"
     ]
    }
   ],
   "source": [
    "# Slicing\n",
    "s = 'hello world'\n",
    "print(s[6:0:-2])"
   ]
  },
  {
   "cell_type": "code",
   "execution_count": 6,
   "id": "f392dafb-d6cb-4797-b461-78bfadc5706e",
   "metadata": {},
   "outputs": [
    {
     "name": "stdout",
     "output_type": "stream",
     "text": [
      "dlrow olleh\n"
     ]
    }
   ],
   "source": [
    "print(s[::-1])"
   ]
  },
  {
   "cell_type": "code",
   "execution_count": 7,
   "id": "7a88518c-a762-4f6f-b0e9-613b2302fba8",
   "metadata": {},
   "outputs": [
    {
     "name": "stdout",
     "output_type": "stream",
     "text": [
      "dlrow\n"
     ]
    }
   ],
   "source": [
    "s = 'hello world'\n",
    "print(s[-1:-6:-1])"
   ]
  },
  {
   "cell_type": "markdown",
   "id": "8c959d6e-0c84-4511-befa-768ee6983648",
   "metadata": {},
   "source": [
    "# Editing and Deleting in Strings"
   ]
  },
  {
   "cell_type": "code",
   "execution_count": 9,
   "id": "92c5ba22-fe30-4477-bba4-c5a23480c349",
   "metadata": {},
   "outputs": [
    {
     "ename": "TypeError",
     "evalue": "'str' object does not support item assignment",
     "output_type": "error",
     "traceback": [
      "\u001b[0;31m---------------------------------------------------------------------------\u001b[0m",
      "\u001b[0;31mTypeError\u001b[0m                                 Traceback (most recent call last)",
      "Cell \u001b[0;32mIn [9], line 2\u001b[0m\n\u001b[1;32m      1\u001b[0m s \u001b[38;5;241m=\u001b[39m \u001b[38;5;124m'\u001b[39m\u001b[38;5;124mhello world\u001b[39m\u001b[38;5;124m'\u001b[39m\n\u001b[0;32m----> 2\u001b[0m \u001b[43ms\u001b[49m\u001b[43m[\u001b[49m\u001b[38;5;241;43m0\u001b[39;49m\u001b[43m]\u001b[49m \u001b[38;5;241m=\u001b[39m \u001b[38;5;124m'\u001b[39m\u001b[38;5;124mH\u001b[39m\u001b[38;5;124m'\u001b[39m\n",
      "\u001b[0;31mTypeError\u001b[0m: 'str' object does not support item assignment"
     ]
    }
   ],
   "source": [
    "s = 'hello world'\n",
    "s[0] = 'H'\n",
    "\n",
    "# Python strings are immutable"
   ]
  },
  {
   "cell_type": "code",
   "execution_count": 10,
   "id": "5a310ed0-ded5-4717-a5f5-95f37868e1e7",
   "metadata": {},
   "outputs": [
    {
     "ename": "NameError",
     "evalue": "name 's' is not defined",
     "output_type": "error",
     "traceback": [
      "\u001b[0;31m---------------------------------------------------------------------------\u001b[0m",
      "\u001b[0;31mNameError\u001b[0m                                 Traceback (most recent call last)",
      "Cell \u001b[0;32mIn [10], line 4\u001b[0m\n\u001b[1;32m      2\u001b[0m s \u001b[38;5;241m=\u001b[39m \u001b[38;5;124m'\u001b[39m\u001b[38;5;124mhello world\u001b[39m\u001b[38;5;124m'\u001b[39m\n\u001b[1;32m      3\u001b[0m \u001b[38;5;28;01mdel\u001b[39;00m s\n\u001b[0;32m----> 4\u001b[0m \u001b[38;5;28mprint\u001b[39m(\u001b[43ms\u001b[49m)\n",
      "\u001b[0;31mNameError\u001b[0m: name 's' is not defined"
     ]
    }
   ],
   "source": [
    "\n",
    "# if you wann delete the string then this is syntax\n",
    "s = 'hello world'\n",
    "del s\n",
    "print(s)"
   ]
  },
  {
   "cell_type": "code",
   "execution_count": 12,
   "id": "6891b447-b502-422e-8d07-c8ebef88b29d",
   "metadata": {},
   "outputs": [
    {
     "ename": "TypeError",
     "evalue": "'str' object does not support item deletion",
     "output_type": "error",
     "traceback": [
      "\u001b[0;31m---------------------------------------------------------------------------\u001b[0m",
      "\u001b[0;31mTypeError\u001b[0m                                 Traceback (most recent call last)",
      "Cell \u001b[0;32mIn [12], line 3\u001b[0m\n\u001b[1;32m      1\u001b[0m \u001b[38;5;66;03m# guess what will be output\u001b[39;00m\n\u001b[1;32m      2\u001b[0m s \u001b[38;5;241m=\u001b[39m \u001b[38;5;124m'\u001b[39m\u001b[38;5;124mhello world\u001b[39m\u001b[38;5;124m'\u001b[39m\n\u001b[0;32m----> 3\u001b[0m \u001b[38;5;28;01mdel\u001b[39;00m s[\u001b[38;5;241m-\u001b[39m\u001b[38;5;241m1\u001b[39m:\u001b[38;5;241m-\u001b[39m\u001b[38;5;241m5\u001b[39m:\u001b[38;5;241m2\u001b[39m]\n\u001b[1;32m      4\u001b[0m \u001b[38;5;28mprint\u001b[39m(s)\n",
      "\u001b[0;31mTypeError\u001b[0m: 'str' object does not support item deletion"
     ]
    }
   ],
   "source": [
    "# guess what will be output\n",
    "s = 'hello world'\n",
    "del s[-1:-5:2]\n",
    "print(s)\n",
    "\n",
    "#your trying to delete the some portion of th string with the help of slicing where as you know the string are\n",
    "# immutable so cant perform del opeartion on the substring"
   ]
  },
  {
   "cell_type": "markdown",
   "id": "28a5ae33-e821-4427-937f-75b2dd5aaf8d",
   "metadata": {},
   "source": [
    "# Operations on Strings\n",
    "- Arithmetic Operations\n",
    "- Relational Operations\n",
    "- Logical Operations\n",
    "- Loops on Strings\n",
    "- Membership Operations"
   ]
  },
  {
   "cell_type": "markdown",
   "id": "ad93d754-d2f7-4f93-8a9c-dc73ee802cf6",
   "metadata": {},
   "source": [
    "- Note: arithematic only two operation will work \n",
    "- addition,mu;tiplication"
   ]
  },
  {
   "cell_type": "code",
   "execution_count": 14,
   "id": "5b98b518-c7c7-4caf-b076-e98e7e616905",
   "metadata": {},
   "outputs": [
    {
     "name": "stdout",
     "output_type": "stream",
     "text": [
      "maria  sharpoa\n"
     ]
    }
   ],
   "source": [
    "print('maria'+ \" \",'sharpoa')"
   ]
  },
  {
   "cell_type": "code",
   "execution_count": 17,
   "id": "9dd0c0ea-154c-4f24-9cf6-e2e6b022598e",
   "metadata": {},
   "outputs": [
    {
     "name": "stdout",
     "output_type": "stream",
     "text": [
      "**************************************************\n"
     ]
    }
   ],
   "source": [
    "print(\"*\" * 50)"
   ]
  },
  {
   "cell_type": "markdown",
   "id": "7fb1eacb-1c1a-4a8b-9ccb-7d97340b05b3",
   "metadata": {},
   "source": [
    "#### Relational Operators"
   ]
  },
  {
   "cell_type": "markdown",
   "id": "608ac6ed-007d-4dce-9855-1e9393b99933",
   "metadata": {},
   "source": [
    "-NOTE: ALMOST EVERY RELATIONAL OPEARTOR WORKS ON THE STRING"
   ]
  },
  {
   "cell_type": "code",
   "execution_count": 19,
   "id": "e7d468c0-9b13-4d0d-8a57-8e25d1b6b9cb",
   "metadata": {},
   "outputs": [
    {
     "data": {
      "text/plain": [
       "True"
      ]
     },
     "execution_count": 19,
     "metadata": {},
     "output_type": "execute_result"
    }
   ],
   "source": [
    "'delhi' != 'mumbai'"
   ]
  },
  {
   "cell_type": "code",
   "execution_count": 20,
   "id": "ba5ef505-588b-403a-a449-f29480673163",
   "metadata": {},
   "outputs": [
    {
     "data": {
      "text/plain": [
       "False"
      ]
     },
     "execution_count": 20,
     "metadata": {},
     "output_type": "execute_result"
    }
   ],
   "source": [
    "'delhi' > 'mubai'\n",
    "# how is showing false\n",
    "# so it following the lexiographically i.e mean on the basis of ASCII value it showing false "
   ]
  },
  {
   "cell_type": "code",
   "execution_count": 21,
   "id": "19c25d3d-ee9a-4736-babd-0669b992414c",
   "metadata": {},
   "outputs": [
    {
     "data": {
      "text/plain": [
       "'world'"
      ]
     },
     "execution_count": 21,
     "metadata": {},
     "output_type": "execute_result"
    }
   ],
   "source": [
    "'hello' and 'world'"
   ]
  },
  {
   "cell_type": "code",
   "execution_count": 22,
   "id": "e7b6dcfb-e56c-47b4-ad04-ad377b0f0144",
   "metadata": {},
   "outputs": [
    {
     "data": {
      "text/plain": [
       "'hello'"
      ]
     },
     "execution_count": 22,
     "metadata": {},
     "output_type": "execute_result"
    }
   ],
   "source": [
    "'hello' or 'world'"
   ]
  },
  {
   "cell_type": "markdown",
   "id": "d6de3972-de5c-4631-9a36-32accd10b3a8",
   "metadata": {},
   "source": [
    "- question: can you tell me the logic behind it why it print 'world' at or relational oprator and why it print the 'hello' at or opeartor"
   ]
  },
  {
   "cell_type": "code",
   "execution_count": 24,
   "id": "8837fe2f-c37d-40e0-8792-bf93cc5556f8",
   "metadata": {},
   "outputs": [
    {
     "data": {
      "text/plain": [
       "''"
      ]
     },
     "execution_count": 24,
     "metadata": {},
     "output_type": "execute_result"
    }
   ],
   "source": [
    "'' and 'world'"
   ]
  },
  {
   "cell_type": "code",
   "execution_count": 25,
   "id": "bb2ae97c-8935-45be-aa8d-e8b3f9218eb2",
   "metadata": {},
   "outputs": [
    {
     "data": {
      "text/plain": [
       "'world'"
      ]
     },
     "execution_count": 25,
     "metadata": {},
     "output_type": "execute_result"
    }
   ],
   "source": [
    "'' or 'world'"
   ]
  },
  {
   "cell_type": "markdown",
   "id": "d6df1b2d-49fc-440b-9caf-3a8c113b0086",
   "metadata": {},
   "source": [
    "- so why this happend?\n",
    "- the reason behind it that in python if your string is empty then it consider as false and if thestring is not empty then it consider as an True\n",
    "- same happende over her list is empty & 'and'  condition there i.e it need both condition True otherwise i will e flase hence it prints 'empty string'\n",
    "- in second case what happend,  'or' condition so in that even though one is true condition it will print that true condition thats why it print the 'World'\n",
    "- same you can relate with 'hello' or 'world' - when python saw this or statement he think that first string will true he not goes in second and drectly print the 'hello'\n",
    "- 'hello' and 'world' - in this statement when python 'and' condition that time he compare both the string an don the basis of ascii value it print the world. "
   ]
  },
  {
   "cell_type": "code",
   "execution_count": 26,
   "id": "829a103b-dae9-40d7-8f09-9e63d4be4ecb",
   "metadata": {},
   "outputs": [
    {
     "data": {
      "text/plain": [
       "True"
      ]
     },
     "execution_count": 26,
     "metadata": {},
     "output_type": "execute_result"
    }
   ],
   "source": [
    "'hello' < 'world'"
   ]
  },
  {
   "cell_type": "code",
   "execution_count": 27,
   "id": "cb5f5fc7-aa39-4a76-9afe-70e9141b95ef",
   "metadata": {},
   "outputs": [
    {
     "data": {
      "text/plain": [
       "True"
      ]
     },
     "execution_count": 27,
     "metadata": {},
     "output_type": "execute_result"
    }
   ],
   "source": [
    "not ''"
   ]
  },
  {
   "cell_type": "code",
   "execution_count": 28,
   "id": "1b6b4946-fa50-4868-a5ac-0c65000d5a58",
   "metadata": {},
   "outputs": [
    {
     "data": {
      "text/plain": [
       "False"
      ]
     },
     "execution_count": 28,
     "metadata": {},
     "output_type": "execute_result"
    }
   ],
   "source": [
    "not 'judf'"
   ]
  },
  {
   "cell_type": "markdown",
   "id": "1c00e08a-31dd-494d-bf3e-c071a8b09de2",
   "metadata": {},
   "source": [
    "# Loops on Strings"
   ]
  },
  {
   "cell_type": "code",
   "execution_count": 29,
   "id": "9953dcae-2805-40d3-876f-5630d5910d66",
   "metadata": {},
   "outputs": [
    {
     "name": "stdout",
     "output_type": "stream",
     "text": [
      "pune\n",
      "pune\n",
      "pune\n",
      "pune\n",
      "pune\n"
     ]
    }
   ],
   "source": [
    "for i in 'delhi':\n",
    "    print('pune')\n",
    "# it iterarte over the number of characher present in the string and it will print pune that much time"
   ]
  },
  {
   "cell_type": "markdown",
   "id": "3b6392ef-d118-4ab5-9cae-cc1001a3a679",
   "metadata": {},
   "source": [
    "# Membership operator"
   ]
  },
  {
   "cell_type": "code",
   "execution_count": 31,
   "id": "c419e603-af28-425f-a964-4222605e7a0e",
   "metadata": {},
   "outputs": [
    {
     "data": {
      "text/plain": [
       "False"
      ]
     },
     "execution_count": 31,
     "metadata": {},
     "output_type": "execute_result"
    }
   ],
   "source": [
    "'D' in 'delhi'"
   ]
  },
  {
   "cell_type": "markdown",
   "id": "029aff13-20be-4655-86f1-0accd619aa33",
   "metadata": {},
   "source": [
    "# Common Functions\n",
    "- len\n",
    "- max\n",
    "- min\n",
    "- sorted"
   ]
  },
  {
   "cell_type": "code",
   "execution_count": 32,
   "id": "b758c0ac-f120-4f2d-92d0-bbc9d1f699eb",
   "metadata": {},
   "outputs": [
    {
     "data": {
      "text/plain": [
       "11"
      ]
     },
     "execution_count": 32,
     "metadata": {},
     "output_type": "execute_result"
    }
   ],
   "source": [
    "len('hello world')"
   ]
  },
  {
   "cell_type": "code",
   "execution_count": 33,
   "id": "dde3eeff-d98f-4082-8d07-779942007ded",
   "metadata": {},
   "outputs": [
    {
     "data": {
      "text/plain": [
       "'w'"
      ]
     },
     "execution_count": 33,
     "metadata": {},
     "output_type": "execute_result"
    }
   ],
   "source": [
    "max('hello world')"
   ]
  },
  {
   "cell_type": "code",
   "execution_count": 34,
   "id": "10bb7ba6-0374-4cfd-bd23-ec3b6965babf",
   "metadata": {},
   "outputs": [
    {
     "data": {
      "text/plain": [
       "'w'"
      ]
     },
     "execution_count": 34,
     "metadata": {},
     "output_type": "execute_result"
    }
   ],
   "source": [
    "max('hello world')"
   ]
  },
  {
   "cell_type": "code",
   "execution_count": 35,
   "id": "1c4677eb-d3d8-4ca3-98d8-984b5d3ac30e",
   "metadata": {},
   "outputs": [
    {
     "data": {
      "text/plain": [
       "['w', 'r', 'o', 'o', 'l', 'l', 'l', 'h', 'e', 'd', ' ']"
      ]
     },
     "execution_count": 35,
     "metadata": {},
     "output_type": "execute_result"
    }
   ],
   "source": [
    "sorted('hello world',reverse=True)"
   ]
  },
  {
   "cell_type": "markdown",
   "id": "920b7955-d672-4ae9-be67-1f1d68ac0f68",
   "metadata": {},
   "source": [
    "## Capitalize/Title/Upper/Lower/Swapcase"
   ]
  },
  {
   "cell_type": "code",
   "execution_count": 38,
   "id": "632a598a-650b-402a-937d-9e07d8634344",
   "metadata": {},
   "outputs": [
    {
     "name": "stdout",
     "output_type": "stream",
     "text": [
      "Aiwala bro\n"
     ]
    }
   ],
   "source": [
    "s = 'aiwala bro'\n",
    "print(s.capitalize())"
   ]
  },
  {
   "cell_type": "code",
   "execution_count": 39,
   "id": "41dbe4e1-95e4-420a-8f4e-243fb352f2d9",
   "metadata": {},
   "outputs": [
    {
     "data": {
      "text/plain": [
       "'Aiwala Bro'"
      ]
     },
     "execution_count": 39,
     "metadata": {},
     "output_type": "execute_result"
    }
   ],
   "source": [
    "s.title()"
   ]
  },
  {
   "cell_type": "code",
   "execution_count": 40,
   "id": "a11a4741-2308-4b19-934c-938583824c7c",
   "metadata": {},
   "outputs": [
    {
     "data": {
      "text/plain": [
       "'AIWALA BRO'"
      ]
     },
     "execution_count": 40,
     "metadata": {},
     "output_type": "execute_result"
    }
   ],
   "source": [
    "s.upper()"
   ]
  },
  {
   "cell_type": "code",
   "execution_count": 41,
   "id": "16a186c0-54cb-47f7-9e5f-873ce7131be9",
   "metadata": {},
   "outputs": [
    {
     "data": {
      "text/plain": [
       "'aiwala bro'"
      ]
     },
     "execution_count": 41,
     "metadata": {},
     "output_type": "execute_result"
    }
   ],
   "source": [
    "s.lower()"
   ]
  },
  {
   "cell_type": "code",
   "execution_count": 42,
   "id": "1ee988fd-c36f-4e97-9610-884c18836d8a",
   "metadata": {},
   "outputs": [
    {
     "data": {
      "text/plain": [
       "'AIWALA BRO'"
      ]
     },
     "execution_count": 42,
     "metadata": {},
     "output_type": "execute_result"
    }
   ],
   "source": [
    "s.swapcase()"
   ]
  },
  {
   "cell_type": "markdown",
   "id": "ba2feaa2-44d5-4962-9553-b1ed060119b1",
   "metadata": {},
   "source": [
    "## Count/Find/Index"
   ]
  },
  {
   "cell_type": "code",
   "execution_count": 43,
   "id": "a623fdbb-bfc7-4d66-bc31-13296398623a",
   "metadata": {},
   "outputs": [
    {
     "data": {
      "text/plain": [
       "1"
      ]
     },
     "execution_count": 43,
     "metadata": {},
     "output_type": "execute_result"
    }
   ],
   "source": [
    "'my name is AIwalaBro'.count('A')"
   ]
  },
  {
   "cell_type": "code",
   "execution_count": 44,
   "id": "7cdb0416-1b2d-4803-ad51-13fd5ad25497",
   "metadata": {},
   "outputs": [
    {
     "data": {
      "text/plain": [
       "11"
      ]
     },
     "execution_count": 44,
     "metadata": {},
     "output_type": "execute_result"
    }
   ],
   "source": [
    "'my name is AIwalaBro'.find('A')\n",
    "# it gives the index position"
   ]
  },
  {
   "cell_type": "code",
   "execution_count": 45,
   "id": "9a2a2b78-d4e4-48a0-87d9-5e27ecb359ec",
   "metadata": {},
   "outputs": [
    {
     "data": {
      "text/plain": [
       "-1"
      ]
     },
     "execution_count": 45,
     "metadata": {},
     "output_type": "execute_result"
    }
   ],
   "source": [
    "'my name is AIwalaBro'.find('x')\n",
    "# if you find the meber that is not in the given statemnets then it throghs -1 i.e id ont know wher it is"
   ]
  },
  {
   "cell_type": "code",
   "execution_count": 46,
   "id": "7efb109e-0b06-4ae7-aa02-dad659412418",
   "metadata": {},
   "outputs": [
    {
     "data": {
      "text/plain": [
       "11"
      ]
     },
     "execution_count": 46,
     "metadata": {},
     "output_type": "execute_result"
    }
   ],
   "source": [
    "'my name is AIwalaBro'.index('A')\n",
    "\n",
    "\n",
    "# index and find both are same "
   ]
  },
  {
   "cell_type": "code",
   "execution_count": 47,
   "id": "261d9734-0ecd-4c4f-8159-2cc3cdaf8305",
   "metadata": {},
   "outputs": [
    {
     "ename": "ValueError",
     "evalue": "substring not found",
     "output_type": "error",
     "traceback": [
      "\u001b[0;31m---------------------------------------------------------------------------\u001b[0m",
      "\u001b[0;31mValueError\u001b[0m                                Traceback (most recent call last)",
      "Cell \u001b[0;32mIn [47], line 2\u001b[0m\n\u001b[1;32m      1\u001b[0m \u001b[38;5;66;03m# \u001b[39;00m\n\u001b[0;32m----> 2\u001b[0m \u001b[38;5;124;43m'\u001b[39;49m\u001b[38;5;124;43mmy name is AIwalaBro\u001b[39;49m\u001b[38;5;124;43m'\u001b[39;49m\u001b[38;5;241;43m.\u001b[39;49m\u001b[43mindex\u001b[49m\u001b[43m(\u001b[49m\u001b[38;5;124;43m'\u001b[39;49m\u001b[38;5;124;43mx\u001b[39;49m\u001b[38;5;124;43m'\u001b[39;49m\u001b[43m)\u001b[49m\n",
      "\u001b[0;31mValueError\u001b[0m: substring not found"
     ]
    }
   ],
   "source": [
    "# but when you try to find out the number that doesn not exit that time it throws the error\n",
    "'my name is AIwalaBro'.index('x')"
   ]
  },
  {
   "cell_type": "markdown",
   "id": "4e3241ed-2a83-4184-a859-e5a4635113ea",
   "metadata": {},
   "source": [
    "## endswith/startswith"
   ]
  },
  {
   "cell_type": "code",
   "execution_count": 50,
   "id": "5f58662d-9d38-4fd9-8be0-a60bfd362785",
   "metadata": {},
   "outputs": [
    {
     "data": {
      "text/plain": [
       "False"
      ]
     },
     "execution_count": 50,
     "metadata": {},
     "output_type": "execute_result"
    }
   ],
   "source": [
    "'my name is AIwalaBro'.endswith('A')"
   ]
  },
  {
   "cell_type": "code",
   "execution_count": 51,
   "id": "a3b58d1d-c8ee-48b5-8ea6-139e02d76154",
   "metadata": {},
   "outputs": [
    {
     "data": {
      "text/plain": [
       "True"
      ]
     },
     "execution_count": 51,
     "metadata": {},
     "output_type": "execute_result"
    }
   ],
   "source": [
    "'my name is AIwalaBro'.startswith('m')"
   ]
  },
  {
   "cell_type": "markdown",
   "id": "30f24d7e-b821-4887-8a12-33f862cf2423",
   "metadata": {},
   "source": [
    "## format"
   ]
  },
  {
   "cell_type": "code",
   "execution_count": 54,
   "id": "0aef0cd6-7989-47e6-9ced-03a33bcf99b7",
   "metadata": {},
   "outputs": [
    {
     "data": {
      "text/plain": [
       "'Hi my name is AIWALABRO and I am a male'"
      ]
     },
     "execution_count": 54,
     "metadata": {},
     "output_type": "execute_result"
    }
   ],
   "source": [
    "name = 'AIWALABRO'\n",
    "gender = 'male'\n",
    "\n",
    "'Hi my name is {} and I am a {}'.format(name,gender)\n",
    "# order matters"
   ]
  },
  {
   "cell_type": "code",
   "execution_count": 56,
   "id": "5c2f7d3e-6526-4420-ac7b-b99418b92d87",
   "metadata": {},
   "outputs": [
    {
     "data": {
      "text/plain": [
       "'Hi my name is male and I am a AIWALABRO'"
      ]
     },
     "execution_count": 56,
     "metadata": {},
     "output_type": "execute_result"
    }
   ],
   "source": [
    "name = 'AIWALABRO'\n",
    "gender = 'male'\n",
    "\n",
    "'Hi my name is {1} and I am a {0}'.format(name,gender)\n",
    "# order matters"
   ]
  },
  {
   "cell_type": "markdown",
   "id": "0887033a-bc31-48c5-8ed7-97ed3db634d8",
   "metadata": {},
   "source": [
    "\n",
    "\n",
    "## isalnum/ isalpha/ isdigit/ isidentifier"
   ]
  },
  {
   "cell_type": "code",
   "execution_count": 58,
   "id": "42a9c2b3-50f0-4dfe-bdb0-27b23bc00596",
   "metadata": {},
   "outputs": [
    {
     "data": {
      "text/plain": [
       "True"
      ]
     },
     "execution_count": 58,
     "metadata": {},
     "output_type": "execute_result"
    }
   ],
   "source": [
    "'aiwalabro'.isalnum()"
   ]
  },
  {
   "cell_type": "code",
   "execution_count": 61,
   "id": "5dd1da54-31db-4555-a5d9-f181932b340c",
   "metadata": {},
   "outputs": [
    {
     "data": {
      "text/plain": [
       "False"
      ]
     },
     "execution_count": 61,
     "metadata": {},
     "output_type": "execute_result"
    }
   ],
   "source": [
    "'aiwalabro65476'.isalpha()"
   ]
  },
  {
   "cell_type": "code",
   "execution_count": 62,
   "id": "e5e6b6a1-07c5-4b38-be70-ed46fc71dd01",
   "metadata": {},
   "outputs": [
    {
     "data": {
      "text/plain": [
       "True"
      ]
     },
     "execution_count": 62,
     "metadata": {},
     "output_type": "execute_result"
    }
   ],
   "source": [
    "'341466'.isdigit()"
   ]
  },
  {
   "cell_type": "code",
   "execution_count": 63,
   "id": "aed925ea-be6e-4271-8b8c-267de6f0ed39",
   "metadata": {},
   "outputs": [
    {
     "data": {
      "text/plain": [
       "False"
      ]
     },
     "execution_count": 63,
     "metadata": {},
     "output_type": "execute_result"
    }
   ],
   "source": [
    "'bbdsfbb544_'.isdigit()"
   ]
  },
  {
   "cell_type": "markdown",
   "id": "79028a3a-f282-4866-ab37-b30c6014e46a",
   "metadata": {},
   "source": [
    "## Split/Join"
   ]
  },
  {
   "cell_type": "code",
   "execution_count": 64,
   "id": "93b75280-e77a-48b0-8984-fc3402dc7858",
   "metadata": {},
   "outputs": [
    {
     "data": {
      "text/plain": [
       "['hi', 'my', 'name', 'is', 'aiwalabro']"
      ]
     },
     "execution_count": 64,
     "metadata": {},
     "output_type": "execute_result"
    }
   ],
   "source": [
    "'hi my name is aiwalabro'.split()\n",
    "# it return the list and split each and evry sentense"
   ]
  },
  {
   "cell_type": "code",
   "execution_count": 65,
   "id": "8829b435-91e8-4da7-b700-329ff7f31249",
   "metadata": {},
   "outputs": [
    {
     "data": {
      "text/plain": [
       "['hi my name ', ' aiwalabro']"
      ]
     },
     "execution_count": 65,
     "metadata": {},
     "output_type": "execute_result"
    }
   ],
   "source": [
    "'hi my name is aiwalabro'.split('is')\n",
    "# if you passes any arguments then it will be split on the basis of that"
   ]
  },
  {
   "cell_type": "code",
   "execution_count": 66,
   "id": "a0576567-2409-4d0a-bd18-22e75a9cfcce",
   "metadata": {},
   "outputs": [
    {
     "data": {
      "text/plain": [
       "'hi my name is aiwalabro'"
      ]
     },
     "execution_count": 66,
     "metadata": {},
     "output_type": "execute_result"
    }
   ],
   "source": [
    "\" \".join(['hi my name is aiwalabro'])"
   ]
  },
  {
   "cell_type": "markdown",
   "id": "ff862c43-8563-4850-a11a-0875b0ce8118",
   "metadata": {},
   "source": [
    "## Replace"
   ]
  },
  {
   "cell_type": "code",
   "execution_count": 68,
   "id": "285424c2-1ab1-4478-8831-8bc0fdb11641",
   "metadata": {},
   "outputs": [
    {
     "data": {
      "text/plain": [
       "'hi my name is bharatbhusahn Dwarkewasi'"
      ]
     },
     "execution_count": 68,
     "metadata": {},
     "output_type": "execute_result"
    }
   ],
   "source": [
    "'hi my name is aiwalabro'.replace('aiwalabro', 'bharatbhusahn Dwarkewasi')"
   ]
  },
  {
   "cell_type": "code",
   "execution_count": 69,
   "id": "8149d582-2e19-4c94-8260-5c9cf48e17df",
   "metadata": {},
   "outputs": [
    {
     "data": {
      "text/plain": [
       "'hi my name is aiwalabro'"
      ]
     },
     "execution_count": 69,
     "metadata": {},
     "output_type": "execute_result"
    }
   ],
   "source": [
    "'hi my name is aiwalabro'.replace('ajdfgbjbeg', 'bharatbhusahn Dwarkewasi')\n",
    "# it remain constant if existing words are not presented over there"
   ]
  },
  {
   "cell_type": "markdown",
   "id": "417ed97c-d724-4cda-9671-8ec77aa46c8d",
   "metadata": {},
   "source": [
    "## Strip"
   ]
  },
  {
   "cell_type": "code",
   "execution_count": 76,
   "id": "692e6325-9d08-433a-98ae-1a6abd062cd4",
   "metadata": {},
   "outputs": [
    {
     "data": {
      "text/plain": [
       "'my name              is bharatbhushan dwarkewasi'"
      ]
     },
     "execution_count": 76,
     "metadata": {},
     "output_type": "execute_result"
    }
   ],
   "source": [
    "'my name              is bharatbhushan dwarkewasi'.strip()\n",
    "# this will not work like this only"
   ]
  },
  {
   "cell_type": "code",
   "execution_count": 77,
   "id": "b00981e6-c64e-4bc3-9e98-ec59252657eb",
   "metadata": {},
   "outputs": [
    {
     "data": {
      "text/plain": [
       "'my name is bharatbhushan dwarkewasi'"
      ]
     },
     "execution_count": 77,
     "metadata": {},
     "output_type": "execute_result"
    }
   ],
   "source": [
    "'my name is bharatbhushan dwarkewasi              '.strip()\n",
    "# this strip function work on last or frist whitespaces"
   ]
  },
  {
   "cell_type": "code",
   "execution_count": 79,
   "id": "b5fea2d4-b01d-4664-92fb-dcbae7cf7682",
   "metadata": {},
   "outputs": [
    {
     "data": {
      "text/plain": [
       "'my name is bharatbhushan dwarkewasi'"
      ]
     },
     "execution_count": 79,
     "metadata": {},
     "output_type": "execute_result"
    }
   ],
   "source": [
    "'              my name is bharatbhushan dwarkewasi'.lstrip()\n",
    "# this strip function work on last or frist whitespaces"
   ]
  },
  {
   "cell_type": "code",
   "execution_count": null,
   "id": "4e8d70c8-7346-4ddf-8484-441012f7c94d",
   "metadata": {},
   "outputs": [],
   "source": []
  }
 ],
 "metadata": {
  "kernelspec": {
   "display_name": "Python 3 (ipykernel)",
   "language": "python",
   "name": "python3"
  },
  "language_info": {
   "codemirror_mode": {
    "name": "ipython",
    "version": 3
   },
   "file_extension": ".py",
   "mimetype": "text/x-python",
   "name": "python",
   "nbconvert_exporter": "python",
   "pygments_lexer": "ipython3",
   "version": "3.10.6"
  }
 },
 "nbformat": 4,
 "nbformat_minor": 5
}
