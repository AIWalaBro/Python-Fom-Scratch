{
 "cells": [
  {
   "cell_type": "markdown",
   "id": "867cca0f-80c9-4a93-8c53-7b2aedb10d70",
   "metadata": {},
   "source": [
    "# Operators"
   ]
  },
  {
   "cell_type": "markdown",
   "id": "ba8b35cc-cb74-431a-96d6-b199e7eaf7cf",
   "metadata": {},
   "source": [
    "* arithematic operators\n",
    "* boolean operators\n",
    "* assignments operators\n",
    "* membership operators\n",
    "* logical opeartors\n",
    "* Relational opeartors"
   ]
  },
  {
   "cell_type": "code",
   "execution_count": 1,
   "id": "247ffe65-90fa-49f5-9692-f94fc705a2b5",
   "metadata": {},
   "outputs": [
    {
     "name": "stdout",
     "output_type": "stream",
     "text": [
      "11\n",
      "-1\n",
      "30\n",
      "2.5\n",
      "2\n",
      "1\n",
      "25\n"
     ]
    }
   ],
   "source": [
    "# Arithmetric Operators\n",
    "print(5+6)\n",
    "\n",
    "print(5-6)\n",
    "\n",
    "print(5*6)\n",
    "\n",
    "print(5/2)\n",
    "\n",
    "print(5//2)\n",
    "\n",
    "print(5%2)\n",
    "\n",
    "print(5**2)"
   ]
  },
  {
   "cell_type": "code",
   "execution_count": 2,
   "id": "7c11ad0b-3d29-4165-8b0a-a45b1aeb631d",
   "metadata": {},
   "outputs": [
    {
     "name": "stdout",
     "output_type": "stream",
     "text": [
      "False\n",
      "True\n",
      "True\n",
      "True\n",
      "True\n",
      "False\n"
     ]
    }
   ],
   "source": [
    "# Relational Operators\n",
    "print(4>5)\n",
    "\n",
    "print(4<5)\n",
    "\n",
    "print(4>=4)\n",
    "\n",
    "print(4<=4)\n",
    "\n",
    "print(4==4)\n",
    "\n",
    "print(4!=4)"
   ]
  },
  {
   "cell_type": "code",
   "execution_count": 3,
   "id": "72f13075-96e9-40fc-8dbe-c6c13a6482fa",
   "metadata": {},
   "outputs": [
    {
     "name": "stdout",
     "output_type": "stream",
     "text": [
      "0\n",
      "1\n",
      "False\n"
     ]
    }
   ],
   "source": [
    "# Logical Operators\n",
    "print(1 and 0)\n",
    "\n",
    "print(1 or 0)\n",
    "\n",
    "print(not 1)"
   ]
  },
  {
   "cell_type": "code",
   "execution_count": 4,
   "id": "658153e2-1f00-4e5d-bf5c-274c8b1c391c",
   "metadata": {},
   "outputs": [
    {
     "name": "stdout",
     "output_type": "stream",
     "text": [
      "2\n",
      "3\n",
      "1\n",
      "-4\n",
      "1\n",
      "20\n"
     ]
    }
   ],
   "source": [
    "# Bitwise Operators\n",
    "\n",
    "# bitwise and\n",
    "print(2 & 3)\n",
    "\n",
    "# bitwise or\n",
    "print(2 | 3)\n",
    "\n",
    "# bitwise xor\n",
    "print(2 ^ 3)\n",
    "\n",
    "print(~3)\n",
    "\n",
    "print(4 >> 2)\n",
    "\n",
    "print(5 << 2)"
   ]
  },
  {
   "cell_type": "code",
   "execution_count": 5,
   "id": "9a1c9968-36ba-4085-8741-57dac4c25cd6",
   "metadata": {},
   "outputs": [
    {
     "name": "stdout",
     "output_type": "stream",
     "text": [
      "0\n"
     ]
    }
   ],
   "source": [
    "# Assignment Operators\n",
    "\n",
    "# = \n",
    "# a = 2\n",
    "\n",
    "a = 2\n",
    "\n",
    "# a = a % 2\n",
    "a %= 2\n",
    "\n",
    "# a++ ++a\n",
    "\n",
    "print(a)"
   ]
  },
  {
   "cell_type": "code",
   "execution_count": 6,
   "id": "fb584cde-8544-47f2-9823-995c0d778e47",
   "metadata": {},
   "outputs": [
    {
     "name": "stdout",
     "output_type": "stream",
     "text": [
      "False\n",
      "False\n"
     ]
    }
   ],
   "source": [
    "# Membership Operators\n",
    "\n",
    "# in/not in\n",
    "\n",
    "print('D' not in 'Delhi')\n",
    "\n",
    "print(1 in [2,3,4,5,6])"
   ]
  },
  {
   "cell_type": "markdown",
   "id": "36cc2b22-a198-4243-bf34-cad177a6f737",
   "metadata": {},
   "source": [
    "# Task 1) \n",
    "* take 3 digit number fropm the user as an input print the sum of that input "
   ]
  },
  {
   "cell_type": "code",
   "execution_count": 7,
   "id": "fc8a2008-8a20-4219-91a6-0e63b4755371",
   "metadata": {},
   "outputs": [
    {
     "name": "stdin",
     "output_type": "stream",
     "text": [
      "enter the 3 digit number  6\n"
     ]
    },
    {
     "name": "stdout",
     "output_type": "stream",
     "text": [
      "sum of 3 digit number is 6\n"
     ]
    }
   ],
   "source": [
    "a = int(input('enter the 3 digit number '))\n",
    "\n",
    "num1 = a%10\n",
    "\n",
    "a = a//10\n",
    "\n",
    "num2 = a%10\n",
    "\n",
    "a = a//10\n",
    "\n",
    "num3 = a%10\n",
    "\n",
    "\n",
    "\n",
    "print(\"sum of 3 digit number is\",num1+num2+num3)\n"
   ]
  },
  {
   "cell_type": "markdown",
   "id": "377a2ac1-1f8e-41b4-9b62-88b12a0ba437",
   "metadata": {},
   "source": [
    "# If- Else in python"
   ]
  },
  {
   "cell_type": "markdown",
   "id": "ed14e013-ba84-408d-95b0-a392b65f2b2e",
   "metadata": {},
   "source": [
    "### Task2) write the program for the email and password coorect ifthen they proivde the login other wise provide the error"
   ]
  },
  {
   "cell_type": "code",
   "execution_count": 8,
   "id": "5d072bd7-c66e-4f6e-8e0e-06453e766a86",
   "metadata": {},
   "outputs": [
    {
     "name": "stdin",
     "output_type": "stream",
     "text": [
      "enter the email bkbhushan111@gmail.com\n",
      "enter the password gjafvjaj\n"
     ]
    },
    {
     "name": "stdout",
     "output_type": "stream",
     "text": [
      "error\n"
     ]
    }
   ],
   "source": [
    "\n",
    "\n",
    "email = input('enter the email')\n",
    "password = input(\"enter the password\")\n",
    "\n",
    "if email == \"bkbhushan111@gmail.com\" and password == \"123456\":\n",
    "    print(\"you sucessfully login into the account\")\n",
    "else:\n",
    "    print(\"error\")"
   ]
  },
  {
   "cell_type": "markdown",
   "id": "e78db796-c6eb-48ea-9941-2d265bbb623c",
   "metadata": {},
   "source": [
    "### Task3) Find the minimum number that your entered taken from the users"
   ]
  },
  {
   "cell_type": "code",
   "execution_count": 9,
   "id": "c641a424-d203-4739-9450-475c1db0093a",
   "metadata": {},
   "outputs": [
    {
     "name": "stdin",
     "output_type": "stream",
     "text": [
      "enter the number 5\n",
      "enter the second number 5\n",
      "enter the third number 6\n"
     ]
    },
    {
     "name": "stdout",
     "output_type": "stream",
     "text": [
      "3rd number is greater\n"
     ]
    }
   ],
   "source": [
    "num1 = int(input('enter the number'))\n",
    "num2 = int(input('enter the second number'))\n",
    "num3 = int(input('enter the third number'))\n",
    "\n",
    "if num1 > num2 and num2 > num3:\n",
    "    print('first number is greater')\n",
    "elif num2 > num3 and num2 > num1:\n",
    "    print('second number is greater')\n",
    "else:\n",
    "    print('3rd number is greater')\n"
   ]
  },
  {
   "cell_type": "markdown",
   "id": "f1fd0c59-f9e4-4987-95bd-1b75f482f0ab",
   "metadata": {},
   "source": [
    "# Nested if else "
   ]
  },
  {
   "cell_type": "markdown",
   "id": "58e47775-30d6-4daa-bbdc-21fd898e7ad0",
   "metadata": {},
   "source": [
    "### Task3)so the task is you have to created the nested if else statement where as following conditions has tobe satisfied\n",
    "* take input of email and password form the user\n",
    "* print the stement if that will correct - you sucessfully login\n",
    "* if email or password are enterd wrong then tell the users that you entered wrong amail or password print take again input fr om the users \n",
    "* and then if correct print finaly you sucessfully login \n",
    "* otherwise tell to user again you id , password is wrong kindly check that"
   ]
  },
  {
   "cell_type": "code",
   "execution_count": 10,
   "id": "239c3343-e5d6-4003-ab25-b902f3ab6fcb",
   "metadata": {},
   "outputs": [
    {
     "name": "stdin",
     "output_type": "stream",
     "text": [
      "enter your email: bkbhsuahn111@gmail.com\n",
      "enter your passwords: vjasvdjvvaj\n"
     ]
    },
    {
     "name": "stdout",
     "output_type": "stream",
     "text": [
      "you id or password are wrong ,error!!!!!!!!\n"
     ]
    }
   ],
   "source": [
    "email = input('enter your email:')\n",
    "passwords = input('enter your passwords:')\n",
    "\n",
    "if email == ('aiwalabro@gmail.com') and passwords == ('123456'):\n",
    "    print('yeah! you sucessfully login')\n",
    "elif email== ('aiwalabro@gmmail.com') and passwords != ('123456'):\n",
    "    print('check your passwords that are you enterd wrong')\n",
    "elif email != ('aiwalabro@gmmail.com') and passwords == ('123456'):\n",
    "    print('your email id is being wrong please enterd correct email id!')\n",
    "else:\n",
    "    print('you id or password are wrong ,error!!!!!!!!')"
   ]
  },
  {
   "cell_type": "markdown",
   "id": "21a894b9-4799-49f2-bac5-ec9bc63acafd",
   "metadata": {},
   "source": [
    "### Task4) write a menu of calculator program by asking the user what exam he had to perform"
   ]
  },
  {
   "cell_type": "code",
   "execution_count": 11,
   "id": "9cf27578-7de4-44e2-a454-2e9b1c9786e9",
   "metadata": {},
   "outputs": [
    {
     "name": "stdin",
     "output_type": "stream",
     "text": [
      "enter your first input: 4\n",
      "enter your second num: 5\n",
      "enter your operation +\n"
     ]
    },
    {
     "name": "stdout",
     "output_type": "stream",
     "text": [
      "sum of first num and second num is 9\n"
     ]
    }
   ],
   "source": [
    "fnum = int(input('enter your first input:'))\n",
    "snum = int(input('enter your second num:'))\n",
    "operation =  input('enter your operation')\n",
    "if operation   == ('+'):\n",
    "    print('sum of first num and second num is',fnum+snum)\n",
    "elif operation == ('-'):\n",
    "    print(\"the diff between 2 numbers is\",fnum - snum)\n",
    "elif operation == ('*'):\n",
    "     print(\"the multiplication of 2 numbers is\", fnum * snum)\n",
    "else:\n",
    "    print('division of the numbers is',fnum/snum)"
   ]
  },
  {
   "cell_type": "markdown",
   "id": "fa6130d2-2458-4479-a8e0-b102f8f4fef4",
   "metadata": {},
   "source": [
    "# Modules in the python\n",
    "* math \n",
    "* keywords\n",
    "* random\n",
    "* datetime"
   ]
  },
  {
   "cell_type": "markdown",
   "id": "fb348bc4-7136-4613-986c-be71cda00e25",
   "metadata": {},
   "source": [
    "#### what is the main purpose of the module - code reusability that is the main function of the module.\n",
    "#### what the the sourc of multiple libraries where multiple function or code are written and you just by importing that module you do yourexisting work. you no do the logic or code from scartch "
   ]
  },
  {
   "cell_type": "code",
   "execution_count": 12,
   "id": "1c9e77bb-5548-4a6a-b26b-1c3c4393bfb7",
   "metadata": {},
   "outputs": [],
   "source": [
    "import math"
   ]
  },
  {
   "cell_type": "code",
   "execution_count": 13,
   "id": "c639a8e3-db1b-49b9-b1bf-a03636c1a394",
   "metadata": {},
   "outputs": [
    {
     "data": {
      "text/plain": [
       "720"
      ]
     },
     "execution_count": 13,
     "metadata": {},
     "output_type": "execute_result"
    }
   ],
   "source": [
    "math.factorial(6)"
   ]
  },
  {
   "cell_type": "code",
   "execution_count": 14,
   "id": "49596e8e-ac89-41bb-a361-65cdf3cdcb36",
   "metadata": {},
   "outputs": [],
   "source": [
    "import keyword"
   ]
  },
  {
   "cell_type": "code",
   "execution_count": 15,
   "id": "6471b0fa-ea9f-4bff-97d1-94fa6a5f94dd",
   "metadata": {},
   "outputs": [
    {
     "name": "stdout",
     "output_type": "stream",
     "text": [
      "['False', 'None', 'True', 'and', 'as', 'assert', 'async', 'await', 'break', 'class', 'continue', 'def', 'del', 'elif', 'else', 'except', 'finally', 'for', 'from', 'global', 'if', 'import', 'in', 'is', 'lambda', 'nonlocal', 'not', 'or', 'pass', 'raise', 'return', 'try', 'while', 'with', 'yield']\n"
     ]
    }
   ],
   "source": [
    "print(keyword.kwlist)"
   ]
  },
  {
   "cell_type": "code",
   "execution_count": 16,
   "id": "ec0918a4-3fd0-4da5-be0a-3250c8633b71",
   "metadata": {},
   "outputs": [
    {
     "name": "stdout",
     "output_type": "stream",
     "text": [
      "83\n"
     ]
    }
   ],
   "source": [
    "import random\n",
    "print(random.randint(1,100))"
   ]
  },
  {
   "cell_type": "code",
   "execution_count": 17,
   "id": "478c1c93-1fb5-45f4-b524-1ed8ab97b263",
   "metadata": {},
   "outputs": [
    {
     "name": "stdout",
     "output_type": "stream",
     "text": [
      "2022-11-11 11:15:29.015015\n"
     ]
    }
   ],
   "source": [
    "import datetime\n",
    "print(datetime.datetime.now())"
   ]
  },
  {
   "cell_type": "code",
   "execution_count": 18,
   "id": "b05061af-7a99-4e03-916d-880f8e6c87d7",
   "metadata": {},
   "outputs": [
    {
     "name": "stdout",
     "output_type": "stream",
     "text": [
      "\n",
      "Please wait a moment while I gather a list of all available modules...\n",
      "\n"
     ]
    },
    {
     "name": "stderr",
     "output_type": "stream",
     "text": [
      "/opt/conda/lib/python3.10/site-packages/llvmlite/llvmpy/__init__.py:3: UserWarning: The module `llvmlite.llvmpy` is deprecated and will be removed in the future.\n",
      "  warnings.warn(\n",
      "/opt/conda/lib/python3.10/pkgutil.py:92: UserWarning: The numpy.array_api submodule is still experimental. See NEP 47.\n",
      "  __import__(info.name)\n",
      "/opt/conda/lib/python3.10/site-packages/_distutils_hack/__init__.py:33: UserWarning: Setuptools is replacing distutils.\n",
      "  warnings.warn(\"Setuptools is replacing distutils.\")\n",
      "/opt/conda/lib/python3.10/pkgutil.py:92: UserWarning: viewer requires Qt\n",
      "  __import__(info.name)\n"
     ]
    },
    {
     "name": "stdout",
     "output_type": "stream",
     "text": [
      "Cython              binhex              json                rpy2\n",
      "IPython             bisect              json5               ruamel_yaml\n",
      "OpenSSL             bleach              jsonschema          runpy\n",
      "PIL                 blinker             jupyter             sched\n",
      "__future__          bokeh               jupyter_client      scipy\n",
      "_abc                bottleneck          jupyter_core        seaborn\n",
      "_aix_support        brotli              jupyter_server      secrets\n",
      "_argon2_cffi_bindings bs4                 jupyter_telemetry   select\n",
      "_ast                builtins            jupyterhub          selectors\n",
      "_asyncio            bz2                 jupyterlab          send2trash\n",
      "_bisect             cProfile            jupyterlab_pygments setuptools\n",
      "_blake2             cached_property     jupyterlab_server   shelve\n",
      "_bootsubprocess     calendar            jupyterlab_widgets  shlex\n",
      "_bz2                certifi             jwt                 shutil\n",
      "_cffi_backend       certipy             keyword             signal\n",
      "_codecs             cffi                kiwisolver          simplegeneric\n",
      "_codecs_cn          cgi                 lib2to3             site\n",
      "_codecs_hk          cgitb               libmambapy          six\n",
      "_codecs_iso2022     charset_normalizer  linecache           skimage\n",
      "_codecs_jp          chunk               llvmlite            sklearn\n",
      "_codecs_kr          click               locale              smtpd\n",
      "_codecs_tw          cloudpickle         locket              smtplib\n",
      "_collections        cmath               logging             sndhdr\n",
      "_collections_abc    cmd                 lz4                 sniffio\n",
      "_compat_pickle      code                lzma                socket\n",
      "_compression        codecs              mailbox             socketserver\n",
      "_contextvars        codeop              mailcap             socks\n",
      "_crypt              collections         mako                sockshandler\n",
      "_csv                colorama            mamba               sortedcontainers\n",
      "_ctypes             colorsys            markupsafe          soupsieve\n",
      "_ctypes_test        compileall          marshal             spwd\n",
      "_curses             concurrent          math                sqlalchemy\n",
      "_curses_panel       conda               matplotlib          sqlite3\n",
      "_datetime           conda_env           matplotlib_inline   sre_compile\n",
      "_decimal            conda_package_handling mimetypes           sre_constants\n",
      "_distutils_hack     configparser        mistune             sre_parse\n",
      "_elementtree        contextlib          mmap                ssl\n",
      "_functools          contextvars         modulefinder        stack_data\n",
      "_hashlib            contourpy           mpmath              stat\n",
      "_heapq              copy                msgpack             statistics\n",
      "_imp                copyreg             multiprocessing     statsmodels\n",
      "_io                 crypt               munkres             string\n",
      "_json               cryptography        nbclassic           stringprep\n",
      "_locale             csv                 nbclient            struct\n",
      "_lsprof             ctypes              nbconvert           subprocess\n",
      "_lzma               curl                nbformat            sunau\n",
      "_markupbase         curses              nest_asyncio        sympy\n",
      "_md5                cycler              netrc               symtable\n",
      "_multibytecodec     cython              networkx            sys\n",
      "_multiprocessing    cytoolz             nis                 sysconfig\n",
      "_opcode             dask                nntplib             syslog\n",
      "_operator           dataclasses         notebook            tables\n",
      "_osx_support        datetime            notebook_shim       tabnanny\n",
      "_pickle             dateutil            ntpath              tarfile\n",
      "_posixshmem         dbm                 nturl2path          tblib\n",
      "_posixsubprocess    debugpy             numba               telnetlib\n",
      "_py_abc             decimal             numbers             tempfile\n",
      "_pydecimal          decorator           numexpr             terminado\n",
      "_pyio               defusedxml          numpy               termios\n",
      "_pyrsistent_version difflib             oauthlib            test\n",
      "_queue              dill                opcode              test_pycosat\n",
      "_random             dis                 openpyxl            textwrap\n",
      "_rinterface_cffi_abi distributed         operator            this\n",
      "_rinterface_cffi_api distutils           optparse            threading\n",
      "_ruamel_yaml        doctest             os                  threadpoolctl\n",
      "_sha1               email               ossaudiodev         tifffile\n",
      "_sha256             encodings           packaging           time\n",
      "_sha3               ensurepip           pamela              timeit\n",
      "_sha512             entrypoints         pandas              tinycss2\n",
      "_signal             enum                pandocfilters       tkinter\n",
      "_sitebuiltins       errno               parso               tlz\n",
      "_socket             et_xmlfile          partd               token\n",
      "_sqlite3            executing           pathlib             tokenize\n",
      "_sre                fastjsonschema      patsy               tomli\n",
      "_ssl                faulthandler        pdb                 toolz\n",
      "_stat               fcntl               pexpect             tornado\n",
      "_statistics         filecmp             pickle              tqdm\n",
      "_string             fileinput           pickleshare         trace\n",
      "_strptime           flit_core           pickletools         traceback\n",
      "_struct             fnmatch             pip                 tracemalloc\n",
      "_symtable           fontTools           pipes               traitlets\n",
      "_sysconfigdata__linux_x86_64-linux-gnu fractions           pkg_resources       tty\n",
      "_sysconfigdata_x86_64_conda_cos6_linux_gnu fsspec              pkgutil             turtle\n",
      "_sysconfigdata_x86_64_conda_linux_gnu ftplib              pkgutil_resolve_name turtledemo\n",
      "_testbuffer         functools           platform            types\n",
      "_testcapi           gc                  plistlib            typing\n",
      "_testimportmultiple genericpath         poplib              typing_extensions\n",
      "_testinternalcapi   getopt              posix               tzdata\n",
      "_testmultiphase     getpass             posixpath           tzlocal\n",
      "_thread             gettext             pprint              unicodedata\n",
      "_threading_local    glob                profile             unicodedata2\n",
      "_tkinter            gmpy2               prometheus_client   unittest\n",
      "_tracemalloc        graphlib            prompt_toolkit      urllib\n",
      "_uuid               greenlet            pstats              urllib3\n",
      "_warnings           grp                 psutil              uu\n",
      "_weakref            gzip                pty                 uuid\n",
      "_weakrefset         h5py                ptyprocess          venv\n",
      "_xxsubinterpreters  hashlib             pure_eval           warnings\n",
      "_xxtestfuzz         heapdict            pvectorc            wave\n",
      "_yaml               heapq               pwd                 wcwidth\n",
      "_zoneinfo           hmac                py_compile          weakref\n",
      "abc                 html                pyclbr              webbrowser\n",
      "aifc                http                pycosat             webencodings\n",
      "alembic             idlelib             pycparser           websocket\n",
      "altair              idna                pycurl              wheel\n",
      "antigravity         imagecodecs         pydoc               widgetsnbextension\n",
      "anyio               imageio             pydoc_data          wsgiref\n",
      "argon2              imaplib             pyexpat             xdrlib\n",
      "argparse            imghdr              pygments            xlrd\n",
      "array               imp                 pylab               xml\n",
      "ast                 importlib           pyparsing           xmlrpc\n",
      "asttokens           importlib_metadata  pyrsistent          xxlimited\n",
      "async_generator     importlib_resources pythonjsonlogger    xxlimited_35\n",
      "asynchat            inspect             pytz                xxsubtype\n",
      "asyncio             io                  pytz_deprecation_shim yaml\n",
      "asyncore            ipaddress           pywt                zict\n",
      "atexit              ipykernel           pyximport           zipapp\n",
      "attr                ipykernel_launcher  queue               zipfile\n",
      "attrs               ipympl              quopri              zipimport\n",
      "audioop             ipython_genutils    random              zipp\n",
      "babel               ipywidgets          re                  zlib\n",
      "backcall            isympy              readline            zmq\n",
      "backports           itertools           reprlib             zoneinfo\n",
      "base64              jedi                requests            \n",
      "bdb                 jinja2              resource            \n",
      "binascii            joblib              rlcompleter         \n",
      "\n",
      "Enter any module name to get more help.  Or, type \"modules spam\" to search\n",
      "for modules whose name or summary contain the string \"spam\".\n",
      "\n"
     ]
    },
    {
     "name": "stderr",
     "output_type": "stream",
     "text": [
      "/opt/conda/lib/python3.10/pkgutil.py:107: VisibleDeprecationWarning: zmq.eventloop.minitornado is deprecated in pyzmq 14.0 and will be removed.\n",
      "    Install tornado itself to use zmq with the tornado IOLoop.\n",
      "    \n",
      "  yield from walk_packages(path, info.name+'.', onerror)\n"
     ]
    }
   ],
   "source": [
    "help('modules')"
   ]
  },
  {
   "cell_type": "markdown",
   "id": "1d2dc5e9-a603-4157-a8eb-575e01584422",
   "metadata": {},
   "source": [
    "# Loop"
   ]
  },
  {
   "cell_type": "markdown",
   "id": "5f82c7df-390b-4db7-b9cf-29908295b015",
   "metadata": {},
   "source": [
    "* while loop\n",
    "* for loop"
   ]
  },
  {
   "cell_type": "code",
   "execution_count": 19,
   "id": "2db88fdb-c10e-46b4-b49e-b4424ddf1821",
   "metadata": {},
   "outputs": [
    {
     "name": "stdin",
     "output_type": "stream",
     "text": [
      "enter the first number that you wants the table 5\n"
     ]
    },
    {
     "name": "stdout",
     "output_type": "stream",
     "text": [
      "5 * 1 = 5\n",
      "5 * 2 = 10\n",
      "5 * 3 = 15\n",
      "5 * 4 = 20\n",
      "5 * 5 = 25\n",
      "5 * 6 = 30\n",
      "5 * 7 = 35\n",
      "5 * 8 = 40\n",
      "5 * 9 = 45\n",
      "5 * 10 = 50\n"
     ]
    }
   ],
   "source": [
    "# while loop\n",
    "# lets print the table\n",
    "num = int(input('enter the first number that you wants the table'))\n",
    "i = 1\n",
    "\n",
    "while i<11:\n",
    "    print(num, '*', i, '=', num * i)\n",
    "    i+=1"
   ]
  },
  {
   "cell_type": "code",
   "execution_count": 20,
   "id": "a4978b6c-924c-495c-9368-417e23195e78",
   "metadata": {},
   "outputs": [
    {
     "name": "stdout",
     "output_type": "stream",
     "text": [
      "1\n",
      "2\n",
      "limit crossed\n"
     ]
    }
   ],
   "source": [
    "# While loop with else\n",
    "x =1\n",
    "while x<3:\n",
    "    print(x)\n",
    "    x+=1\n",
    "else:\n",
    "    print('limit crossed')"
   ]
  },
  {
   "cell_type": "markdown",
   "id": "be2b5874-b912-4be0-91ca-4b9c2b4a597f",
   "metadata": {},
   "source": [
    "# Guessing game"
   ]
  },
  {
   "cell_type": "code",
   "execution_count": 23,
   "id": "581e7660-9f02-48fc-b7dc-e67d23cb6fcc",
   "metadata": {},
   "outputs": [
    {
     "name": "stdin",
     "output_type": "stream",
     "text": [
      "guess karo 5\n"
     ]
    },
    {
     "name": "stdout",
     "output_type": "stream",
     "text": [
      "galat!guess higher\n"
     ]
    },
    {
     "name": "stdin",
     "output_type": "stream",
     "text": [
      "guess karo 45\n"
     ]
    },
    {
     "name": "stdout",
     "output_type": "stream",
     "text": [
      "galat!guess higher\n"
     ]
    },
    {
     "name": "stdin",
     "output_type": "stream",
     "text": [
      "guess karo 50\n"
     ]
    },
    {
     "name": "stdout",
     "output_type": "stream",
     "text": [
      "galat!guess higher\n"
     ]
    },
    {
     "name": "stdin",
     "output_type": "stream",
     "text": [
      "guess karo 90\n"
     ]
    },
    {
     "name": "stdout",
     "output_type": "stream",
     "text": [
      "galat!guess lower\n"
     ]
    },
    {
     "name": "stdin",
     "output_type": "stream",
     "text": [
      "guess karo 80\n"
     ]
    },
    {
     "name": "stdout",
     "output_type": "stream",
     "text": [
      "galat!guess higher\n"
     ]
    },
    {
     "name": "stdin",
     "output_type": "stream",
     "text": [
      "guess karo 82\n"
     ]
    },
    {
     "name": "stdout",
     "output_type": "stream",
     "text": [
      "galat!guess higher\n"
     ]
    },
    {
     "name": "stdin",
     "output_type": "stream",
     "text": [
      "guess karo 85\n"
     ]
    },
    {
     "name": "stdout",
     "output_type": "stream",
     "text": [
      "galat!guess higher\n"
     ]
    },
    {
     "name": "stdin",
     "output_type": "stream",
     "text": [
      "guess karo 86\n"
     ]
    },
    {
     "name": "stdout",
     "output_type": "stream",
     "text": [
      "correct guess\n",
      "attempts 8\n"
     ]
    }
   ],
   "source": [
    "\n",
    "\n",
    "# generate a random integer between 1 and 100\n",
    "import random\n",
    "jackpot = random.randint(1,100)\n",
    "\n",
    "guess = int(input('guess karo'))\n",
    "counter = 1\n",
    "while guess != jackpot:\n",
    "    if guess < jackpot:\n",
    "        print('galat!guess higher')\n",
    "    else:\n",
    "        print('galat!guess lower')\n",
    "    guess = int(input('guess karo'))\n",
    "    counter += 1\n",
    "\n",
    "else:\n",
    "    print('correct guess')\n",
    "    print('attempts',counter)\n",
    "\n",
    "  \n"
   ]
  },
  {
   "cell_type": "markdown",
   "id": "32ba1677-1ffb-4446-bcff-ed668e94815d",
   "metadata": {},
   "source": [
    "# For Loop"
   ]
  },
  {
   "cell_type": "code",
   "execution_count": 24,
   "id": "27d868e4-9ad7-4fd0-a492-2cbe1aa12d81",
   "metadata": {},
   "outputs": [
    {
     "name": "stdout",
     "output_type": "stream",
     "text": [
      "1\n",
      "2\n",
      "3\n",
      "4\n",
      "5\n"
     ]
    }
   ],
   "source": [
    "for i in {1,2,3,4,5}:\n",
    "    print(i)"
   ]
  },
  {
   "cell_type": "code",
   "execution_count": 25,
   "id": "eb9747bc-0b7f-42e6-b0a8-612af026dbd6",
   "metadata": {},
   "outputs": [
    {
     "name": "stdout",
     "output_type": "stream",
     "text": [
      "10\n",
      "9\n",
      "8\n",
      "7\n",
      "6\n",
      "5\n",
      "4\n",
      "3\n",
      "2\n",
      "1\n"
     ]
    }
   ],
   "source": [
    "for i in range(10,0,-1):\n",
    "    print(i)"
   ]
  },
  {
   "cell_type": "markdown",
   "id": "992d54b8-5487-4375-afa3-e9399ef3a9b4",
   "metadata": {},
   "source": [
    "# Program - The current population of a town is 10000. The population of the town is increasing at the rate of 10% per year. You have to write a program to find out the population at the end of each of the last 10 years."
   ]
  },
  {
   "cell_type": "code",
   "execution_count": 2,
   "id": "bfe3402e-41c9-45e9-b609-76039955ccce",
   "metadata": {},
   "outputs": [
    {
     "name": "stdout",
     "output_type": "stream",
     "text": [
      "10 10000\n",
      "9 9090.90909090909\n",
      "8 8264.462809917353\n",
      "7 7513.148009015775\n",
      "6 6830.134553650703\n",
      "5 6209.213230591548\n",
      "4 5644.739300537771\n",
      "3 5131.5811823070635\n",
      "2 4665.07380209733\n",
      "1 4240.976183724845\n"
     ]
    }
   ],
   "source": [
    "curr_population = 10000\n",
    "\n",
    "# you have to find out the populations from last 10 years\n",
    "for i in range(10,0,-1):\n",
    "    print(i,curr_population)\n",
    "    \n",
    "    # what is your formula to calculate the \n",
    "    curr_population = curr_population/1.1"
   ]
  },
  {
   "cell_type": "markdown",
   "id": "e9c394fb-30c6-41ad-ace7-b3f8a5af3146",
   "metadata": {},
   "source": [
    "# self task\n",
    "1/1! + 2/2! + 3/3! "
   ]
  },
  {
   "cell_type": "code",
   "execution_count": 11,
   "id": "78d7554e-84ab-4c24-a114-d99ae6d6bacd",
   "metadata": {},
   "outputs": [
    {
     "name": "stdin",
     "output_type": "stream",
     "text": [
      "enter the n number 5\n"
     ]
    },
    {
     "name": "stdout",
     "output_type": "stream",
     "text": [
      "2.708333333333333\n"
     ]
    }
   ],
   "source": [
    "# so we have to take the factorial\n",
    "# if looking hard make it simple that first create the example the how you make the 'simple n series sum'\n",
    "# then add factoraial code into that\n",
    "# lets start\n",
    "\n",
    "n_num = int(input('enter the n number'))\n",
    "result = 0\n",
    "fact = 1\n",
    "for i in range(1,n_num+1):\n",
    "    fact = fact * i\n",
    "    result = result + i/fact\n",
    "print(result)\n",
    "        \n",
    "    "
   ]
  },
  {
   "cell_type": "markdown",
   "id": "9ffc716d-4ccb-448c-a9c3-3bcd76635430",
   "metadata": {},
   "source": [
    "### For loop vs While loops (When to use what?)\n",
    "- while loop -  you will used in that time when you know the end condition . in exactly this time i have to stop like that.\n",
    "- for loop - you will used you have to iterate you dont know the what exctaly end condition is tobe that time you will used the  for loop "
   ]
  },
  {
   "cell_type": "markdown",
   "id": "387254a5-dbde-449f-bba9-6cd4ce72d0e9",
   "metadata": {},
   "source": [
    "# Nested Loops\n",
    "* e.g your in the class and you taken the each and evry student name that is most presce example of nested llop"
   ]
  },
  {
   "cell_type": "markdown",
   "id": "35ceb6fd-2244-45e6-a0e4-653af19f0a6b",
   "metadata": {},
   "source": [
    "#### Task 8) you have to print the the pair wise number where first number is same for outer number where as outer number till not repeated"
   ]
  },
  {
   "cell_type": "code",
   "execution_count": 13,
   "id": "87ead270-c65f-448f-a06d-b04213039485",
   "metadata": {},
   "outputs": [
    {
     "name": "stdin",
     "output_type": "stream",
     "text": [
      "enter 1st  number 4\n",
      "enter 2nd number 6\n"
     ]
    },
    {
     "name": "stdout",
     "output_type": "stream",
     "text": [
      "1 1\n",
      "1 2\n",
      "1 3\n",
      "1 4\n",
      "1 5\n",
      "1 6\n",
      "2 1\n",
      "2 2\n",
      "2 3\n",
      "2 4\n",
      "2 5\n",
      "2 6\n",
      "3 1\n",
      "3 2\n",
      "3 3\n",
      "3 4\n",
      "3 5\n",
      "3 6\n",
      "4 1\n",
      "4 2\n",
      "4 3\n",
      "4 4\n",
      "4 5\n",
      "4 6\n"
     ]
    }
   ],
   "source": [
    "num1 = int(input('enter 1st  number'))\n",
    "num2 = int(input('enter 2nd number'))\n",
    "\n",
    "for i in range(1,num1+1):\n",
    "    for j in range(1,num2 +1):\n",
    "        print(i,j)"
   ]
  },
  {
   "cell_type": "markdown",
   "id": "f4a1014a-47ae-48f3-871a-e22a6c36aad4",
   "metadata": {},
   "source": [
    "#### task 9) Print the following pattern\n",
    "*<br>\n",
    "**<br>\n",
    "***<br>"
   ]
  },
  {
   "cell_type": "code",
   "execution_count": 21,
   "id": "52598c2e-8ec0-429b-93a0-a378f733a1c6",
   "metadata": {},
   "outputs": [
    {
     "name": "stdin",
     "output_type": "stream",
     "text": [
      "take a number to p[rint the \"*\" 4\n"
     ]
    },
    {
     "name": "stdout",
     "output_type": "stream",
     "text": [
      "*\n",
      "**\n",
      "***\n",
      "****\n"
     ]
    }
   ],
   "source": [
    "# we take input from the user \n",
    "num1 = int(input('take a number to p[rint the \"*\"'))\n",
    "\n",
    "for i in range(1,num1+1):\n",
    "    for j in range(1, i+1):\n",
    "        print(\"*\",end = \"\")\n",
    "    print()"
   ]
  },
  {
   "cell_type": "markdown",
   "id": "e56511ca-6eae-4194-b87d-cac78897302f",
   "metadata": {},
   "source": [
    "### Pattern 2\n",
    "\n",
    "1<br>\n",
    "121<br>\n",
    "12321<br>\n",
    "1234321<br>"
   ]
  },
  {
   "cell_type": "code",
   "execution_count": 26,
   "id": "1a4cee24-3cd9-49d6-9617-fa0eeab67d1d",
   "metadata": {},
   "outputs": [
    {
     "name": "stdin",
     "output_type": "stream",
     "text": [
      "enter the row that you want 5\n"
     ]
    },
    {
     "name": "stdout",
     "output_type": "stream",
     "text": [
      "1 \n",
      "1 2 1 \n",
      "1 2 3 2 1 \n",
      "1 2 3 4 3 2 1 \n",
      "1 2 3 4 5 4 3 2 1 \n"
     ]
    }
   ],
   "source": [
    "rows = int(input('enter the row that you want'))\n",
    "\n",
    "for i in range(1, rows+1):\n",
    "    for j in range(1, i+1):\n",
    "        print(j, end = \" \")\n",
    "    for k in range(i-1,0,-1):\n",
    "        print(k, end = \" \")\n",
    "    print()"
   ]
  },
  {
   "cell_type": "markdown",
   "id": "4e39c990-3acc-4dc8-a543-81e7262c8d6b",
   "metadata": {},
   "source": [
    "# Loop Control Statement\n",
    "\n",
    "- Break \n",
    "- Continue\n",
    "- Pass"
   ]
  },
  {
   "cell_type": "markdown",
   "id": "73763bde-225f-4139-b911-d8a7454ad188",
   "metadata": {},
   "source": [
    "- Break : e.g linear search is an real life example of the break statement. lets suppose your are searching a perticular person in the databae and you ahev 10000 number of rows and you got that perosn at teh 50 number so thatyou wont be continue your loop for the 10000 know yu stop it at 50th place."
   ]
  },
  {
   "cell_type": "code",
   "execution_count": 32,
   "id": "1340b1a1-d332-4ad3-83f0-2625d37d9815",
   "metadata": {},
   "outputs": [
    {
     "name": "stdin",
     "output_type": "stream",
     "text": [
      "enter teh number 10\n"
     ]
    },
    {
     "name": "stdout",
     "output_type": "stream",
     "text": [
      "1\n",
      "2\n",
      "3\n",
      "4\n"
     ]
    }
   ],
   "source": [
    "# e.g 1) break\n",
    "num = int(input('enter teh number'))\n",
    "for i in range(1, num):\n",
    "    if i == 5:\n",
    "        break\n",
    "    print(i)"
   ]
  },
  {
   "cell_type": "code",
   "execution_count": 35,
   "id": "0b4e6929-28e5-42e2-9ed4-d583b0fcd859",
   "metadata": {},
   "outputs": [
    {
     "name": "stdin",
     "output_type": "stream",
     "text": [
      "enter lower number 10\n",
      "enter upper number 100\n"
     ]
    },
    {
     "name": "stdout",
     "output_type": "stream",
     "text": [
      "11\n",
      "13\n",
      "17\n",
      "19\n",
      "23\n",
      "29\n",
      "31\n",
      "37\n",
      "41\n",
      "43\n",
      "47\n",
      "53\n",
      "59\n",
      "61\n",
      "67\n",
      "71\n",
      "73\n",
      "79\n",
      "83\n",
      "89\n",
      "97\n"
     ]
    }
   ],
   "source": [
    "# e.g 2) break\n",
    "lower = int(input('enter lower number'))\n",
    "upper = int(input('enter upper number'))\n",
    "\n",
    "for i in range(lower, upper+1):\n",
    "    for j in range(2,i):\n",
    "        if i%j == 0:\n",
    "            break\n",
    "    else:\n",
    "        print(i)"
   ]
  },
  {
   "cell_type": "markdown",
   "id": "0b1ca9ac-575e-427d-aa9f-425acc7a0bdc",
   "metadata": {},
   "source": [
    "- Continue - it skip the perticular number in the iteration and move forward in the loop\n",
    "- example - in ecommerce website if your stock has been 0 then used the continue where flipcart used continue statement and move on to the next product where atleast 1 product available."
   ]
  },
  {
   "cell_type": "code",
   "execution_count": 2,
   "id": "27417092-e2e7-4c30-8aae-e955abaef760",
   "metadata": {},
   "outputs": [
    {
     "name": "stdin",
     "output_type": "stream",
     "text": [
      "enter the number 10\n"
     ]
    },
    {
     "name": "stdout",
     "output_type": "stream",
     "text": [
      "1\n",
      "2\n",
      "3\n",
      "4\n",
      "6\n",
      "7\n",
      "8\n",
      "9\n",
      "10\n"
     ]
    }
   ],
   "source": [
    "# e.g: see in the iteration it skips the 5th number\n",
    "\n",
    "num = int(input('enter the number'))\n",
    "\n",
    "for i in range(1,num+1):\n",
    "    if i == 5:\n",
    "        continue\n",
    "    else:\n",
    "        print(i)"
   ]
  },
  {
   "cell_type": "markdown",
   "id": "eb302e95-d2b0-45de-814a-20c25278a860",
   "metadata": {},
   "source": [
    "- Pass : we used this pass for passed the staetment dont be be thorugh an error . just pass it "
   ]
  },
  {
   "cell_type": "code",
   "execution_count": 1,
   "id": "1c18f261-d9e4-46a5-bfc8-00f71c766eaf",
   "metadata": {},
   "outputs": [
    {
     "ename": "SyntaxError",
     "evalue": "incomplete input (120361720.py, line 2)",
     "output_type": "error",
     "traceback": [
      "\u001b[0;36m  Cell \u001b[0;32mIn [1], line 2\u001b[0;36m\u001b[0m\n\u001b[0;31m    \u001b[0m\n\u001b[0m    ^\u001b[0m\n\u001b[0;31mSyntaxError\u001b[0m\u001b[0;31m:\u001b[0m incomplete input\n"
     ]
    }
   ],
   "source": [
    "## see while running the loop it throwing a error \n",
    "for i in range(1,10):\n",
    "    \n",
    "    "
   ]
  },
  {
   "cell_type": "code",
   "execution_count": 2,
   "id": "3f253e5f-43ef-45aa-9656-7945786428e5",
   "metadata": {},
   "outputs": [],
   "source": [
    "# s to dont through an error we used the passed statement\n",
    "for i in range(1,10):\n",
    "    pass\n",
    "    \n",
    "    "
   ]
  }
 ],
 "metadata": {
  "kernelspec": {
   "display_name": "Python 3 (ipykernel)",
   "language": "python",
   "name": "python3"
  },
  "language_info": {
   "codemirror_mode": {
    "name": "ipython",
    "version": 3
   },
   "file_extension": ".py",
   "mimetype": "text/x-python",
   "name": "python",
   "nbconvert_exporter": "python",
   "pygments_lexer": "ipython3",
   "version": "3.10.6"
  }
 },
 "nbformat": 4,
 "nbformat_minor": 5
}
